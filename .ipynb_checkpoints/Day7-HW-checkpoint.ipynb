{
 "cells": [
  {
   "cell_type": "markdown",
   "id": "a9215f5c-525b-4508-8b0d-700f55cbd252",
   "metadata": {},
   "source": [
    "## Introduction to Data Science\n",
    "\n",
    "#### University of Redlands - DATA 101\n",
    "#### Prof: Joanna Bieri [joanna_bieri@redlands.edu](mailto:joanna_bieri@redlands.edu)\n",
    "#### [Class Website: data101.joannabieri.com](https://joannabieri.com/data101.html)\n",
    "\n",
    "---------------------------------------\n",
    "# Homework Day 7\n",
    "---------------------------------------\n",
    "\n",
    "GOALS:\n",
    "\n",
    "1. Answer all the questions from the lecture - we will use the scientists data and the grocery data.\n",
    "2. Analyze data about College majors - your first EDA! (Think of this as a practice exam.)\n",
    "\n",
    "----------------------------------------------------------\n",
    "\n",
    "This homework has **9 Questions** and **A Practice Exam**\n",
    "\n",
    "NOTE:\n",
    "The practice exam is intended to give you an idea of what an exam in this class might feel like. Remember you will be expected to work on the exam **independently** and submit your work before we get together to work on the exam in class. **15\\% of your Exam grade will come from what you can do independently** so start practicing now and get help if you need it!."
   ]
  },
  {
   "cell_type": "code",
   "execution_count": 1,
   "id": "049c24b6-a6c1-4ccc-b2de-5ea0366d09f8",
   "metadata": {},
   "outputs": [],
   "source": [
    "import numpy as np\n",
    "import pandas as pd\n",
    "\n",
    "import matplotlib.pyplot as plt\n",
    "import plotly.express as px\n",
    "from plotly.subplots import make_subplots\n",
    "import plotly.io as pio\n",
    "pio.renderers.defaule = 'colab'\n",
    "\n",
    "from itables import show"
   ]
  },
  {
   "cell_type": "markdown",
   "id": "23773272-c059-4148-a5a8-91e9da594c46",
   "metadata": {},
   "source": [
    "## Lecture Questions\n",
    "\n",
    "First we will import the data about female scientists."
   ]
  },
  {
   "cell_type": "code",
   "execution_count": 3,
   "id": "e90fdd5f-bd17-4c94-b3f4-7ddc998bd001",
   "metadata": {},
   "outputs": [
    {
     "data": {
      "text/html": [
       "<table id=\"itables_542f6c24_1882_4cab_8bd1_b4bca6fdcb0d\" class=\"display nowrap\" data-quarto-disable-processing=\"true\" style=\"table-layout:auto;width:auto;margin:auto;caption-side:bottom\">\n",
       "<thead>\n",
       "    <tr style=\"text-align: right;\">\n",
       "      \n",
       "      <th>name</th>\n",
       "      <th>birth_year</th>\n",
       "      <th>death_year</th>\n",
       "    </tr>\n",
       "  </thead><tbody><tr>\n",
       "<td style=\"vertical-align:middle; text-align:left\">\n",
       "<div style=\"float:left; margin-right: 10px;\">\n",
       "<a href=https://mwouts.github.io/itables/><svg class=\"main-svg\" xmlns=\"http://www.w3.org/2000/svg\" xmlns:xlink=\"http://www.w3.org/1999/xlink\"\n",
       "width=\"64\" viewBox=\"0 0 500 400\" style=\"font-family: 'Droid Sans', sans-serif;\">\n",
       "    <g style=\"fill:#d9d7fc\">\n",
       "        <path d=\"M100,400H500V357H100Z\" />\n",
       "        <path d=\"M100,300H400V257H100Z\" />\n",
       "        <path d=\"M0,200H400V157H0Z\" />\n",
       "        <path d=\"M100,100H500V57H100Z\" />\n",
       "        <path d=\"M100,350H500V307H100Z\" />\n",
       "        <path d=\"M100,250H400V207H100Z\" />\n",
       "        <path d=\"M0,150H400V107H0Z\" />\n",
       "        <path d=\"M100,50H500V7H100Z\" />\n",
       "    </g>\n",
       "    <g style=\"fill:#1a1366;stroke:#1a1366;\">\n",
       "   <rect x=\"100\" y=\"7\" width=\"400\" height=\"43\">\n",
       "    <animate\n",
       "      attributeName=\"width\"\n",
       "      values=\"0;400;0\"\n",
       "      dur=\"5s\"\n",
       "      repeatCount=\"indefinite\" />\n",
       "      <animate\n",
       "      attributeName=\"x\"\n",
       "      values=\"100;100;500\"\n",
       "      dur=\"5s\"\n",
       "      repeatCount=\"indefinite\" />\n",
       "  </rect>\n",
       "        <rect x=\"0\" y=\"107\" width=\"400\" height=\"43\">\n",
       "    <animate\n",
       "      attributeName=\"width\"\n",
       "      values=\"0;400;0\"\n",
       "      dur=\"3.5s\"\n",
       "      repeatCount=\"indefinite\" />\n",
       "    <animate\n",
       "      attributeName=\"x\"\n",
       "      values=\"0;0;400\"\n",
       "      dur=\"3.5s\"\n",
       "      repeatCount=\"indefinite\" />\n",
       "  </rect>\n",
       "        <rect x=\"100\" y=\"207\" width=\"300\" height=\"43\">\n",
       "    <animate\n",
       "      attributeName=\"width\"\n",
       "      values=\"0;300;0\"\n",
       "      dur=\"3s\"\n",
       "      repeatCount=\"indefinite\" />\n",
       "    <animate\n",
       "      attributeName=\"x\"\n",
       "      values=\"100;100;400\"\n",
       "      dur=\"3s\"\n",
       "      repeatCount=\"indefinite\" />\n",
       "  </rect>\n",
       "        <rect x=\"100\" y=\"307\" width=\"400\" height=\"43\">\n",
       "    <animate\n",
       "      attributeName=\"width\"\n",
       "      values=\"0;400;0\"\n",
       "      dur=\"4s\"\n",
       "      repeatCount=\"indefinite\" />\n",
       "      <animate\n",
       "      attributeName=\"x\"\n",
       "      values=\"100;100;500\"\n",
       "      dur=\"4s\"\n",
       "      repeatCount=\"indefinite\" />\n",
       "  </rect>\n",
       "        <g style=\"fill:transparent;stroke-width:8; stroke-linejoin:round\" rx=\"5\">\n",
       "            <g transform=\"translate(45 50) rotate(-45)\">\n",
       "                <circle r=\"33\" cx=\"0\" cy=\"0\" />\n",
       "                <rect x=\"-8\" y=\"32\" width=\"16\" height=\"30\" />\n",
       "            </g>\n",
       "\n",
       "            <g transform=\"translate(450 152)\">\n",
       "                <polyline points=\"-15,-20 -35,-20 -35,40 25,40 25,20\" />\n",
       "                <rect x=\"-15\" y=\"-40\" width=\"60\" height=\"60\" />\n",
       "            </g>\n",
       "\n",
       "            <g transform=\"translate(50 352)\">\n",
       "                <polygon points=\"-35,-5 0,-40 35,-5\" />\n",
       "                <polygon points=\"-35,10 0,45 35,10\" />\n",
       "            </g>\n",
       "\n",
       "            <g transform=\"translate(75 250)\">\n",
       "                <polyline points=\"-30,30 -60,0 -30,-30\" />\n",
       "                <polyline points=\"0,30 -30,0 0,-30\" />\n",
       "            </g>\n",
       "\n",
       "            <g transform=\"translate(425 250) rotate(180)\">\n",
       "                <polyline points=\"-30,30 -60,0 -30,-30\" />\n",
       "                <polyline points=\"0,30 -30,0 0,-30\" />\n",
       "            </g>\n",
       "        </g>\n",
       "    </g>\n",
       "</svg>\n",
       "</a>\n",
       "</div>\n",
       "<div>\n",
       "Loading ITables v2.1.4 from the internet...\n",
       "(need <a href=https://mwouts.github.io/itables/troubleshooting.html>help</a>?)</td>\n",
       "</div>\n",
       "</tr></tbody>\n",
       "\n",
       "</table>\n",
       "<link href=\"https://www.unpkg.com/dt_for_itables@2.0.11/dt_bundle.css\" rel=\"stylesheet\">\n",
       "<script type=\"module\">\n",
       "    import {DataTable, jQuery as $} from 'https://www.unpkg.com/dt_for_itables@2.0.11/dt_bundle.js';\n",
       "\n",
       "    document.querySelectorAll(\"#itables_542f6c24_1882_4cab_8bd1_b4bca6fdcb0d:not(.dataTable)\").forEach(table => {\n",
       "        // Define the table data\n",
       "        const data = [[\"Janaki Ammal\", 1897, 1984.0], [\"Chien-Shiung Wu\", 1912, 1997.0], [\"Katherine Johnson\", 1918, 2020.0], [\"Rosalind Franklin\", 1920, 1958.0], [\"Vera Rubin\", 1928, 2016.0], [\"Gladys West\", 1930, NaN], [\"Flossie Wong-Staal\", 1947, NaN], [\"Jennifer Doudna\", 1964, NaN]];\n",
       "\n",
       "        // Define the dt_args\n",
       "        let dt_args = {\"layout\": {\"topStart\": null, \"topEnd\": null, \"bottomStart\": null, \"bottomEnd\": null}, \"order\": []};\n",
       "        dt_args[\"data\"] = data;\n",
       "\n",
       "        \n",
       "        new DataTable(table, dt_args);\n",
       "    });\n",
       "</script>\n"
      ],
      "text/plain": [
       "<IPython.core.display.HTML object>"
      ]
     },
     "metadata": {},
     "output_type": "display_data"
    },
    {
     "data": {
      "text/html": [
       "<table id=\"itables_92c5856a_784f_4f53_b762_d5f966a3bb0a\" class=\"display nowrap\" data-quarto-disable-processing=\"true\" style=\"table-layout:auto;width:auto;margin:auto;caption-side:bottom\">\n",
       "<thead>\n",
       "    <tr style=\"text-align: right;\">\n",
       "      \n",
       "      <th>name</th>\n",
       "      <th>profession</th>\n",
       "    </tr>\n",
       "  </thead><tbody><tr>\n",
       "<td style=\"vertical-align:middle; text-align:left\">\n",
       "<div style=\"float:left; margin-right: 10px;\">\n",
       "<a href=https://mwouts.github.io/itables/><svg class=\"main-svg\" xmlns=\"http://www.w3.org/2000/svg\" xmlns:xlink=\"http://www.w3.org/1999/xlink\"\n",
       "width=\"64\" viewBox=\"0 0 500 400\" style=\"font-family: 'Droid Sans', sans-serif;\">\n",
       "    <g style=\"fill:#d9d7fc\">\n",
       "        <path d=\"M100,400H500V357H100Z\" />\n",
       "        <path d=\"M100,300H400V257H100Z\" />\n",
       "        <path d=\"M0,200H400V157H0Z\" />\n",
       "        <path d=\"M100,100H500V57H100Z\" />\n",
       "        <path d=\"M100,350H500V307H100Z\" />\n",
       "        <path d=\"M100,250H400V207H100Z\" />\n",
       "        <path d=\"M0,150H400V107H0Z\" />\n",
       "        <path d=\"M100,50H500V7H100Z\" />\n",
       "    </g>\n",
       "    <g style=\"fill:#1a1366;stroke:#1a1366;\">\n",
       "   <rect x=\"100\" y=\"7\" width=\"400\" height=\"43\">\n",
       "    <animate\n",
       "      attributeName=\"width\"\n",
       "      values=\"0;400;0\"\n",
       "      dur=\"5s\"\n",
       "      repeatCount=\"indefinite\" />\n",
       "      <animate\n",
       "      attributeName=\"x\"\n",
       "      values=\"100;100;500\"\n",
       "      dur=\"5s\"\n",
       "      repeatCount=\"indefinite\" />\n",
       "  </rect>\n",
       "        <rect x=\"0\" y=\"107\" width=\"400\" height=\"43\">\n",
       "    <animate\n",
       "      attributeName=\"width\"\n",
       "      values=\"0;400;0\"\n",
       "      dur=\"3.5s\"\n",
       "      repeatCount=\"indefinite\" />\n",
       "    <animate\n",
       "      attributeName=\"x\"\n",
       "      values=\"0;0;400\"\n",
       "      dur=\"3.5s\"\n",
       "      repeatCount=\"indefinite\" />\n",
       "  </rect>\n",
       "        <rect x=\"100\" y=\"207\" width=\"300\" height=\"43\">\n",
       "    <animate\n",
       "      attributeName=\"width\"\n",
       "      values=\"0;300;0\"\n",
       "      dur=\"3s\"\n",
       "      repeatCount=\"indefinite\" />\n",
       "    <animate\n",
       "      attributeName=\"x\"\n",
       "      values=\"100;100;400\"\n",
       "      dur=\"3s\"\n",
       "      repeatCount=\"indefinite\" />\n",
       "  </rect>\n",
       "        <rect x=\"100\" y=\"307\" width=\"400\" height=\"43\">\n",
       "    <animate\n",
       "      attributeName=\"width\"\n",
       "      values=\"0;400;0\"\n",
       "      dur=\"4s\"\n",
       "      repeatCount=\"indefinite\" />\n",
       "      <animate\n",
       "      attributeName=\"x\"\n",
       "      values=\"100;100;500\"\n",
       "      dur=\"4s\"\n",
       "      repeatCount=\"indefinite\" />\n",
       "  </rect>\n",
       "        <g style=\"fill:transparent;stroke-width:8; stroke-linejoin:round\" rx=\"5\">\n",
       "            <g transform=\"translate(45 50) rotate(-45)\">\n",
       "                <circle r=\"33\" cx=\"0\" cy=\"0\" />\n",
       "                <rect x=\"-8\" y=\"32\" width=\"16\" height=\"30\" />\n",
       "            </g>\n",
       "\n",
       "            <g transform=\"translate(450 152)\">\n",
       "                <polyline points=\"-15,-20 -35,-20 -35,40 25,40 25,20\" />\n",
       "                <rect x=\"-15\" y=\"-40\" width=\"60\" height=\"60\" />\n",
       "            </g>\n",
       "\n",
       "            <g transform=\"translate(50 352)\">\n",
       "                <polygon points=\"-35,-5 0,-40 35,-5\" />\n",
       "                <polygon points=\"-35,10 0,45 35,10\" />\n",
       "            </g>\n",
       "\n",
       "            <g transform=\"translate(75 250)\">\n",
       "                <polyline points=\"-30,30 -60,0 -30,-30\" />\n",
       "                <polyline points=\"0,30 -30,0 0,-30\" />\n",
       "            </g>\n",
       "\n",
       "            <g transform=\"translate(425 250) rotate(180)\">\n",
       "                <polyline points=\"-30,30 -60,0 -30,-30\" />\n",
       "                <polyline points=\"0,30 -30,0 0,-30\" />\n",
       "            </g>\n",
       "        </g>\n",
       "    </g>\n",
       "</svg>\n",
       "</a>\n",
       "</div>\n",
       "<div>\n",
       "Loading ITables v2.1.4 from the internet...\n",
       "(need <a href=https://mwouts.github.io/itables/troubleshooting.html>help</a>?)</td>\n",
       "</div>\n",
       "</tr></tbody>\n",
       "\n",
       "</table>\n",
       "<link href=\"https://www.unpkg.com/dt_for_itables@2.0.11/dt_bundle.css\" rel=\"stylesheet\">\n",
       "<script type=\"module\">\n",
       "    import {DataTable, jQuery as $} from 'https://www.unpkg.com/dt_for_itables@2.0.11/dt_bundle.js';\n",
       "\n",
       "    document.querySelectorAll(\"#itables_92c5856a_784f_4f53_b762_d5f966a3bb0a:not(.dataTable)\").forEach(table => {\n",
       "        // Define the table data\n",
       "        const data = [[\"Ada Lovelace\", \"Mathematician\"], [\"Marie Curie\", \"Physicist and Chemist\"], [\"Janaki Ammal\", \"Botanist\"], [\"Chien-Shiung Wu\", \"Physicist\"], [\"Katherine Johnson\", \"Mathematician\"], [\"Rosalind Franklin\", \"Chemist\"], [\"Vera Rubin\", \"Astronomer\"], [\"Gladys West\", \"Mathematician\"], [\"Flossie Wong-Staal\", \"Virologist and Molecular Biologist\"], [\"Jennifer Doudna\", \"Biochemist\"]];\n",
       "\n",
       "        // Define the dt_args\n",
       "        let dt_args = {\"layout\": {\"topStart\": null, \"topEnd\": null, \"bottomStart\": null, \"bottomEnd\": null}, \"order\": []};\n",
       "        dt_args[\"data\"] = data;\n",
       "\n",
       "        \n",
       "        new DataTable(table, dt_args);\n",
       "    });\n",
       "</script>\n"
      ],
      "text/plain": [
       "<IPython.core.display.HTML object>"
      ]
     },
     "metadata": {},
     "output_type": "display_data"
    },
    {
     "data": {
      "text/html": [
       "<table id=\"itables_172f0aca_352c_4150_bde2_5aed633b24fa\" class=\"display nowrap\" data-quarto-disable-processing=\"true\" style=\"table-layout:auto;width:auto;margin:auto;caption-side:bottom\">\n",
       "<thead>\n",
       "    <tr style=\"text-align: right;\">\n",
       "      \n",
       "      <th>name</th>\n",
       "      <th>known_for</th>\n",
       "    </tr>\n",
       "  </thead><tbody><tr>\n",
       "<td style=\"vertical-align:middle; text-align:left\">\n",
       "<div style=\"float:left; margin-right: 10px;\">\n",
       "<a href=https://mwouts.github.io/itables/><svg class=\"main-svg\" xmlns=\"http://www.w3.org/2000/svg\" xmlns:xlink=\"http://www.w3.org/1999/xlink\"\n",
       "width=\"64\" viewBox=\"0 0 500 400\" style=\"font-family: 'Droid Sans', sans-serif;\">\n",
       "    <g style=\"fill:#d9d7fc\">\n",
       "        <path d=\"M100,400H500V357H100Z\" />\n",
       "        <path d=\"M100,300H400V257H100Z\" />\n",
       "        <path d=\"M0,200H400V157H0Z\" />\n",
       "        <path d=\"M100,100H500V57H100Z\" />\n",
       "        <path d=\"M100,350H500V307H100Z\" />\n",
       "        <path d=\"M100,250H400V207H100Z\" />\n",
       "        <path d=\"M0,150H400V107H0Z\" />\n",
       "        <path d=\"M100,50H500V7H100Z\" />\n",
       "    </g>\n",
       "    <g style=\"fill:#1a1366;stroke:#1a1366;\">\n",
       "   <rect x=\"100\" y=\"7\" width=\"400\" height=\"43\">\n",
       "    <animate\n",
       "      attributeName=\"width\"\n",
       "      values=\"0;400;0\"\n",
       "      dur=\"5s\"\n",
       "      repeatCount=\"indefinite\" />\n",
       "      <animate\n",
       "      attributeName=\"x\"\n",
       "      values=\"100;100;500\"\n",
       "      dur=\"5s\"\n",
       "      repeatCount=\"indefinite\" />\n",
       "  </rect>\n",
       "        <rect x=\"0\" y=\"107\" width=\"400\" height=\"43\">\n",
       "    <animate\n",
       "      attributeName=\"width\"\n",
       "      values=\"0;400;0\"\n",
       "      dur=\"3.5s\"\n",
       "      repeatCount=\"indefinite\" />\n",
       "    <animate\n",
       "      attributeName=\"x\"\n",
       "      values=\"0;0;400\"\n",
       "      dur=\"3.5s\"\n",
       "      repeatCount=\"indefinite\" />\n",
       "  </rect>\n",
       "        <rect x=\"100\" y=\"207\" width=\"300\" height=\"43\">\n",
       "    <animate\n",
       "      attributeName=\"width\"\n",
       "      values=\"0;300;0\"\n",
       "      dur=\"3s\"\n",
       "      repeatCount=\"indefinite\" />\n",
       "    <animate\n",
       "      attributeName=\"x\"\n",
       "      values=\"100;100;400\"\n",
       "      dur=\"3s\"\n",
       "      repeatCount=\"indefinite\" />\n",
       "  </rect>\n",
       "        <rect x=\"100\" y=\"307\" width=\"400\" height=\"43\">\n",
       "    <animate\n",
       "      attributeName=\"width\"\n",
       "      values=\"0;400;0\"\n",
       "      dur=\"4s\"\n",
       "      repeatCount=\"indefinite\" />\n",
       "      <animate\n",
       "      attributeName=\"x\"\n",
       "      values=\"100;100;500\"\n",
       "      dur=\"4s\"\n",
       "      repeatCount=\"indefinite\" />\n",
       "  </rect>\n",
       "        <g style=\"fill:transparent;stroke-width:8; stroke-linejoin:round\" rx=\"5\">\n",
       "            <g transform=\"translate(45 50) rotate(-45)\">\n",
       "                <circle r=\"33\" cx=\"0\" cy=\"0\" />\n",
       "                <rect x=\"-8\" y=\"32\" width=\"16\" height=\"30\" />\n",
       "            </g>\n",
       "\n",
       "            <g transform=\"translate(450 152)\">\n",
       "                <polyline points=\"-15,-20 -35,-20 -35,40 25,40 25,20\" />\n",
       "                <rect x=\"-15\" y=\"-40\" width=\"60\" height=\"60\" />\n",
       "            </g>\n",
       "\n",
       "            <g transform=\"translate(50 352)\">\n",
       "                <polygon points=\"-35,-5 0,-40 35,-5\" />\n",
       "                <polygon points=\"-35,10 0,45 35,10\" />\n",
       "            </g>\n",
       "\n",
       "            <g transform=\"translate(75 250)\">\n",
       "                <polyline points=\"-30,30 -60,0 -30,-30\" />\n",
       "                <polyline points=\"0,30 -30,0 0,-30\" />\n",
       "            </g>\n",
       "\n",
       "            <g transform=\"translate(425 250) rotate(180)\">\n",
       "                <polyline points=\"-30,30 -60,0 -30,-30\" />\n",
       "                <polyline points=\"0,30 -30,0 0,-30\" />\n",
       "            </g>\n",
       "        </g>\n",
       "    </g>\n",
       "</svg>\n",
       "</a>\n",
       "</div>\n",
       "<div>\n",
       "Loading ITables v2.1.4 from the internet...\n",
       "(need <a href=https://mwouts.github.io/itables/troubleshooting.html>help</a>?)</td>\n",
       "</div>\n",
       "</tr></tbody>\n",
       "\n",
       "</table>\n",
       "<link href=\"https://www.unpkg.com/dt_for_itables@2.0.11/dt_bundle.css\" rel=\"stylesheet\">\n",
       "<script type=\"module\">\n",
       "    import {DataTable, jQuery as $} from 'https://www.unpkg.com/dt_for_itables@2.0.11/dt_bundle.js';\n",
       "\n",
       "    document.querySelectorAll(\"#itables_172f0aca_352c_4150_bde2_5aed633b24fa:not(.dataTable)\").forEach(table => {\n",
       "        // Define the table data\n",
       "        const data = [[\"Ada Lovelace\", \"first computer algorithm\"], [\"Marie Curie\", \"theory of radioactivity,  discovery of elements polonium and radium, first woman to win a Nobel Prize\"], [\"Janaki Ammal\", \"hybrid species, biodiversity protection\"], [\"Chien-Shiung Wu\", \"confim and refine theory of radioactive beta decy, Wu experiment overturning theory of parity\"], [\"Katherine Johnson\", \"calculations of orbital mechanics critical to sending the first Americans into space\"], [\"Vera Rubin\", \"existence of dark matter\"], [\"Gladys West\", \"mathematical modeling of the shape of the Earth which served as the foundation of GPS technology\"], [\"Flossie Wong-Staal\", \"first scientist to clone HIV and create a map of its genes which led to a test for the virus\"], [\"Jennifer Doudna\", \"one of the primary developers of CRISPR, a ground-breaking technology for editing genomes\"]];\n",
       "\n",
       "        // Define the dt_args\n",
       "        let dt_args = {\"layout\": {\"topStart\": null, \"topEnd\": null, \"bottomStart\": null, \"bottomEnd\": null}, \"order\": []};\n",
       "        dt_args[\"data\"] = data;\n",
       "\n",
       "        \n",
       "        new DataTable(table, dt_args);\n",
       "    });\n",
       "</script>\n"
      ],
      "text/plain": [
       "<IPython.core.display.HTML object>"
      ]
     },
     "metadata": {},
     "output_type": "display_data"
    }
   ],
   "source": [
    "file1 = 'https://joannabieri.com/introdatascience/data/dates.csv'\n",
    "DF_dates = pd.read_csv(file1)\n",
    "file2 = 'https://joannabieri.com/introdatascience/data/professions.csv'\n",
    "DF_professions = pd.read_csv(file2)\n",
    "file3 = 'https://joannabieri.com/introdatascience/data/works.csv'\n",
    "DF_works = pd.read_csv(file3)\n",
    "show(DF_dates)\n",
    "show(DF_professions)\n",
    "show(DF_works)"
   ]
  },
  {
   "cell_type": "markdown",
   "id": "941e4499-edd1-4210-b3ff-292dd2eb4df7",
   "metadata": {},
   "source": [
    "**Q1** Are each of these data sets Tidy?\n",
    "Yes. Otherwise pandas would have given us really weird tables.\n",
    "\n",
    "**Q2** Do they all contain the same number of observations?\n",
    "No\n",
    "\n",
    "**Q3** What are the five variables?\n",
    "name, birth year, death year, profession, known for\n",
    "\n",
    "**Q4** What variable do they have in common - what can we join **on**\n",
    "name"
   ]
  },
  {
   "cell_type": "markdown",
   "id": "0e1f769b-d87d-429a-9de8-c35af020525d",
   "metadata": {},
   "source": [
    "1. Yes. Otherwise pandas would have given us really weird tables.\n",
    "\n",
    "2. Do they all contain the same number of observations?\n",
    "No\n",
    "\n",
    "3. name, birth_year, death_year, profession, known_for\n",
    "\n",
    "4. name"
   ]
  },
  {
   "cell_type": "markdown",
   "id": "fa09683e-ac6a-4cb5-a47d-6cbf580524d2",
   "metadata": {},
   "source": [
    "## Combining Three Data Sets\n",
    "\n",
    "You need to think about the order and whether or not you want to keep the maximum number of names or only keep names that are in all the data frames.\n",
    "\n",
    "In this case we will try to keep the maximal amount of data - the maximum number of names.\n",
    "\n",
    "1. Combine the professions and works data\n",
    "2. Then add the dates data"
   ]
  },
  {
   "cell_type": "code",
   "execution_count": 9,
   "id": "1e06d293-4d62-49f6-86c5-568b22cee865",
   "metadata": {},
   "outputs": [
    {
     "data": {
      "text/html": [
       "<div>\n",
       "<style scoped>\n",
       "    .dataframe tbody tr th:only-of-type {\n",
       "        vertical-align: middle;\n",
       "    }\n",
       "\n",
       "    .dataframe tbody tr th {\n",
       "        vertical-align: top;\n",
       "    }\n",
       "\n",
       "    .dataframe thead th {\n",
       "        text-align: right;\n",
       "    }\n",
       "</style>\n",
       "<table border=\"1\" class=\"dataframe\">\n",
       "  <thead>\n",
       "    <tr style=\"text-align: right;\">\n",
       "      <th></th>\n",
       "      <th>name</th>\n",
       "      <th>profession</th>\n",
       "      <th>known_for</th>\n",
       "      <th>birth_year</th>\n",
       "      <th>death_year</th>\n",
       "    </tr>\n",
       "  </thead>\n",
       "  <tbody>\n",
       "    <tr>\n",
       "      <th>0</th>\n",
       "      <td>Ada Lovelace</td>\n",
       "      <td>Mathematician</td>\n",
       "      <td>first computer algorithm</td>\n",
       "      <td>NaN</td>\n",
       "      <td>NaN</td>\n",
       "    </tr>\n",
       "    <tr>\n",
       "      <th>1</th>\n",
       "      <td>Marie Curie</td>\n",
       "      <td>Physicist and Chemist</td>\n",
       "      <td>theory of radioactivity,  discovery of element...</td>\n",
       "      <td>NaN</td>\n",
       "      <td>NaN</td>\n",
       "    </tr>\n",
       "    <tr>\n",
       "      <th>2</th>\n",
       "      <td>Janaki Ammal</td>\n",
       "      <td>Botanist</td>\n",
       "      <td>hybrid species, biodiversity protection</td>\n",
       "      <td>1897.0</td>\n",
       "      <td>1984.0</td>\n",
       "    </tr>\n",
       "    <tr>\n",
       "      <th>3</th>\n",
       "      <td>Chien-Shiung Wu</td>\n",
       "      <td>Physicist</td>\n",
       "      <td>confim and refine theory of radioactive beta d...</td>\n",
       "      <td>1912.0</td>\n",
       "      <td>1997.0</td>\n",
       "    </tr>\n",
       "    <tr>\n",
       "      <th>4</th>\n",
       "      <td>Katherine Johnson</td>\n",
       "      <td>Mathematician</td>\n",
       "      <td>calculations of orbital mechanics critical to ...</td>\n",
       "      <td>1918.0</td>\n",
       "      <td>2020.0</td>\n",
       "    </tr>\n",
       "    <tr>\n",
       "      <th>5</th>\n",
       "      <td>Rosalind Franklin</td>\n",
       "      <td>Chemist</td>\n",
       "      <td>NaN</td>\n",
       "      <td>1920.0</td>\n",
       "      <td>1958.0</td>\n",
       "    </tr>\n",
       "    <tr>\n",
       "      <th>6</th>\n",
       "      <td>Vera Rubin</td>\n",
       "      <td>Astronomer</td>\n",
       "      <td>existence of dark matter</td>\n",
       "      <td>1928.0</td>\n",
       "      <td>2016.0</td>\n",
       "    </tr>\n",
       "    <tr>\n",
       "      <th>7</th>\n",
       "      <td>Gladys West</td>\n",
       "      <td>Mathematician</td>\n",
       "      <td>mathematical modeling of the shape of the Eart...</td>\n",
       "      <td>1930.0</td>\n",
       "      <td>NaN</td>\n",
       "    </tr>\n",
       "    <tr>\n",
       "      <th>8</th>\n",
       "      <td>Flossie Wong-Staal</td>\n",
       "      <td>Virologist and Molecular Biologist</td>\n",
       "      <td>first scientist to clone HIV and create a map ...</td>\n",
       "      <td>1947.0</td>\n",
       "      <td>NaN</td>\n",
       "    </tr>\n",
       "    <tr>\n",
       "      <th>9</th>\n",
       "      <td>Jennifer Doudna</td>\n",
       "      <td>Biochemist</td>\n",
       "      <td>one of the primary developers of CRISPR, a gro...</td>\n",
       "      <td>1964.0</td>\n",
       "      <td>NaN</td>\n",
       "    </tr>\n",
       "  </tbody>\n",
       "</table>\n",
       "</div>"
      ],
      "text/plain": [
       "                 name                          profession  \\\n",
       "0        Ada Lovelace                       Mathematician   \n",
       "1         Marie Curie               Physicist and Chemist   \n",
       "2        Janaki Ammal                            Botanist   \n",
       "3     Chien-Shiung Wu                           Physicist   \n",
       "4   Katherine Johnson                       Mathematician   \n",
       "5   Rosalind Franklin                             Chemist   \n",
       "6          Vera Rubin                          Astronomer   \n",
       "7         Gladys West                       Mathematician   \n",
       "8  Flossie Wong-Staal  Virologist and Molecular Biologist   \n",
       "9     Jennifer Doudna                          Biochemist   \n",
       "\n",
       "                                           known_for  birth_year  death_year  \n",
       "0                           first computer algorithm         NaN         NaN  \n",
       "1  theory of radioactivity,  discovery of element...         NaN         NaN  \n",
       "2            hybrid species, biodiversity protection      1897.0      1984.0  \n",
       "3  confim and refine theory of radioactive beta d...      1912.0      1997.0  \n",
       "4  calculations of orbital mechanics critical to ...      1918.0      2020.0  \n",
       "5                                                NaN      1920.0      1958.0  \n",
       "6                           existence of dark matter      1928.0      2016.0  \n",
       "7  mathematical modeling of the shape of the Eart...      1930.0         NaN  \n",
       "8  first scientist to clone HIV and create a map ...      1947.0         NaN  \n",
       "9  one of the primary developers of CRISPR, a gro...      1964.0         NaN  "
      ]
     },
     "execution_count": 9,
     "metadata": {},
     "output_type": "execute_result"
    }
   ],
   "source": [
    "# 1. Combine the professions and works data\n",
    "DF_scientists = pd.merge(DF_professions,DF_works,on='name',how='left')\n",
    "DF_scientists\n",
    "# 2. Then add the dates data\n",
    "DF_scientists = pd.merge(DF_scientists,DF_dates,on='name',how='left')\n",
    "DF_scientists"
   ]
  },
  {
   "cell_type": "markdown",
   "id": "e2bbc33c-6c0e-4ca8-ad72-de5018bddce8",
   "metadata": {},
   "source": [
    "**Q5** What, if anything, would change if you switched to how='right'?"
   ]
  },
  {
   "cell_type": "markdown",
   "id": "def3bc37-ca8a-4782-a154-6b51e084b944",
   "metadata": {},
   "source": [
    "We would have lost Ada Lovelace, I believe."
   ]
  },
  {
   "cell_type": "markdown",
   "id": "26a9dee0-e533-4439-8972-f2e69b544ec9",
   "metadata": {},
   "source": [
    "## Combining Two Data Sets - You Try\n",
    "\n",
    "**Q6** Write code that would combine the professions data and the dates data, but drop any names that don't appear in both."
   ]
  },
  {
   "cell_type": "code",
   "execution_count": 18,
   "id": "18d09352-c2dc-4c21-887d-7e54387c55a9",
   "metadata": {},
   "outputs": [
    {
     "data": {
      "text/html": [
       "<table id=\"itables_c52f1456_1bdc_4821_88a1_b62f4a293616\" class=\"display nowrap\" data-quarto-disable-processing=\"true\" style=\"table-layout:auto;width:auto;margin:auto;caption-side:bottom\">\n",
       "<thead>\n",
       "    <tr style=\"text-align: right;\">\n",
       "      \n",
       "      <th>name</th>\n",
       "      <th>profession</th>\n",
       "      <th>birth_year</th>\n",
       "      <th>death_year</th>\n",
       "    </tr>\n",
       "  </thead><tbody><tr>\n",
       "<td style=\"vertical-align:middle; text-align:left\">\n",
       "<div style=\"float:left; margin-right: 10px;\">\n",
       "<a href=https://mwouts.github.io/itables/><svg class=\"main-svg\" xmlns=\"http://www.w3.org/2000/svg\" xmlns:xlink=\"http://www.w3.org/1999/xlink\"\n",
       "width=\"64\" viewBox=\"0 0 500 400\" style=\"font-family: 'Droid Sans', sans-serif;\">\n",
       "    <g style=\"fill:#d9d7fc\">\n",
       "        <path d=\"M100,400H500V357H100Z\" />\n",
       "        <path d=\"M100,300H400V257H100Z\" />\n",
       "        <path d=\"M0,200H400V157H0Z\" />\n",
       "        <path d=\"M100,100H500V57H100Z\" />\n",
       "        <path d=\"M100,350H500V307H100Z\" />\n",
       "        <path d=\"M100,250H400V207H100Z\" />\n",
       "        <path d=\"M0,150H400V107H0Z\" />\n",
       "        <path d=\"M100,50H500V7H100Z\" />\n",
       "    </g>\n",
       "    <g style=\"fill:#1a1366;stroke:#1a1366;\">\n",
       "   <rect x=\"100\" y=\"7\" width=\"400\" height=\"43\">\n",
       "    <animate\n",
       "      attributeName=\"width\"\n",
       "      values=\"0;400;0\"\n",
       "      dur=\"5s\"\n",
       "      repeatCount=\"indefinite\" />\n",
       "      <animate\n",
       "      attributeName=\"x\"\n",
       "      values=\"100;100;500\"\n",
       "      dur=\"5s\"\n",
       "      repeatCount=\"indefinite\" />\n",
       "  </rect>\n",
       "        <rect x=\"0\" y=\"107\" width=\"400\" height=\"43\">\n",
       "    <animate\n",
       "      attributeName=\"width\"\n",
       "      values=\"0;400;0\"\n",
       "      dur=\"3.5s\"\n",
       "      repeatCount=\"indefinite\" />\n",
       "    <animate\n",
       "      attributeName=\"x\"\n",
       "      values=\"0;0;400\"\n",
       "      dur=\"3.5s\"\n",
       "      repeatCount=\"indefinite\" />\n",
       "  </rect>\n",
       "        <rect x=\"100\" y=\"207\" width=\"300\" height=\"43\">\n",
       "    <animate\n",
       "      attributeName=\"width\"\n",
       "      values=\"0;300;0\"\n",
       "      dur=\"3s\"\n",
       "      repeatCount=\"indefinite\" />\n",
       "    <animate\n",
       "      attributeName=\"x\"\n",
       "      values=\"100;100;400\"\n",
       "      dur=\"3s\"\n",
       "      repeatCount=\"indefinite\" />\n",
       "  </rect>\n",
       "        <rect x=\"100\" y=\"307\" width=\"400\" height=\"43\">\n",
       "    <animate\n",
       "      attributeName=\"width\"\n",
       "      values=\"0;400;0\"\n",
       "      dur=\"4s\"\n",
       "      repeatCount=\"indefinite\" />\n",
       "      <animate\n",
       "      attributeName=\"x\"\n",
       "      values=\"100;100;500\"\n",
       "      dur=\"4s\"\n",
       "      repeatCount=\"indefinite\" />\n",
       "  </rect>\n",
       "        <g style=\"fill:transparent;stroke-width:8; stroke-linejoin:round\" rx=\"5\">\n",
       "            <g transform=\"translate(45 50) rotate(-45)\">\n",
       "                <circle r=\"33\" cx=\"0\" cy=\"0\" />\n",
       "                <rect x=\"-8\" y=\"32\" width=\"16\" height=\"30\" />\n",
       "            </g>\n",
       "\n",
       "            <g transform=\"translate(450 152)\">\n",
       "                <polyline points=\"-15,-20 -35,-20 -35,40 25,40 25,20\" />\n",
       "                <rect x=\"-15\" y=\"-40\" width=\"60\" height=\"60\" />\n",
       "            </g>\n",
       "\n",
       "            <g transform=\"translate(50 352)\">\n",
       "                <polygon points=\"-35,-5 0,-40 35,-5\" />\n",
       "                <polygon points=\"-35,10 0,45 35,10\" />\n",
       "            </g>\n",
       "\n",
       "            <g transform=\"translate(75 250)\">\n",
       "                <polyline points=\"-30,30 -60,0 -30,-30\" />\n",
       "                <polyline points=\"0,30 -30,0 0,-30\" />\n",
       "            </g>\n",
       "\n",
       "            <g transform=\"translate(425 250) rotate(180)\">\n",
       "                <polyline points=\"-30,30 -60,0 -30,-30\" />\n",
       "                <polyline points=\"0,30 -30,0 0,-30\" />\n",
       "            </g>\n",
       "        </g>\n",
       "    </g>\n",
       "</svg>\n",
       "</a>\n",
       "</div>\n",
       "<div>\n",
       "Loading ITables v2.1.4 from the internet...\n",
       "(need <a href=https://mwouts.github.io/itables/troubleshooting.html>help</a>?)</td>\n",
       "</div>\n",
       "</tr></tbody>\n",
       "\n",
       "</table>\n",
       "<link href=\"https://www.unpkg.com/dt_for_itables@2.0.11/dt_bundle.css\" rel=\"stylesheet\">\n",
       "<script type=\"module\">\n",
       "    import {DataTable, jQuery as $} from 'https://www.unpkg.com/dt_for_itables@2.0.11/dt_bundle.js';\n",
       "\n",
       "    document.querySelectorAll(\"#itables_c52f1456_1bdc_4821_88a1_b62f4a293616:not(.dataTable)\").forEach(table => {\n",
       "        // Define the table data\n",
       "        const data = [[\"Janaki Ammal\", \"Botanist\", 1897, 1984.0], [\"Chien-Shiung Wu\", \"Physicist\", 1912, 1997.0], [\"Katherine Johnson\", \"Mathematician\", 1918, 2020.0], [\"Rosalind Franklin\", \"Chemist\", 1920, 1958.0], [\"Vera Rubin\", \"Astronomer\", 1928, 2016.0], [\"Gladys West\", \"Mathematician\", 1930, NaN], [\"Flossie Wong-Staal\", \"Virologist and Molecular Biologist\", 1947, NaN], [\"Jennifer Doudna\", \"Biochemist\", 1964, NaN]];\n",
       "\n",
       "        // Define the dt_args\n",
       "        let dt_args = {\"layout\": {\"topStart\": null, \"topEnd\": null, \"bottomStart\": null, \"bottomEnd\": null}, \"order\": []};\n",
       "        dt_args[\"data\"] = data;\n",
       "\n",
       "        \n",
       "        new DataTable(table, dt_args);\n",
       "    });\n",
       "</script>\n"
      ],
      "text/plain": [
       "<IPython.core.display.HTML object>"
      ]
     },
     "metadata": {},
     "output_type": "display_data"
    }
   ],
   "source": [
    "prof_date_out_df = pd.merge(DF_professions,DF_dates,on='name',how='inner')\n",
    "show(prof_date_out_df)"
   ]
  },
  {
   "cell_type": "markdown",
   "id": "81aaba84-81ab-4fc7-95cb-e6df13157e2c",
   "metadata": {},
   "source": [
    "## Combining Three Data Sets - You Try\n",
    "\n",
    "**Q7** Try to combine the three data sets together (professions, works, and dates) but instead of doing what we did above, see if you can keep only the names that appeared in all three data sets."
   ]
  },
  {
   "cell_type": "code",
   "execution_count": 24,
   "id": "c2766e8b-f125-4bd6-9937-13cd92c8ba62",
   "metadata": {},
   "outputs": [
    {
     "data": {
      "text/html": [
       "<div>\n",
       "<style scoped>\n",
       "    .dataframe tbody tr th:only-of-type {\n",
       "        vertical-align: middle;\n",
       "    }\n",
       "\n",
       "    .dataframe tbody tr th {\n",
       "        vertical-align: top;\n",
       "    }\n",
       "\n",
       "    .dataframe thead th {\n",
       "        text-align: right;\n",
       "    }\n",
       "</style>\n",
       "<table border=\"1\" class=\"dataframe\">\n",
       "  <thead>\n",
       "    <tr style=\"text-align: right;\">\n",
       "      <th></th>\n",
       "      <th>name</th>\n",
       "      <th>profession</th>\n",
       "      <th>known_for</th>\n",
       "      <th>birth_year</th>\n",
       "      <th>death_year</th>\n",
       "    </tr>\n",
       "  </thead>\n",
       "  <tbody>\n",
       "    <tr>\n",
       "      <th>0</th>\n",
       "      <td>Janaki Ammal</td>\n",
       "      <td>Botanist</td>\n",
       "      <td>hybrid species, biodiversity protection</td>\n",
       "      <td>1897</td>\n",
       "      <td>1984.0</td>\n",
       "    </tr>\n",
       "    <tr>\n",
       "      <th>1</th>\n",
       "      <td>Chien-Shiung Wu</td>\n",
       "      <td>Physicist</td>\n",
       "      <td>confim and refine theory of radioactive beta d...</td>\n",
       "      <td>1912</td>\n",
       "      <td>1997.0</td>\n",
       "    </tr>\n",
       "    <tr>\n",
       "      <th>2</th>\n",
       "      <td>Katherine Johnson</td>\n",
       "      <td>Mathematician</td>\n",
       "      <td>calculations of orbital mechanics critical to ...</td>\n",
       "      <td>1918</td>\n",
       "      <td>2020.0</td>\n",
       "    </tr>\n",
       "    <tr>\n",
       "      <th>3</th>\n",
       "      <td>Vera Rubin</td>\n",
       "      <td>Astronomer</td>\n",
       "      <td>existence of dark matter</td>\n",
       "      <td>1928</td>\n",
       "      <td>2016.0</td>\n",
       "    </tr>\n",
       "    <tr>\n",
       "      <th>4</th>\n",
       "      <td>Gladys West</td>\n",
       "      <td>Mathematician</td>\n",
       "      <td>mathematical modeling of the shape of the Eart...</td>\n",
       "      <td>1930</td>\n",
       "      <td>NaN</td>\n",
       "    </tr>\n",
       "    <tr>\n",
       "      <th>5</th>\n",
       "      <td>Flossie Wong-Staal</td>\n",
       "      <td>Virologist and Molecular Biologist</td>\n",
       "      <td>first scientist to clone HIV and create a map ...</td>\n",
       "      <td>1947</td>\n",
       "      <td>NaN</td>\n",
       "    </tr>\n",
       "    <tr>\n",
       "      <th>6</th>\n",
       "      <td>Jennifer Doudna</td>\n",
       "      <td>Biochemist</td>\n",
       "      <td>one of the primary developers of CRISPR, a gro...</td>\n",
       "      <td>1964</td>\n",
       "      <td>NaN</td>\n",
       "    </tr>\n",
       "  </tbody>\n",
       "</table>\n",
       "</div>"
      ],
      "text/plain": [
       "                 name                          profession  \\\n",
       "0        Janaki Ammal                            Botanist   \n",
       "1     Chien-Shiung Wu                           Physicist   \n",
       "2   Katherine Johnson                       Mathematician   \n",
       "3          Vera Rubin                          Astronomer   \n",
       "4         Gladys West                       Mathematician   \n",
       "5  Flossie Wong-Staal  Virologist and Molecular Biologist   \n",
       "6     Jennifer Doudna                          Biochemist   \n",
       "\n",
       "                                           known_for  birth_year  death_year  \n",
       "0            hybrid species, biodiversity protection        1897      1984.0  \n",
       "1  confim and refine theory of radioactive beta d...        1912      1997.0  \n",
       "2  calculations of orbital mechanics critical to ...        1918      2020.0  \n",
       "3                           existence of dark matter        1928      2016.0  \n",
       "4  mathematical modeling of the shape of the Eart...        1930         NaN  \n",
       "5  first scientist to clone HIV and create a map ...        1947         NaN  \n",
       "6  one of the primary developers of CRISPR, a gro...        1964         NaN  "
      ]
     },
     "execution_count": 24,
     "metadata": {},
     "output_type": "execute_result"
    }
   ],
   "source": [
    "DF_scientists_full = pd.merge(DF_professions,DF_works,on='name',how='inner')\n",
    "DF_scientists_full = pd.merge(DF_scientists_full,DF_dates,on='name',how='inner')\n",
    "DF_scientists_full"
   ]
  },
  {
   "cell_type": "markdown",
   "id": "e2a3bd38-8875-4133-9fb5-2080542349b6",
   "metadata": {},
   "source": [
    "## Case study - Grocery Sales\n",
    "\n",
    "Below you will load some data about grocery sales and see how joining or merging data can help us answer questions."
   ]
  },
  {
   "cell_type": "code",
   "execution_count": 26,
   "id": "e73afe67-db9b-49da-b8db-fe0e8d7b4bde",
   "metadata": {},
   "outputs": [
    {
     "data": {
      "text/html": [
       "<table id=\"itables_7e87a662_8119_43c6_87b3_a9f8d6514001\" class=\"display nowrap\" data-quarto-disable-processing=\"true\" style=\"table-layout:auto;width:auto;margin:auto;caption-side:bottom\">\n",
       "<thead>\n",
       "    <tr style=\"text-align: right;\">\n",
       "      \n",
       "      <th>customer_id</th>\n",
       "      <th>item</th>\n",
       "    </tr>\n",
       "  </thead><tbody><tr>\n",
       "<td style=\"vertical-align:middle; text-align:left\">\n",
       "<div style=\"float:left; margin-right: 10px;\">\n",
       "<a href=https://mwouts.github.io/itables/><svg class=\"main-svg\" xmlns=\"http://www.w3.org/2000/svg\" xmlns:xlink=\"http://www.w3.org/1999/xlink\"\n",
       "width=\"64\" viewBox=\"0 0 500 400\" style=\"font-family: 'Droid Sans', sans-serif;\">\n",
       "    <g style=\"fill:#d9d7fc\">\n",
       "        <path d=\"M100,400H500V357H100Z\" />\n",
       "        <path d=\"M100,300H400V257H100Z\" />\n",
       "        <path d=\"M0,200H400V157H0Z\" />\n",
       "        <path d=\"M100,100H500V57H100Z\" />\n",
       "        <path d=\"M100,350H500V307H100Z\" />\n",
       "        <path d=\"M100,250H400V207H100Z\" />\n",
       "        <path d=\"M0,150H400V107H0Z\" />\n",
       "        <path d=\"M100,50H500V7H100Z\" />\n",
       "    </g>\n",
       "    <g style=\"fill:#1a1366;stroke:#1a1366;\">\n",
       "   <rect x=\"100\" y=\"7\" width=\"400\" height=\"43\">\n",
       "    <animate\n",
       "      attributeName=\"width\"\n",
       "      values=\"0;400;0\"\n",
       "      dur=\"5s\"\n",
       "      repeatCount=\"indefinite\" />\n",
       "      <animate\n",
       "      attributeName=\"x\"\n",
       "      values=\"100;100;500\"\n",
       "      dur=\"5s\"\n",
       "      repeatCount=\"indefinite\" />\n",
       "  </rect>\n",
       "        <rect x=\"0\" y=\"107\" width=\"400\" height=\"43\">\n",
       "    <animate\n",
       "      attributeName=\"width\"\n",
       "      values=\"0;400;0\"\n",
       "      dur=\"3.5s\"\n",
       "      repeatCount=\"indefinite\" />\n",
       "    <animate\n",
       "      attributeName=\"x\"\n",
       "      values=\"0;0;400\"\n",
       "      dur=\"3.5s\"\n",
       "      repeatCount=\"indefinite\" />\n",
       "  </rect>\n",
       "        <rect x=\"100\" y=\"207\" width=\"300\" height=\"43\">\n",
       "    <animate\n",
       "      attributeName=\"width\"\n",
       "      values=\"0;300;0\"\n",
       "      dur=\"3s\"\n",
       "      repeatCount=\"indefinite\" />\n",
       "    <animate\n",
       "      attributeName=\"x\"\n",
       "      values=\"100;100;400\"\n",
       "      dur=\"3s\"\n",
       "      repeatCount=\"indefinite\" />\n",
       "  </rect>\n",
       "        <rect x=\"100\" y=\"307\" width=\"400\" height=\"43\">\n",
       "    <animate\n",
       "      attributeName=\"width\"\n",
       "      values=\"0;400;0\"\n",
       "      dur=\"4s\"\n",
       "      repeatCount=\"indefinite\" />\n",
       "      <animate\n",
       "      attributeName=\"x\"\n",
       "      values=\"100;100;500\"\n",
       "      dur=\"4s\"\n",
       "      repeatCount=\"indefinite\" />\n",
       "  </rect>\n",
       "        <g style=\"fill:transparent;stroke-width:8; stroke-linejoin:round\" rx=\"5\">\n",
       "            <g transform=\"translate(45 50) rotate(-45)\">\n",
       "                <circle r=\"33\" cx=\"0\" cy=\"0\" />\n",
       "                <rect x=\"-8\" y=\"32\" width=\"16\" height=\"30\" />\n",
       "            </g>\n",
       "\n",
       "            <g transform=\"translate(450 152)\">\n",
       "                <polyline points=\"-15,-20 -35,-20 -35,40 25,40 25,20\" />\n",
       "                <rect x=\"-15\" y=\"-40\" width=\"60\" height=\"60\" />\n",
       "            </g>\n",
       "\n",
       "            <g transform=\"translate(50 352)\">\n",
       "                <polygon points=\"-35,-5 0,-40 35,-5\" />\n",
       "                <polygon points=\"-35,10 0,45 35,10\" />\n",
       "            </g>\n",
       "\n",
       "            <g transform=\"translate(75 250)\">\n",
       "                <polyline points=\"-30,30 -60,0 -30,-30\" />\n",
       "                <polyline points=\"0,30 -30,0 0,-30\" />\n",
       "            </g>\n",
       "\n",
       "            <g transform=\"translate(425 250) rotate(180)\">\n",
       "                <polyline points=\"-30,30 -60,0 -30,-30\" />\n",
       "                <polyline points=\"0,30 -30,0 0,-30\" />\n",
       "            </g>\n",
       "        </g>\n",
       "    </g>\n",
       "</svg>\n",
       "</a>\n",
       "</div>\n",
       "<div>\n",
       "Loading ITables v2.1.4 from the internet...\n",
       "(need <a href=https://mwouts.github.io/itables/troubleshooting.html>help</a>?)</td>\n",
       "</div>\n",
       "</tr></tbody>\n",
       "\n",
       "</table>\n",
       "<link href=\"https://www.unpkg.com/dt_for_itables@2.0.11/dt_bundle.css\" rel=\"stylesheet\">\n",
       "<script type=\"module\">\n",
       "    import {DataTable, jQuery as $} from 'https://www.unpkg.com/dt_for_itables@2.0.11/dt_bundle.js';\n",
       "\n",
       "    document.querySelectorAll(\"#itables_7e87a662_8119_43c6_87b3_a9f8d6514001:not(.dataTable)\").forEach(table => {\n",
       "        // Define the table data\n",
       "        const data = [[1, \"bread\"], [1, \"milk\"], [1, \"banana\"], [2, \"milk\"], [2, \"toilet paper\"]];\n",
       "\n",
       "        // Define the dt_args\n",
       "        let dt_args = {\"layout\": {\"topStart\": null, \"topEnd\": null, \"bottomStart\": null, \"bottomEnd\": null}, \"order\": []};\n",
       "        dt_args[\"data\"] = data;\n",
       "\n",
       "        \n",
       "        new DataTable(table, dt_args);\n",
       "    });\n",
       "</script>\n"
      ],
      "text/plain": [
       "<IPython.core.display.HTML object>"
      ]
     },
     "metadata": {},
     "output_type": "display_data"
    },
    {
     "data": {
      "text/html": [
       "<table id=\"itables_c77fac8c_8a7f_490d_9abe_f9deba530390\" class=\"display nowrap\" data-quarto-disable-processing=\"true\" style=\"table-layout:auto;width:auto;margin:auto;caption-side:bottom\">\n",
       "<thead>\n",
       "    <tr style=\"text-align: right;\">\n",
       "      \n",
       "      <th>item</th>\n",
       "      <th>price</th>\n",
       "    </tr>\n",
       "  </thead><tbody><tr>\n",
       "<td style=\"vertical-align:middle; text-align:left\">\n",
       "<div style=\"float:left; margin-right: 10px;\">\n",
       "<a href=https://mwouts.github.io/itables/><svg class=\"main-svg\" xmlns=\"http://www.w3.org/2000/svg\" xmlns:xlink=\"http://www.w3.org/1999/xlink\"\n",
       "width=\"64\" viewBox=\"0 0 500 400\" style=\"font-family: 'Droid Sans', sans-serif;\">\n",
       "    <g style=\"fill:#d9d7fc\">\n",
       "        <path d=\"M100,400H500V357H100Z\" />\n",
       "        <path d=\"M100,300H400V257H100Z\" />\n",
       "        <path d=\"M0,200H400V157H0Z\" />\n",
       "        <path d=\"M100,100H500V57H100Z\" />\n",
       "        <path d=\"M100,350H500V307H100Z\" />\n",
       "        <path d=\"M100,250H400V207H100Z\" />\n",
       "        <path d=\"M0,150H400V107H0Z\" />\n",
       "        <path d=\"M100,50H500V7H100Z\" />\n",
       "    </g>\n",
       "    <g style=\"fill:#1a1366;stroke:#1a1366;\">\n",
       "   <rect x=\"100\" y=\"7\" width=\"400\" height=\"43\">\n",
       "    <animate\n",
       "      attributeName=\"width\"\n",
       "      values=\"0;400;0\"\n",
       "      dur=\"5s\"\n",
       "      repeatCount=\"indefinite\" />\n",
       "      <animate\n",
       "      attributeName=\"x\"\n",
       "      values=\"100;100;500\"\n",
       "      dur=\"5s\"\n",
       "      repeatCount=\"indefinite\" />\n",
       "  </rect>\n",
       "        <rect x=\"0\" y=\"107\" width=\"400\" height=\"43\">\n",
       "    <animate\n",
       "      attributeName=\"width\"\n",
       "      values=\"0;400;0\"\n",
       "      dur=\"3.5s\"\n",
       "      repeatCount=\"indefinite\" />\n",
       "    <animate\n",
       "      attributeName=\"x\"\n",
       "      values=\"0;0;400\"\n",
       "      dur=\"3.5s\"\n",
       "      repeatCount=\"indefinite\" />\n",
       "  </rect>\n",
       "        <rect x=\"100\" y=\"207\" width=\"300\" height=\"43\">\n",
       "    <animate\n",
       "      attributeName=\"width\"\n",
       "      values=\"0;300;0\"\n",
       "      dur=\"3s\"\n",
       "      repeatCount=\"indefinite\" />\n",
       "    <animate\n",
       "      attributeName=\"x\"\n",
       "      values=\"100;100;400\"\n",
       "      dur=\"3s\"\n",
       "      repeatCount=\"indefinite\" />\n",
       "  </rect>\n",
       "        <rect x=\"100\" y=\"307\" width=\"400\" height=\"43\">\n",
       "    <animate\n",
       "      attributeName=\"width\"\n",
       "      values=\"0;400;0\"\n",
       "      dur=\"4s\"\n",
       "      repeatCount=\"indefinite\" />\n",
       "      <animate\n",
       "      attributeName=\"x\"\n",
       "      values=\"100;100;500\"\n",
       "      dur=\"4s\"\n",
       "      repeatCount=\"indefinite\" />\n",
       "  </rect>\n",
       "        <g style=\"fill:transparent;stroke-width:8; stroke-linejoin:round\" rx=\"5\">\n",
       "            <g transform=\"translate(45 50) rotate(-45)\">\n",
       "                <circle r=\"33\" cx=\"0\" cy=\"0\" />\n",
       "                <rect x=\"-8\" y=\"32\" width=\"16\" height=\"30\" />\n",
       "            </g>\n",
       "\n",
       "            <g transform=\"translate(450 152)\">\n",
       "                <polyline points=\"-15,-20 -35,-20 -35,40 25,40 25,20\" />\n",
       "                <rect x=\"-15\" y=\"-40\" width=\"60\" height=\"60\" />\n",
       "            </g>\n",
       "\n",
       "            <g transform=\"translate(50 352)\">\n",
       "                <polygon points=\"-35,-5 0,-40 35,-5\" />\n",
       "                <polygon points=\"-35,10 0,45 35,10\" />\n",
       "            </g>\n",
       "\n",
       "            <g transform=\"translate(75 250)\">\n",
       "                <polyline points=\"-30,30 -60,0 -30,-30\" />\n",
       "                <polyline points=\"0,30 -30,0 0,-30\" />\n",
       "            </g>\n",
       "\n",
       "            <g transform=\"translate(425 250) rotate(180)\">\n",
       "                <polyline points=\"-30,30 -60,0 -30,-30\" />\n",
       "                <polyline points=\"0,30 -30,0 0,-30\" />\n",
       "            </g>\n",
       "        </g>\n",
       "    </g>\n",
       "</svg>\n",
       "</a>\n",
       "</div>\n",
       "<div>\n",
       "Loading ITables v2.1.4 from the internet...\n",
       "(need <a href=https://mwouts.github.io/itables/troubleshooting.html>help</a>?)</td>\n",
       "</div>\n",
       "</tr></tbody>\n",
       "\n",
       "</table>\n",
       "<link href=\"https://www.unpkg.com/dt_for_itables@2.0.11/dt_bundle.css\" rel=\"stylesheet\">\n",
       "<script type=\"module\">\n",
       "    import {DataTable, jQuery as $} from 'https://www.unpkg.com/dt_for_itables@2.0.11/dt_bundle.js';\n",
       "\n",
       "    document.querySelectorAll(\"#itables_c77fac8c_8a7f_490d_9abe_f9deba530390:not(.dataTable)\").forEach(table => {\n",
       "        // Define the table data\n",
       "        const data = [[\"avocado\", 0.5], [\"banana\", 0.15], [\"bread\", 1.0], [\"milk\", 0.8], [\"toilet paper\", 3.0]];\n",
       "\n",
       "        // Define the dt_args\n",
       "        let dt_args = {\"layout\": {\"topStart\": null, \"topEnd\": null, \"bottomStart\": null, \"bottomEnd\": null}, \"order\": []};\n",
       "        dt_args[\"data\"] = data;\n",
       "\n",
       "        \n",
       "        new DataTable(table, dt_args);\n",
       "    });\n",
       "</script>\n"
      ],
      "text/plain": [
       "<IPython.core.display.HTML object>"
      ]
     },
     "metadata": {},
     "output_type": "display_data"
    }
   ],
   "source": [
    "file1 = 'https://joannabieri.com/introdatascience/data/purchases.csv'\n",
    "DF_purchases = pd.read_csv(file1)\n",
    "file2 = 'https://joannabieri.com/introdatascience/data/prices.csv'\n",
    "DF_prices = pd.read_csv(file2)\n",
    "show(DF_purchases)\n",
    "show(DF_prices)"
   ]
  },
  {
   "cell_type": "markdown",
   "id": "59cc40ab-4b37-4c68-8da7-fdb713a184e5",
   "metadata": {},
   "source": [
    "## Calculate the total revenue\n",
    "\n",
    "**Q8** Given the data above find the total revenue.\n",
    "\n",
    "We will have to join the data frames so that we can see the price of what was sold. So first we look for a common column. In this case both data frames have **item** as a column.\n",
    "\n",
    "Now, think about how to calculate revenue... we need to add up the total money we made, so we need to know the price of each thing sold.\n",
    "\n",
    "**PAUSE - see if you can write some of the code for this before looking at the cells below**"
   ]
  },
  {
   "cell_type": "code",
   "execution_count": 30,
   "id": "0e354cf0-ce17-492c-b23f-129f01826d3f",
   "metadata": {},
   "outputs": [
    {
     "data": {
      "text/html": [
       "<div>\n",
       "<style scoped>\n",
       "    .dataframe tbody tr th:only-of-type {\n",
       "        vertical-align: middle;\n",
       "    }\n",
       "\n",
       "    .dataframe tbody tr th {\n",
       "        vertical-align: top;\n",
       "    }\n",
       "\n",
       "    .dataframe thead th {\n",
       "        text-align: right;\n",
       "    }\n",
       "</style>\n",
       "<table border=\"1\" class=\"dataframe\">\n",
       "  <thead>\n",
       "    <tr style=\"text-align: right;\">\n",
       "      <th></th>\n",
       "      <th>customer_id</th>\n",
       "      <th>item</th>\n",
       "      <th>price</th>\n",
       "    </tr>\n",
       "  </thead>\n",
       "  <tbody>\n",
       "    <tr>\n",
       "      <th>0</th>\n",
       "      <td>1</td>\n",
       "      <td>bread</td>\n",
       "      <td>1.00</td>\n",
       "    </tr>\n",
       "    <tr>\n",
       "      <th>1</th>\n",
       "      <td>1</td>\n",
       "      <td>milk</td>\n",
       "      <td>0.80</td>\n",
       "    </tr>\n",
       "    <tr>\n",
       "      <th>2</th>\n",
       "      <td>1</td>\n",
       "      <td>banana</td>\n",
       "      <td>0.15</td>\n",
       "    </tr>\n",
       "    <tr>\n",
       "      <th>3</th>\n",
       "      <td>2</td>\n",
       "      <td>milk</td>\n",
       "      <td>0.80</td>\n",
       "    </tr>\n",
       "    <tr>\n",
       "      <th>4</th>\n",
       "      <td>2</td>\n",
       "      <td>toilet paper</td>\n",
       "      <td>3.00</td>\n",
       "    </tr>\n",
       "  </tbody>\n",
       "</table>\n",
       "</div>"
      ],
      "text/plain": [
       "   customer_id          item  price\n",
       "0            1         bread   1.00\n",
       "1            1          milk   0.80\n",
       "2            1        banana   0.15\n",
       "3            2          milk   0.80\n",
       "4            2  toilet paper   3.00"
      ]
     },
     "execution_count": 30,
     "metadata": {},
     "output_type": "execute_result"
    }
   ],
   "source": [
    "receipt_df = pd.merge(DF_purchases, DF_prices, on='item', how='left')\n",
    "receipt_df"
   ]
  },
  {
   "cell_type": "code",
   "execution_count": 32,
   "id": "d83267c8-fe75-4a94-85b8-e9e8e52fccc5",
   "metadata": {},
   "outputs": [
    {
     "data": {
      "text/plain": [
       "5.75"
      ]
     },
     "execution_count": 32,
     "metadata": {},
     "output_type": "execute_result"
    }
   ],
   "source": [
    "revenue = receipt_df['price'].sum()\n",
    "revenue"
   ]
  },
  {
   "cell_type": "markdown",
   "id": "e437831b-9e27-40c1-b7e1-893785439543",
   "metadata": {},
   "source": [
    "**See the lecture notes if you need heelp figuring this out!**\n",
    "\n",
    "**Q9** Calculate the revenue per customer? Hint - group by the customer id and then apply the sum()."
   ]
  },
  {
   "cell_type": "code",
   "execution_count": 40,
   "id": "0863ba4f-65d0-4465-bd70-4557c581a15d",
   "metadata": {},
   "outputs": [
    {
     "name": "stdout",
     "output_type": "stream",
     "text": [
      "Customer 1: $1.95\n",
      "Customer 2: $3.80\n"
     ]
    }
   ],
   "source": [
    "receipt_by_customer_df = receipt_df.groupby(by='customer_id')\n",
    "\n",
    "for gname, group in receipt_by_customer_df:\n",
    "    print(f'Customer {gname}: ${group['price'].sum():.2f}')"
   ]
  },
  {
   "cell_type": "markdown",
   "id": "0b3b6bfe-df90-4521-9d96-404916911e2b",
   "metadata": {},
   "source": [
    "# Practice Exam - EDA - College Majors\n",
    "\n",
    "Your solutions should include code written to answer the questions AND words describing the results. For each problem:\n",
    "\n",
    "1. Write code to get the answers. It is okay to copy and paste from our lecture notes or your homework assignments.\n",
    "2. Describe what the code output is telling you.\n",
    "3. Explain any interesting aspects of your results.\n",
    "\n",
    "------------------------\n",
    "-------------------------"
   ]
  },
  {
   "cell_type": "markdown",
   "id": "1c634098-c93e-41c2-bc4a-523f4c27a333",
   "metadata": {},
   "source": [
    "The first step in the process of turning information into knowledge process is to summarize and describe the raw information - the data.\n",
    "In this assignment we explore data on college majors and earnings, specifically the data begin the FiveThirtyEight story [\"The Economic Guide To Picking A College Major\"](https://fivethirtyeight.com/features/the-economic-guide-to-picking-a-college-major/).\n",
    "\n",
    "These data originally come from the American Community Survey (ACS) 2010-2012 Public Use Microdata Series.\n",
    "While this is outside the scope of this assignment, if you are curious about how raw data from the ACS were cleaned and prepared, see [the code](https://github.com/fivethirtyeight/data/blob/master/college-majors/college-majors-rscript.R) FiveThirtyEight authors used.\n",
    "\n",
    "We should also note that there are many considerations that go into picking a major.\n",
    "Earnings potential and employment prospects are two of them, and they are important, but they don't tell the whole story.\n",
    "Keep this in mind as you analyze the data."
   ]
  },
  {
   "cell_type": "code",
   "execution_count": 42,
   "id": "20e25679-7c2a-4244-be1b-dc01e35f8126",
   "metadata": {},
   "outputs": [],
   "source": [
    "file_location = 'https://joannabieri.com/introdatascience/data/recent-grads.csv'\n",
    "DF_raw = pd.read_csv(file_location)"
   ]
  },
  {
   "cell_type": "code",
   "execution_count": 46,
   "id": "763b02f4-00ce-4b9a-ac1d-792c794109f1",
   "metadata": {},
   "outputs": [
    {
     "data": {
      "text/html": [
       "<table id=\"itables_ebd5589d_94b5_4920_b986_d0038af9c466\" class=\"display nowrap\" data-quarto-disable-processing=\"true\" style=\"table-layout:auto;width:auto;margin:auto;caption-side:bottom\">\n",
       "<thead>\n",
       "    <tr style=\"text-align: right;\">\n",
       "      \n",
       "      <th>Rank</th>\n",
       "      <th>Major_code</th>\n",
       "      <th>Major</th>\n",
       "      <th>Total</th>\n",
       "      <th>Men</th>\n",
       "      <th>Women</th>\n",
       "      <th>Major_category</th>\n",
       "      <th>ShareWomen</th>\n",
       "      <th>Sample_size</th>\n",
       "      <th>Employed</th>\n",
       "      <th>Full_time</th>\n",
       "      <th>Part_time</th>\n",
       "      <th>Full_time_year_round</th>\n",
       "      <th>Unemployed</th>\n",
       "      <th>Unemployment_rate</th>\n",
       "      <th>Median</th>\n",
       "      <th>P25th</th>\n",
       "      <th>P75th</th>\n",
       "      <th>College_jobs</th>\n",
       "      <th>Non_college_jobs</th>\n",
       "      <th>Low_wage_jobs</th>\n",
       "    </tr>\n",
       "  </thead><tbody><tr>\n",
       "<td style=\"vertical-align:middle; text-align:left\">\n",
       "<div style=\"float:left; margin-right: 10px;\">\n",
       "<a href=https://mwouts.github.io/itables/><svg class=\"main-svg\" xmlns=\"http://www.w3.org/2000/svg\" xmlns:xlink=\"http://www.w3.org/1999/xlink\"\n",
       "width=\"64\" viewBox=\"0 0 500 400\" style=\"font-family: 'Droid Sans', sans-serif;\">\n",
       "    <g style=\"fill:#d9d7fc\">\n",
       "        <path d=\"M100,400H500V357H100Z\" />\n",
       "        <path d=\"M100,300H400V257H100Z\" />\n",
       "        <path d=\"M0,200H400V157H0Z\" />\n",
       "        <path d=\"M100,100H500V57H100Z\" />\n",
       "        <path d=\"M100,350H500V307H100Z\" />\n",
       "        <path d=\"M100,250H400V207H100Z\" />\n",
       "        <path d=\"M0,150H400V107H0Z\" />\n",
       "        <path d=\"M100,50H500V7H100Z\" />\n",
       "    </g>\n",
       "    <g style=\"fill:#1a1366;stroke:#1a1366;\">\n",
       "   <rect x=\"100\" y=\"7\" width=\"400\" height=\"43\">\n",
       "    <animate\n",
       "      attributeName=\"width\"\n",
       "      values=\"0;400;0\"\n",
       "      dur=\"5s\"\n",
       "      repeatCount=\"indefinite\" />\n",
       "      <animate\n",
       "      attributeName=\"x\"\n",
       "      values=\"100;100;500\"\n",
       "      dur=\"5s\"\n",
       "      repeatCount=\"indefinite\" />\n",
       "  </rect>\n",
       "        <rect x=\"0\" y=\"107\" width=\"400\" height=\"43\">\n",
       "    <animate\n",
       "      attributeName=\"width\"\n",
       "      values=\"0;400;0\"\n",
       "      dur=\"3.5s\"\n",
       "      repeatCount=\"indefinite\" />\n",
       "    <animate\n",
       "      attributeName=\"x\"\n",
       "      values=\"0;0;400\"\n",
       "      dur=\"3.5s\"\n",
       "      repeatCount=\"indefinite\" />\n",
       "  </rect>\n",
       "        <rect x=\"100\" y=\"207\" width=\"300\" height=\"43\">\n",
       "    <animate\n",
       "      attributeName=\"width\"\n",
       "      values=\"0;300;0\"\n",
       "      dur=\"3s\"\n",
       "      repeatCount=\"indefinite\" />\n",
       "    <animate\n",
       "      attributeName=\"x\"\n",
       "      values=\"100;100;400\"\n",
       "      dur=\"3s\"\n",
       "      repeatCount=\"indefinite\" />\n",
       "  </rect>\n",
       "        <rect x=\"100\" y=\"307\" width=\"400\" height=\"43\">\n",
       "    <animate\n",
       "      attributeName=\"width\"\n",
       "      values=\"0;400;0\"\n",
       "      dur=\"4s\"\n",
       "      repeatCount=\"indefinite\" />\n",
       "      <animate\n",
       "      attributeName=\"x\"\n",
       "      values=\"100;100;500\"\n",
       "      dur=\"4s\"\n",
       "      repeatCount=\"indefinite\" />\n",
       "  </rect>\n",
       "        <g style=\"fill:transparent;stroke-width:8; stroke-linejoin:round\" rx=\"5\">\n",
       "            <g transform=\"translate(45 50) rotate(-45)\">\n",
       "                <circle r=\"33\" cx=\"0\" cy=\"0\" />\n",
       "                <rect x=\"-8\" y=\"32\" width=\"16\" height=\"30\" />\n",
       "            </g>\n",
       "\n",
       "            <g transform=\"translate(450 152)\">\n",
       "                <polyline points=\"-15,-20 -35,-20 -35,40 25,40 25,20\" />\n",
       "                <rect x=\"-15\" y=\"-40\" width=\"60\" height=\"60\" />\n",
       "            </g>\n",
       "\n",
       "            <g transform=\"translate(50 352)\">\n",
       "                <polygon points=\"-35,-5 0,-40 35,-5\" />\n",
       "                <polygon points=\"-35,10 0,45 35,10\" />\n",
       "            </g>\n",
       "\n",
       "            <g transform=\"translate(75 250)\">\n",
       "                <polyline points=\"-30,30 -60,0 -30,-30\" />\n",
       "                <polyline points=\"0,30 -30,0 0,-30\" />\n",
       "            </g>\n",
       "\n",
       "            <g transform=\"translate(425 250) rotate(180)\">\n",
       "                <polyline points=\"-30,30 -60,0 -30,-30\" />\n",
       "                <polyline points=\"0,30 -30,0 0,-30\" />\n",
       "            </g>\n",
       "        </g>\n",
       "    </g>\n",
       "</svg>\n",
       "</a>\n",
       "</div>\n",
       "<div>\n",
       "Loading ITables v2.1.4 from the internet...\n",
       "(need <a href=https://mwouts.github.io/itables/troubleshooting.html>help</a>?)</td>\n",
       "</div>\n",
       "</tr></tbody>\n",
       "\n",
       "</table>\n",
       "<link href=\"https://www.unpkg.com/dt_for_itables@2.0.11/dt_bundle.css\" rel=\"stylesheet\">\n",
       "<script type=\"module\">\n",
       "    import {DataTable, jQuery as $} from 'https://www.unpkg.com/dt_for_itables@2.0.11/dt_bundle.js';\n",
       "\n",
       "    document.querySelectorAll(\"#itables_ebd5589d_94b5_4920_b986_d0038af9c466:not(.dataTable)\").forEach(table => {\n",
       "        // Define the table data\n",
       "        const data = [[1, 2419, \"PETROLEUM ENGINEERING\", 2339.0, 2057.0, 282.0, \"Engineering\", 0.120564, 36, 1976, 1849, 270, 1207, 37, 0.018381, 110000, 95000, 125000, 1534, 364, 193], [2, 2416, \"MINING AND MINERAL ENGINEERING\", 756.0, 679.0, 77.0, \"Engineering\", 0.101852, 7, 640, 556, 170, 388, 85, 0.117241, 75000, 55000, 90000, 350, 257, 50], [3, 2415, \"METALLURGICAL ENGINEERING\", 856.0, 725.0, 131.0, \"Engineering\", 0.153037, 3, 648, 558, 133, 340, 16, 0.024096, 73000, 50000, 105000, 456, 176, 0], [4, 2417, \"NAVAL ARCHITECTURE AND MARINE ENGINEERING\", 1258.0, 1123.0, 135.0, \"Engineering\", 0.107313, 16, 758, 1069, 150, 692, 40, 0.050125, 70000, 43000, 80000, 529, 102, 0], [5, 2405, \"CHEMICAL ENGINEERING\", 32260.0, 21239.0, 11021.0, \"Engineering\", 0.341631, 289, 25694, 23170, 5180, 16697, 1672, 0.061098, 65000, 50000, 75000, 18314, 4440, 972], [6, 2418, \"NUCLEAR ENGINEERING\", 2573.0, 2200.0, 373.0, \"Engineering\", 0.144967, 17, 1857, 2038, 264, 1449, 400, 0.177226, 65000, 50000, 102000, 1142, 657, 244], [7, 6202, \"ACTUARIAL SCIENCE\", 3777.0, 2110.0, 1667.0, \"Business\", 0.441356, 51, 2912, 2924, 296, 2482, 308, 0.095652, 62000, 53000, 72000, 1768, 314, 259], [8, 5001, \"ASTRONOMY AND ASTROPHYSICS\", 1792.0, 832.0, 960.0, \"Physical Sciences\", 0.535714, 10, 1526, 1085, 553, 827, 33, 0.021167, 62000, 31500, 109000, 972, 500, 220], [9, 2414, \"MECHANICAL ENGINEERING\", 91227.0, 80320.0, 10907.0, \"Engineering\", 0.119559, 1029, 76442, 71298, 13101, 54639, 4650, 0.057342, 60000, 48000, 70000, 52844, 16384, 3253], [10, 2408, \"ELECTRICAL ENGINEERING\", 81527.0, 65511.0, 16016.0, \"Engineering\", 0.19645, 631, 61928, 55450, 12695, 41413, 3895, 0.059174, 60000, 45000, 72000, 45829, 10874, 3170], [11, 2407, \"COMPUTER ENGINEERING\", 41542.0, 33258.0, 8284.0, \"Engineering\", 0.199413, 399, 32506, 30315, 5146, 23621, 2275, 0.065409, 60000, 45000, 75000, 23694, 5721, 980], [12, 2401, \"AEROSPACE ENGINEERING\", 15058.0, 12953.0, 2105.0, \"Engineering\", 0.139793, 147, 11391, 11106, 2724, 8790, 794, 0.065162, 60000, 42000, 70000, 8184, 2425, 372], [13, 2404, \"BIOMEDICAL ENGINEERING\", 14955.0, 8407.0, 6548.0, \"Engineering\", 0.437847, 79, 10047, 9017, 2694, 5986, 1019, 0.092084, 60000, 36000, 70000, 6439, 2471, 789], [14, 5008, \"MATERIALS SCIENCE\", 4279.0, 2949.0, 1330.0, \"Engineering\", 0.31082, 22, 3307, 2751, 878, 1967, 78, 0.023043, 60000, 39000, 65000, 2626, 391, 81], [15, 2409, \"ENGINEERING MECHANICS PHYSICS AND SCIENCE\", 4321.0, 3526.0, 795.0, \"Engineering\", 0.183985, 30, 3608, 2999, 811, 2004, 23, 0.006334, 58000, 25000, 74000, 2439, 947, 263], [16, 2402, \"BIOLOGICAL ENGINEERING\", 8925.0, 6062.0, 2863.0, \"Engineering\", 0.320784, 55, 6170, 5455, 1983, 3413, 589, 0.087143, 57100, 40000, 76000, 3603, 1595, 524], [17, 2412, \"INDUSTRIAL AND MANUFACTURING ENGINEERING\", 18968.0, 12453.0, 6515.0, \"Engineering\", 0.343473, 183, 15604, 14879, 2243, 11326, 699, 0.042876, 57000, 37900, 67000, 8306, 3235, 640], [18, 2400, \"GENERAL ENGINEERING\", 61152.0, 45683.0, 15469.0, \"Engineering\", 0.25296, 425, 44931, 41235, 7199, 33540, 2859, 0.059824, 56000, 36000, 69000, 26898, 11734, 3192], [19, 2403, \"ARCHITECTURAL ENGINEERING\", 2825.0, 1835.0, 990.0, \"Engineering\", 0.350442, 26, 2575, 2277, 343, 1848, 170, 0.061931, 54000, 38000, 65000, 1665, 649, 137], [20, 3201, \"COURT REPORTING\", 1148.0, 877.0, 271.0, \"Law & Public Policy\", 0.236063, 14, 930, 808, 223, 808, 11, 0.01169, 54000, 50000, 54000, 402, 528, 144], [21, 2102, \"COMPUTER SCIENCE\", 128319.0, 99743.0, 28576.0, \"Computers & Mathematics\", 0.222695, 1196, 102087, 91485, 18726, 70932, 6884, 0.063173, 53000, 39000, 70000, 68622, 25667, 5144], [22, 1104, \"FOOD SCIENCE\", NaN, NaN, NaN, \"Agriculture & Natural Resources\", NaN, 36, 3149, 2558, 1121, 1735, 338, 0.096931, 53000, 32000, 70000, 1183, 1274, 485], [23, 2502, \"ELECTRICAL ENGINEERING TECHNOLOGY\", 11565.0, 8181.0, 3384.0, \"Engineering\", 0.292607, 97, 8587, 7530, 1873, 5681, 824, 0.087557, 52000, 35000, 60000, 5126, 2686, 696], [24, 2413, \"MATERIALS ENGINEERING AND MATERIALS SCIENCE\", 2993.0, 2020.0, 973.0, \"Engineering\", 0.325092, 22, 2449, 1658, 1040, 1151, 70, 0.027789, 52000, 35000, 62000, 1911, 305, 70], [25, 6212, \"MANAGEMENT INFORMATION SYSTEMS AND STATISTICS\", 18713.0, 13496.0, 5217.0, \"Business\", 0.27879, 278, 16413, 15141, 2420, 13017, 1015, 0.05824, 51000, 38000, 60000, 6342, 5741, 708], [26, 2406, \"CIVIL ENGINEERING\", 53153.0, 41081.0, 12072.0, \"Engineering\", 0.227118, 565, 43041, 38302, 10080, 29196, 3270, 0.07061, 50000, 40000, 60000, 28526, 9356, 2899], [27, 5601, \"CONSTRUCTION SERVICES\", 18498.0, 16820.0, 1678.0, \"Industrial Arts & Consumer Services\", 0.090713, 295, 16318, 15690, 1751, 12313, 1042, 0.060023, 50000, 36000, 60000, 3275, 5351, 703], [28, 6204, \"OPERATIONS LOGISTICS AND E-COMMERCE\", 11732.0, 7921.0, 3811.0, \"Business\", 0.324838, 156, 10027, 9639, 1183, 7724, 504, 0.047859, 50000, 40000, 60000, 1466, 3629, 285], [29, 2499, \"MISCELLANEOUS ENGINEERING\", 9133.0, 7398.0, 1735.0, \"Engineering\", 0.18997, 118, 7428, 6811, 1662, 5476, 597, 0.074393, 50000, 39000, 65000, 3445, 2426, 365], [30, 5402, \"PUBLIC POLICY\", 5978.0, 2639.0, 3339.0, \"Law & Public Policy\", 0.558548, 55, 4547, 4163, 1306, 2776, 670, 0.128426, 50000, 35000, 70000, 1550, 1871, 340], [31, 2410, \"ENVIRONMENTAL ENGINEERING\", 4047.0, 2662.0, 1385.0, \"Engineering\", 0.342229, 26, 2983, 2384, 930, 1951, 308, 0.093589, 50000, 42000, 56000, 2028, 830, 260], [32, 2500, \"ENGINEERING TECHNOLOGIES\", 3600.0, 2695.0, 905.0, \"Engineering\", 0.251389, 39, 2799, 2257, 689, 1723, 163, 0.05503, 50000, 43000, 60000, 1017, 1269, 142], [33, 6099, \"MISCELLANEOUS FINE ARTS\", 3340.0, 1970.0, 1370.0, \"Arts\", 0.41018, 30, 2914, 2049, 1067, 1200, 286, 0.089375, 50000, 25000, 66000, 693, 1714, 755], [34, 2411, \"GEOLOGICAL AND GEOPHYSICAL ENGINEERING\", 720.0, 488.0, 232.0, \"Engineering\", 0.322222, 5, 604, 524, 126, 396, 49, 0.075038, 50000, 42800, 57000, 501, 50, 49], [35, 6107, \"NURSING\", 209394.0, 21773.0, 187621.0, \"Health\", 0.896019, 2554, 180903, 151191, 40818, 122817, 8497, 0.044863, 48000, 39000, 58000, 151643, 26146, 6193], [36, 6207, \"FINANCE\", 174506.0, 115030.0, 59476.0, \"Business\", 0.340825, 2189, 145696, 137921, 21463, 108595, 9413, 0.060686, 47000, 35000, 64000, 24243, 48447, 9910], [37, 5501, \"ECONOMICS\", 139247.0, 89749.0, 49498.0, \"Social Science\", 0.355469, 1322, 104117, 96567, 25325, 70740, 11452, 0.099092, 47000, 35000, 65000, 25582, 37057, 10653], [38, 6205, \"BUSINESS ECONOMICS\", 13302.0, 7575.0, 5727.0, \"Business\", 0.430537, 199, 10914, 10048, 1937, 8000, 1165, 0.096448, 46000, 33000, 58000, 1578, 4612, 1284], [39, 2503, \"INDUSTRIAL PRODUCTION TECHNOLOGIES\", 4631.0, 3477.0, 1154.0, \"Engineering\", 0.24919, 73, 4428, 3988, 597, 3242, 129, 0.028308, 46000, 35000, 65000, 1394, 2454, 480], [40, 5102, \"NUCLEAR, INDUSTRIAL RADIOLOGY, AND BIOLOGICAL TECHNOLOGIES\", 2116.0, 528.0, 1588.0, \"Physical Sciences\", 0.750473, 31, 1778, 1392, 579, 1115, 137, 0.07154, 46000, 38000, 53000, 162, 1475, 124], [41, 6201, \"ACCOUNTING\", 198633.0, 94519.0, 104114.0, \"Business\", 0.524153, 2042, 165527, 151967, 27693, 123169, 12411, 0.069749, 45000, 34000, 56000, 11417, 39323, 10886], [42, 3700, \"MATHEMATICS\", 72397.0, 39956.0, 32441.0, \"Computers & Mathematics\", 0.448099, 541, 58118, 46399, 18079, 33738, 2884, 0.047277, 45000, 33000, 60000, 34800, 14829, 4569], [43, 2100, \"COMPUTER AND INFORMATION SYSTEMS\", 36698.0, 27392.0, 9306.0, \"Computers & Mathematics\", 0.253583, 425, 28459, 26348, 4332, 21130, 2934, 0.09346, 45000, 30000, 60000, 13344, 11783, 1672], [44, 5007, \"PHYSICS\", 32142.0, 23080.0, 9062.0, \"Physical Sciences\", 0.281936, 142, 25302, 19428, 8721, 14389, 1282, 0.048224, 45000, 30000, 68000, 18674, 4576, 1823], [45, 6105, \"MEDICAL TECHNOLOGIES TECHNICIANS\", 15914.0, 3916.0, 11998.0, \"Health\", 0.753927, 190, 13150, 11510, 2665, 9005, 505, 0.036983, 45000, 36000, 50000, 5546, 7176, 1002], [46, 2105, \"INFORMATION SCIENCES\", 11913.0, 9005.0, 2908.0, \"Computers & Mathematics\", 0.244103, 158, 9881, 9105, 1468, 7378, 639, 0.060741, 45000, 32500, 58000, 4390, 4102, 608], [47, 3702, \"STATISTICS AND DECISION SCIENCE\", 6251.0, 2960.0, 3291.0, \"Computers & Mathematics\", 0.526476, 37, 4247, 3190, 1840, 2151, 401, 0.086274, 45000, 26700, 60000, 2298, 1200, 343], [48, 3701, \"APPLIED MATHEMATICS\", 4939.0, 2794.0, 2145.0, \"Computers & Mathematics\", 0.434298, 45, 3854, 3465, 1176, 2593, 385, 0.090823, 45000, 34000, 63000, 2437, 803, 357], [49, 3607, \"PHARMACOLOGY\", 1762.0, 515.0, 1247.0, \"Biology & Life Science\", 0.707719, 3, 1144, 657, 532, 565, 107, 0.085532, 45000, 40000, 45000, 603, 478, 93], [50, 5006, \"OCEANOGRAPHY\", 2418.0, 752.0, 1666.0, \"Physical Sciences\", 0.688999, 36, 1638, 1931, 379, 1595, 99, 0.056995, 44700, 23000, 50000, 459, 996, 186], [51, 2501, \"ENGINEERING AND INDUSTRIAL MANAGEMENT\", 2906.0, 2400.0, 506.0, \"Engineering\", 0.174123, 29, 2125, 1992, 462, 1358, 74, 0.033652, 44000, 30000, 50000, 482, 844, 245], [52, 6104, \"MEDICAL ASSISTING SERVICES\", 11123.0, 803.0, 10320.0, \"Health\", 0.927807, 67, 9168, 5643, 4107, 4290, 407, 0.042507, 42000, 30000, 65000, 2091, 6948, 1270], [53, 4005, \"MATHEMATICS AND COMPUTER SCIENCE\", 609.0, 500.0, 109.0, \"Computers & Mathematics\", 0.178982, 7, 559, 584, 0, 391, 0, 0.0, 42000, 30000, 78000, 452, 67, 25], [54, 2101, \"COMPUTER PROGRAMMING AND DATA PROCESSING\", 4168.0, 3046.0, 1122.0, \"Computers & Mathematics\", 0.269194, 43, 3257, 3204, 482, 2453, 419, 0.113983, 41300, 20000, 46000, 2024, 1033, 263], [55, 4006, \"COGNITIVE SCIENCE AND BIOPSYCHOLOGY\", 3831.0, 1667.0, 2164.0, \"Biology & Life Science\", 0.564866, 25, 2741, 2470, 711, 1584, 223, 0.075236, 41000, 20000, 60000, 1369, 921, 135], [56, 2303, \"SCHOOL STUDENT COUNSELING\", 818.0, 119.0, 699.0, \"Education\", 0.854523, 4, 730, 595, 135, 545, 88, 0.107579, 41000, 41000, 43000, 509, 221, 0], [57, 5505, \"INTERNATIONAL RELATIONS\", 28187.0, 10345.0, 17842.0, \"Social Science\", 0.632987, 219, 21190, 18681, 5563, 13583, 2271, 0.096799, 40100, 31200, 53000, 6774, 9570, 2499], [58, 6200, \"GENERAL BUSINESS\", 234590.0, 132238.0, 102352.0, \"Business\", 0.436302, 2380, 190183, 171385, 36241, 138299, 14946, 0.072861, 40000, 30000, 55000, 29334, 100831, 27320], [59, 1401, \"ARCHITECTURE\", 46420.0, 25463.0, 20957.0, \"Engineering\", 0.451465, 362, 34158, 29223, 10206, 20026, 4366, 0.113332, 40000, 31000, 50000, 16178, 13724, 4221], [60, 6210, \"INTERNATIONAL BUSINESS\", 25894.0, 10624.0, 15270.0, \"Business\", 0.589712, 260, 19660, 17563, 4890, 12823, 2092, 0.096175, 40000, 30000, 50000, 3383, 9482, 3046], [61, 6108, \"PHARMACY PHARMACEUTICAL SCIENCES AND ADMINISTRATION\", 23551.0, 8697.0, 14854.0, \"Health\", 0.630716, 38, 16620, 12537, 5346, 9131, 977, 0.055521, 40000, 20000, 90000, 11573, 4493, 1121], [62, 3603, \"MOLECULAR BIOLOGY\", 18300.0, 7426.0, 10874.0, \"Biology & Life Science\", 0.594208, 90, 11581, 9441, 4590, 6183, 1067, 0.084361, 40000, 29000, 47000, 7225, 3145, 1168], [63, 6299, \"MISCELLANEOUS BUSINESS & MEDICAL ADMINISTRATION\", 17947.0, 10285.0, 7662.0, \"Business\", 0.426924, 244, 14826, 13364, 3366, 10637, 1150, 0.071983, 40000, 30000, 51000, 2236, 8937, 1758], [64, 1101, \"AGRICULTURE PRODUCTION AND MANAGEMENT\", 14240.0, 9658.0, 4582.0, \"Agriculture & Natural Resources\", 0.32177, 273, 12323, 11119, 2196, 9093, 649, 0.050031, 40000, 25000, 50000, 1925, 6221, 1362], [65, 1100, \"GENERAL AGRICULTURE\", 10399.0, 6053.0, 4346.0, \"Agriculture & Natural Resources\", 0.417925, 158, 8884, 7589, 2031, 5888, 178, 0.019642, 40000, 30000, 50000, 2418, 4717, 839], [66, 2599, \"MISCELLANEOUS ENGINEERING TECHNOLOGIES\", 8804.0, 7043.0, 1761.0, \"Engineering\", 0.200023, 125, 7502, 7001, 1240, 5825, 416, 0.052539, 40000, 30400, 56000, 2446, 3896, 386], [67, 2504, \"MECHANICAL ENGINEERING RELATED TECHNOLOGIES\", 4790.0, 4419.0, 371.0, \"Engineering\", 0.077453, 71, 4186, 4175, 247, 3607, 250, 0.056357, 40000, 27000, 52000, 1861, 2121, 406], [68, 3605, \"GENETICS\", 3635.0, 1761.0, 1874.0, \"Biology & Life Science\", 0.515543, 11, 2463, 1787, 847, 1487, 87, 0.034118, 40000, 34000, 45000, 1675, 678, 201], [69, 5599, \"MISCELLANEOUS SOCIAL SCIENCES\", 3283.0, 1499.0, 1784.0, \"Social Science\", 0.543405, 28, 2727, 2183, 907, 1530, 215, 0.07308, 40000, 30000, 54000, 744, 1654, 573], [70, 6403, \"UNITED STATES HISTORY\", 3079.0, 1756.0, 1323.0, \"Humanities & Liberal Arts\", 0.429685, 22, 2787, 2103, 839, 1274, 138, 0.047179, 40000, 30000, 42000, 801, 1591, 302], [71, 5205, \"INDUSTRIAL AND ORGANIZATIONAL PSYCHOLOGY\", 3014.0, 1075.0, 1939.0, \"Psychology & Social Work\", 0.643331, 24, 2343, 1644, 1095, 1409, 286, 0.108787, 40000, 32000, 53000, 559, 1224, 272], [72, 1102, \"AGRICULTURAL ECONOMICS\", 2439.0, 1749.0, 690.0, \"Agriculture & Natural Resources\", 0.282903, 44, 2174, 1819, 620, 1528, 182, 0.07725, 40000, 27000, 54000, 535, 893, 94], [73, 5000, \"PHYSICAL SCIENCES\", 1436.0, 894.0, 542.0, \"Physical Sciences\", 0.377437, 10, 1146, 768, 437, 653, 42, 0.035354, 40000, 30000, 55000, 530, 465, 269], [74, 3801, \"MILITARY TECHNOLOGIES\", 124.0, 124.0, 0.0, \"Industrial Arts & Consumer Services\", 0.0, 4, 0, 111, 0, 111, 0, 0.0, 40000, 40000, 40000, 0, 0, 0], [75, 5003, \"CHEMISTRY\", 66530.0, 32923.0, 33607.0, \"Physical Sciences\", 0.505141, 353, 48535, 39509, 15066, 29910, 2769, 0.053972, 39000, 30000, 49900, 30382, 14718, 4288], [76, 5701, \"ELECTRICAL, MECHANICAL, AND PRECISION TECHNOLOGIES AND PRODUCTION\", 2435.0, 1869.0, 566.0, \"Industrial Arts & Consumer Services\", 0.232444, 37, 2107, 2057, 287, 1752, 64, 0.02948, 38400, 22500, 45000, 221, 1659, 81], [77, 6203, \"BUSINESS MANAGEMENT AND ADMINISTRATION\", 329927.0, 173809.0, 156118.0, \"Business\", 0.47319, 4212, 276234, 251540, 50357, 199897, 21502, 0.072218, 38000, 29000, 50000, 36720, 148395, 32395], [78, 6206, \"MARKETING AND MARKETING RESEARCH\", 205211.0, 78857.0, 126354.0, \"Business\", 0.615727, 2684, 178862, 156668, 35829, 127230, 11663, 0.061215, 38000, 30000, 50000, 25320, 93889, 27968], [79, 5506, \"POLITICAL SCIENCE AND GOVERNMENT\", 182621.0, 93880.0, 88741.0, \"Social Science\", 0.48593, 1387, 133454, 117709, 43711, 83236, 15022, 0.101175, 38000, 28000, 50000, 36854, 66947, 19803], [80, 5504, \"GEOGRAPHY\", 18480.0, 11404.0, 7076.0, \"Social Science\", 0.3829, 179, 14057, 11367, 5651, 8628, 1799, 0.113459, 38000, 30000, 50000, 5350, 6830, 1905], [81, 3606, \"MICROBIOLOGY\", 15232.0, 6383.0, 8849.0, \"Biology & Life Science\", 0.580948, 62, 9685, 7453, 3379, 5080, 693, 0.066776, 38000, 29600, 50000, 5577, 3174, 1246], [82, 2106, \"COMPUTER ADMINISTRATION MANAGEMENT AND SECURITY\", 8066.0, 6607.0, 1459.0, \"Computers & Mathematics\", 0.180883, 103, 6509, 6289, 1030, 4936, 721, 0.099723, 37500, 25000, 50000, 2354, 3244, 308], [83, 3601, \"BIOCHEMICAL SCIENCES\", 39107.0, 18951.0, 20156.0, \"Biology & Life Science\", 0.515406, 174, 25678, 20643, 9948, 13785, 2249, 0.080531, 37400, 29000, 50000, 15654, 8394, 3012], [84, 3602, \"BOTANY\", 1329.0, 626.0, 703.0, \"Biology & Life Science\", 0.528969, 9, 1010, 946, 169, 740, 0, 0.0, 37000, 26000, 40000, 677, 184, 56], [85, 2107, \"COMPUTER NETWORKING AND TELECOMMUNICATIONS\", 7613.0, 5291.0, 2322.0, \"Computers & Mathematics\", 0.305005, 97, 6144, 5495, 1447, 4369, 1100, 0.15185, 36400, 27000, 49000, 2593, 2941, 352], [86, 5004, \"GEOLOGY AND EARTH SCIENCE\", 10972.0, 5813.0, 5159.0, \"Physical Sciences\", 0.470197, 78, 8296, 6966, 2913, 5008, 677, 0.075449, 36200, 28000, 47000, 4858, 2792, 959], [87, 6209, \"HUMAN RESOURCES AND PERSONNEL MANAGEMENT\", 24497.0, 6184.0, 18313.0, \"Business\", 0.747561, 264, 20760, 18550, 3767, 15446, 1315, 0.05957, 36000, 28000, 45000, 2406, 9629, 1906], [88, 3202, \"PRE-LAW AND LEGAL STUDIES\", 13528.0, 4435.0, 9093.0, \"Law & Public Policy\", 0.672161, 92, 9762, 7851, 3595, 5370, 757, 0.071965, 36000, 29200, 46000, 2002, 6454, 1336], [89, 6199, \"MISCELLANEOUS HEALTH MEDICAL PROFESSIONS\", 13386.0, 1589.0, 11797.0, \"Health\", 0.881294, 81, 10076, 7514, 4145, 5868, 893, 0.081411, 36000, 23000, 42000, 5652, 3835, 1422], [90, 5401, \"PUBLIC ADMINISTRATION\", 5629.0, 2947.0, 2682.0, \"Law & Public Policy\", 0.476461, 46, 4158, 4148, 847, 2952, 789, 0.159491, 36000, 23000, 60000, 919, 2313, 496], [91, 5005, \"GEOSCIENCES\", 1978.0, 809.0, 1169.0, \"Physical Sciences\", 0.591001, 18, 1441, 1264, 354, 1011, 36, 0.024374, 36000, 21000, 41000, 784, 591, 221], [92, 5206, \"SOCIAL PSYCHOLOGY\", 1386.0, 413.0, 973.0, \"Psychology & Social Work\", 0.70202, 8, 1080, 828, 433, 529, 33, 0.02965, 36000, 34000, 45000, 434, 593, 37], [93, 1301, \"ENVIRONMENTAL SCIENCE\", 25965.0, 10787.0, 15178.0, \"Biology & Life Science\", 0.584556, 225, 20859, 16987, 7071, 10916, 1779, 0.078585, 35600, 25000, 40200, 8149, 10076, 3175], [94, 1901, \"COMMUNICATIONS\", 213996.0, 70619.0, 143377.0, \"Communications & Journalism\", 0.669999, 2394, 179633, 147335, 49889, 116251, 14602, 0.075177, 35000, 27000, 45000, 40763, 97964, 27440], [95, 5301, \"CRIMINAL JUSTICE AND FIRE PROTECTION\", 152824.0, 80231.0, 72593.0, \"Law & Public Policy\", 0.47501, 1728, 125393, 109970, 32242, 88548, 11268, 0.082452, 35000, 26000, 45000, 24348, 88858, 18404], [96, 6004, \"COMMERCIAL ART AND GRAPHIC DESIGN\", 103480.0, 32041.0, 71439.0, \"Arts\", 0.690365, 1186, 83483, 67448, 24387, 52243, 8947, 0.096798, 35000, 25000, 45000, 37389, 38119, 14839], [97, 1902, \"JOURNALISM\", 72619.0, 23736.0, 48883.0, \"Communications & Journalism\", 0.673143, 843, 61022, 51411, 15902, 39524, 4535, 0.069176, 35000, 26000, 42900, 23279, 26672, 8512], [98, 5098, \"MULTI-DISCIPLINARY OR GENERAL SCIENCE\", 62052.0, 27015.0, 35037.0, \"Physical Sciences\", 0.564639, 427, 46138, 37850, 13133, 28966, 2727, 0.055807, 35000, 24000, 50000, 17923, 22039, 5751], [99, 1904, \"ADVERTISING AND PUBLIC RELATIONS\", 53162.0, 12862.0, 40300.0, \"Communications & Journalism\", 0.75806, 681, 45326, 38815, 10948, 30932, 3305, 0.067961, 35000, 27000, 47000, 9659, 23059, 7214], [100, 1501, \"AREA ETHNIC AND CIVILIZATION STUDIES\", 31195.0, 8739.0, 22456.0, \"Humanities & Liberal Arts\", 0.719859, 249, 24629, 18755, 9541, 13109, 1668, 0.063429, 35000, 24500, 44000, 8465, 11818, 3677], [101, 2310, \"SPECIAL NEEDS EDUCATION\", 28739.0, 2682.0, 26057.0, \"Education\", 0.906677, 246, 24639, 21584, 5153, 16642, 1067, 0.041508, 35000, 32000, 42000, 20185, 3797, 1179], [102, 3608, \"PHYSIOLOGY\", 22060.0, 8422.0, 13638.0, \"Biology & Life Science\", 0.618223, 99, 14643, 10732, 6541, 7588, 1088, 0.069163, 35000, 20000, 50000, 6587, 6894, 2237], [103, 5503, \"CRIMINOLOGY\", 19879.0, 10031.0, 9848.0, \"Social Science\", 0.495397, 214, 16181, 13616, 4543, 10548, 1743, 0.097244, 35000, 25000, 45000, 3373, 10605, 1895], [104, 4002, \"NUTRITION SCIENCES\", 18909.0, 2563.0, 16346.0, \"Health\", 0.864456, 118, 13217, 9601, 6648, 6625, 975, 0.068701, 35000, 26000, 45000, 6535, 5473, 2449], [105, 6103, \"HEALTH AND MEDICAL ADMINISTRATIVE SERVICES\", 18109.0, 4266.0, 13843.0, \"Health\", 0.764427, 184, 15419, 13534, 3299, 10982, 1518, 0.089626, 35000, 27000, 42000, 2589, 8592, 1391], [106, 2001, \"COMMUNICATION TECHNOLOGIES\", 18035.0, 11431.0, 6604.0, \"Computers & Mathematics\", 0.366177, 208, 14779, 11981, 4690, 9085, 2006, 0.119511, 35000, 25000, 45000, 4545, 8794, 2495], [107, 5901, \"TRANSPORTATION SCIENCES AND TECHNOLOGIES\", 15150.0, 13257.0, 1893.0, \"Industrial Arts & Consumer Services\", 0.12495, 180, 12266, 11688, 2633, 9170, 962, 0.072725, 35000, 22000, 52000, 4575, 6147, 557], [108, 1303, \"NATURAL RESOURCES MANAGEMENT\", 13773.0, 8617.0, 5156.0, \"Agriculture & Natural Resources\", 0.374356, 152, 11797, 10722, 2613, 6954, 842, 0.066619, 35000, 25000, 42000, 4333, 5808, 1405], [109, 3611, \"NEUROSCIENCE\", 13663.0, 4944.0, 8719.0, \"Biology & Life Science\", 0.638147, 53, 9087, 8027, 3078, 5482, 463, 0.048482, 35000, 30000, 44000, 5605, 2301, 902], [110, 4000, \"MULTI/INTERDISCIPLINARY STUDIES\", 12296.0, 2817.0, 9479.0, \"Interdisciplinary\", 0.770901, 128, 9821, 8032, 3173, 6234, 749, 0.070861, 35000, 25000, 44000, 5176, 3903, 1061], [111, 5002, \"ATMOSPHERIC SCIENCES AND METEOROLOGY\", 4043.0, 2744.0, 1299.0, \"Physical Sciences\", 0.321296, 32, 3431, 2659, 1309, 2161, 78, 0.022229, 35000, 28000, 50000, 1808, 1317, 237], [112, 1302, \"FORESTRY\", 3607.0, 3156.0, 451.0, \"Agriculture & Natural Resources\", 0.125035, 48, 3007, 2473, 891, 1763, 322, 0.096726, 35000, 28600, 48000, 1096, 1692, 327], [113, 1106, \"SOIL SCIENCE\", 685.0, 476.0, 209.0, \"Agriculture & Natural Resources\", 0.305109, 4, 613, 488, 185, 383, 0, 0.0, 35000, 18500, 44000, 355, 144, 0], [114, 2300, \"GENERAL EDUCATION\", 143718.0, 26893.0, 116825.0, \"Education\", 0.812877, 919, 118241, 98408, 29558, 73531, 7195, 0.05736, 34000, 26000, 41000, 82007, 31112, 11443], [115, 6402, \"HISTORY\", 141951.0, 78253.0, 63698.0, \"Humanities & Liberal Arts\", 0.448732, 1058, 105646, 84681, 40657, 59218, 11176, 0.095667, 34000, 25000, 47000, 35336, 54569, 16839], [116, 2602, \"FRENCH GERMAN LATIN AND OTHER COMMON FOREIGN LANGUAGE STUDIES\", 48246.0, 12835.0, 35411.0, \"Humanities & Liberal Arts\", 0.733968, 342, 38315, 29340, 14569, 20056, 3132, 0.075566, 34000, 25000, 45000, 15051, 18193, 5267], [117, 4001, \"INTERCULTURAL AND INTERNATIONAL STUDIES\", 24650.0, 8575.0, 16075.0, \"Humanities & Liberal Arts\", 0.65213, 184, 18824, 14354, 7978, 8801, 1718, 0.083634, 34000, 24000, 45000, 4956, 10343, 3168], [118, 2311, \"SOCIAL SCIENCE OR HISTORY TEACHER EDUCATION\", 20198.0, 9950.0, 10248.0, \"Education\", 0.507377, 157, 17700, 14002, 5168, 8871, 1012, 0.054083, 34000, 23050, 42000, 10928, 5561, 1806], [119, 6110, \"COMMUNITY AND PUBLIC HEALTH\", 19735.0, 4103.0, 15632.0, \"Health\", 0.792095, 130, 14512, 10099, 6377, 7460, 1833, 0.112144, 34000, 21000, 45000, 5225, 7385, 1854], [120, 2305, \"MATHEMATICS TEACHER EDUCATION\", 14237.0, 3872.0, 10365.0, \"Education\", 0.728033, 123, 13115, 11259, 2273, 8073, 216, 0.016203, 34000, 30000, 40000, 10699, 1977, 786], [121, 2301, \"EDUCATIONAL ADMINISTRATION AND SUPERVISION\", 804.0, 280.0, 524.0, \"Education\", 0.651741, 5, 703, 733, 0, 504, 0, 0.0, 34000, 29000, 35000, 346, 206, 111], [122, 6106, \"HEALTH AND MEDICAL PREPARATORY PROGRAMS\", 12740.0, 5521.0, 7219.0, \"Health\", 0.566641, 31, 7052, 5029, 3891, 3236, 529, 0.06978, 33500, 23000, 40000, 3051, 3539, 1159], [123, 3699, \"MISCELLANEOUS BIOLOGY\", 10706.0, 4747.0, 5959.0, \"Biology & Life Science\", 0.556604, 63, 7767, 6076, 2568, 4542, 483, 0.058545, 33500, 23000, 48000, 4253, 2722, 459], [124, 3600, \"BIOLOGY\", 280709.0, 111762.0, 168947.0, \"Biology & Life Science\", 0.601858, 1370, 182295, 144512, 72371, 100336, 13874, 0.070725, 33400, 24000, 45000, 88232, 81109, 28339], [125, 5507, \"SOCIOLOGY\", 115433.0, 32510.0, 82923.0, \"Social Science\", 0.718365, 1024, 92721, 73475, 29639, 56561, 8608, 0.084951, 33000, 25000, 44000, 29051, 48899, 13748], [126, 1903, \"MASS MEDIA\", 52824.0, 24704.0, 28120.0, \"Communications & Journalism\", 0.532334, 590, 44679, 35769, 13078, 27521, 4410, 0.089837, 33000, 25000, 45000, 12855, 25297, 6429], [127, 6109, \"TREATMENT THERAPY PROFESSIONS\", 48491.0, 13487.0, 35004.0, \"Health\", 0.721866, 224, 37861, 30020, 12346, 21735, 2409, 0.059821, 33000, 24000, 41000, 22215, 14616, 4468], [128, 6211, \"HOSPITALITY MANAGEMENT\", 43647.0, 15204.0, 28443.0, \"Business\", 0.65166, 546, 36728, 32160, 7494, 23106, 2393, 0.061169, 33000, 25000, 42000, 2325, 23341, 9063], [129, 2313, \"LANGUAGE AND DRAMA EDUCATION\", 30471.0, 3741.0, 26730.0, \"Education\", 0.877228, 235, 26033, 21419, 7239, 15266, 1379, 0.050306, 33000, 24000, 40000, 17985, 6824, 2819], [130, 2601, \"LINGUISTICS AND COMPARATIVE LANGUAGE AND LITERATURE\", 16601.0, 4416.0, 12185.0, \"Humanities & Liberal Arts\", 0.733992, 88, 11165, 8462, 4831, 5821, 1302, 0.104436, 33000, 25000, 40000, 4122, 5695, 2085], [131, 2399, \"MISCELLANEOUS EDUCATION\", 10150.0, 3654.0, 6496.0, \"Education\", 0.64, 126, 8691, 7264, 2202, 5816, 547, 0.059212, 33000, 30000, 45000, 5284, 2438, 657], [132, 4007, \"INTERDISCIPLINARY SOCIAL SCIENCES\", 9916.0, 2337.0, 7579.0, \"Social Science\", 0.76432, 95, 7444, 5843, 2834, 4714, 757, 0.092306, 33000, 24000, 40000, 2630, 3906, 1470], [133, 3604, \"ECOLOGY\", 9154.0, 3878.0, 5276.0, \"Biology & Life Science\", 0.57636, 86, 7585, 5603, 2741, 3912, 437, 0.054475, 33000, 23000, 42000, 2856, 4159, 976], [134, 2309, \"SECONDARY TEACHER EDUCATION\", 17125.0, 6820.0, 10305.0, \"Education\", 0.601752, 156, 15116, 12520, 3782, 9193, 833, 0.052229, 32500, 25000, 38000, 10304, 3967, 1385], [135, 6100, \"GENERAL MEDICAL AND HEALTH SERVICES\", 33599.0, 7574.0, 26025.0, \"Health\", 0.774577, 202, 24406, 18166, 11088, 12809, 2183, 0.082102, 32400, 25000, 45000, 9364, 12889, 3816], [136, 4801, \"PHILOSOPHY AND RELIGIOUS STUDIES\", 54814.0, 31967.0, 22847.0, \"Humanities & Liberal Arts\", 0.41681, 375, 40157, 31086, 16659, 21816, 4267, 0.096052, 32200, 23000, 47100, 14444, 20313, 8051], [137, 2314, \"ART AND MUSIC EDUCATION\", 34181.0, 10732.0, 23449.0, \"Education\", 0.686024, 338, 30007, 23018, 9209, 16537, 1206, 0.038638, 32100, 25000, 40000, 20821, 8260, 2767], [138, 3301, \"ENGLISH LANGUAGE AND LITERATURE\", 194673.0, 58227.0, 136446.0, \"Humanities & Liberal Arts\", 0.700898, 1436, 149180, 114386, 57825, 81180, 14345, 0.087724, 32000, 23000, 41000, 57690, 71827, 26503], [139, 2304, \"ELEMENTARY EDUCATION\", 170862.0, 13029.0, 157833.0, \"Education\", 0.923745, 1629, 149339, 123177, 37965, 86540, 7297, 0.046586, 32000, 23400, 38000, 108085, 36972, 11502], [140, 4101, \"PHYSICAL FITNESS PARKS RECREATION AND LEISURE\", 125074.0, 62181.0, 62893.0, \"Industrial Arts & Consumer Services\", 0.502846, 1014, 103078, 77428, 38515, 57978, 5593, 0.051467, 32000, 24000, 43000, 27581, 63946, 16838], [141, 3401, \"LIBERAL ARTS\", 71369.0, 22339.0, 49030.0, \"Humanities & Liberal Arts\", 0.686993, 569, 54844, 43401, 19187, 33438, 4657, 0.078268, 32000, 25000, 42000, 18565, 28558, 9030], [142, 6005, \"FILM VIDEO AND PHOTOGRAPHIC ARTS\", 38761.0, 22357.0, 16404.0, \"Arts\", 0.423209, 331, 31433, 22457, 12818, 15740, 3718, 0.105772, 32000, 22000, 42000, 7368, 20721, 5862], [143, 5500, \"GENERAL SOCIAL SCIENCES\", 12920.0, 5079.0, 7841.0, \"Social Science\", 0.606889, 113, 9602, 7700, 3396, 5679, 1108, 0.103455, 32000, 27000, 50000, 3602, 4778, 1634], [144, 1105, \"PLANT SCIENCE AND AGRONOMY\", 7416.0, 4897.0, 2519.0, \"Agriculture & Natural Resources\", 0.339671, 110, 6594, 5798, 1246, 4522, 314, 0.045455, 32000, 22900, 40000, 2089, 3545, 1231], [145, 2308, \"SCIENCE AND COMPUTER TEACHER EDUCATION\", 6483.0, 2049.0, 4434.0, \"Education\", 0.683943, 59, 5362, 4764, 1227, 3247, 266, 0.047264, 32000, 28000, 39000, 4214, 1106, 591], [146, 5200, \"PSYCHOLOGY\", 393735.0, 86648.0, 307087.0, \"Psychology & Social Work\", 0.779933, 2584, 307933, 233205, 115172, 174438, 28169, 0.083811, 31500, 24000, 41000, 125148, 141860, 48207], [147, 6002, \"MUSIC\", 60633.0, 29909.0, 30724.0, \"Arts\", 0.506721, 419, 47662, 29010, 24943, 21425, 3918, 0.07596, 31000, 22300, 42000, 13752, 28786, 9286], [148, 2306, \"PHYSICAL AND HEALTH EDUCATION TEACHING\", 28213.0, 15670.0, 12543.0, \"Education\", 0.444582, 259, 23794, 19420, 7230, 13651, 1920, 0.074667, 31000, 24000, 40000, 12777, 9328, 2042], [149, 6006, \"ART HISTORY AND CRITICISM\", 21030.0, 3240.0, 17790.0, \"Humanities & Liberal Arts\", 0.845934, 204, 17579, 13262, 6140, 9965, 1128, 0.060298, 31000, 23000, 40000, 5139, 9738, 3426], [150, 6000, \"FINE ARTS\", 74440.0, 24786.0, 49654.0, \"Arts\", 0.667034, 623, 59679, 42764, 23656, 31877, 5486, 0.084186, 30500, 21000, 41000, 20792, 32725, 11880], [151, 2901, \"FAMILY AND CONSUMER SCIENCES\", 58001.0, 5166.0, 52835.0, \"Industrial Arts & Consumer Services\", 0.910933, 518, 46624, 36747, 15872, 26906, 3355, 0.067128, 30000, 22900, 40000, 20985, 20133, 5248], [152, 5404, \"SOCIAL WORK\", 53552.0, 5137.0, 48415.0, \"Psychology & Social Work\", 0.904075, 374, 45038, 34941, 13481, 27588, 3329, 0.068828, 30000, 25000, 35000, 27449, 14416, 4344], [153, 1103, \"ANIMAL SCIENCES\", 21573.0, 5347.0, 16226.0, \"Agriculture & Natural Resources\", 0.752144, 255, 17112, 14479, 5353, 10824, 917, 0.050862, 30000, 22000, 40000, 5443, 9571, 2125], [154, 6003, \"VISUAL AND PERFORMING ARTS\", 16250.0, 4133.0, 12117.0, \"Arts\", 0.745662, 132, 12870, 8447, 6253, 6322, 1465, 0.102197, 30000, 22000, 40000, 3849, 7635, 2840], [155, 2312, \"TEACHER EDUCATION: MULTIPLE LEVELS\", 14443.0, 2734.0, 11709.0, \"Education\", 0.810704, 142, 13076, 11734, 2214, 8457, 496, 0.036546, 30000, 24000, 37000, 10766, 1949, 722], [156, 5299, \"MISCELLANEOUS PSYCHOLOGY\", 9628.0, 1936.0, 7692.0, \"Psychology & Social Work\", 0.79892, 60, 7653, 5201, 3221, 3838, 419, 0.051908, 30000, 20800, 40000, 2960, 3948, 1650], [157, 5403, \"HUMAN SERVICES AND COMMUNITY ORGANIZATION\", 9374.0, 885.0, 8489.0, \"Psychology & Social Work\", 0.90559, 89, 8294, 6455, 2405, 5061, 326, 0.037819, 30000, 24000, 35000, 2878, 4595, 724], [158, 3402, \"HUMANITIES\", 6652.0, 2013.0, 4639.0, \"Humanities & Liberal Arts\", 0.697384, 49, 5052, 3565, 2225, 2661, 372, 0.068584, 30000, 20000, 49000, 1168, 3354, 1141], [159, 4901, \"THEOLOGY AND RELIGIOUS VOCATIONS\", 30207.0, 18616.0, 11591.0, \"Humanities & Liberal Arts\", 0.383719, 310, 24202, 18079, 8767, 13944, 1617, 0.062628, 29000, 22000, 38000, 9927, 12037, 3304], [160, 6007, \"STUDIO ARTS\", 16977.0, 4754.0, 12223.0, \"Arts\", 0.719974, 182, 13908, 10451, 5673, 7413, 1368, 0.089552, 29000, 19200, 38300, 3948, 8707, 3586], [161, 2201, \"COSMETOLOGY SERVICES AND CULINARY ARTS\", 10510.0, 4364.0, 6146.0, \"Industrial Arts & Consumer Services\", 0.584776, 117, 8650, 7662, 2064, 5949, 510, 0.055677, 29000, 20000, 36000, 563, 7384, 3163], [162, 1199, \"MISCELLANEOUS AGRICULTURE\", 1488.0, 404.0, 1084.0, \"Agriculture & Natural Resources\", 0.728495, 24, 1290, 1098, 335, 936, 82, 0.059767, 29000, 23000, 42100, 483, 626, 31], [163, 5502, \"ANTHROPOLOGY AND ARCHEOLOGY\", 38844.0, 11376.0, 27468.0, \"Humanities & Liberal Arts\", 0.707136, 247, 29633, 20147, 14515, 13232, 3395, 0.102792, 28000, 20000, 38000, 9805, 16693, 6866], [164, 6102, \"COMMUNICATION DISORDERS SCIENCES AND SERVICES\", 38279.0, 1225.0, 37054.0, \"Health\", 0.967998, 95, 29763, 19975, 13862, 14460, 1487, 0.047584, 28000, 20000, 40000, 19957, 9404, 5125], [165, 2307, \"EARLY CHILDHOOD EDUCATION\", 37589.0, 1167.0, 36422.0, \"Education\", 0.968954, 342, 32551, 27569, 7001, 20748, 1360, 0.040105, 28000, 21000, 35000, 23515, 7705, 2868], [166, 2603, \"OTHER FOREIGN LANGUAGES\", 11204.0, 3472.0, 7732.0, \"Humanities & Liberal Arts\", 0.690111, 56, 7052, 5197, 3685, 3214, 846, 0.107116, 27500, 22900, 38000, 2326, 3703, 1115], [167, 6001, \"DRAMA AND THEATER ARTS\", 43249.0, 14440.0, 28809.0, \"Arts\", 0.666119, 357, 36165, 25147, 15994, 16891, 3040, 0.077541, 27000, 19200, 35000, 6994, 25313, 11068], [168, 3302, \"COMPOSITION AND RHETORIC\", 18953.0, 7022.0, 11931.0, \"Humanities & Liberal Arts\", 0.629505, 151, 15053, 10121, 6612, 7832, 1340, 0.081742, 27000, 20000, 35000, 4855, 8100, 3466], [169, 3609, \"ZOOLOGY\", 8409.0, 3050.0, 5359.0, \"Biology & Life Science\", 0.637293, 47, 6259, 5043, 2190, 3602, 304, 0.04632, 26000, 20000, 39000, 2771, 2947, 743], [170, 5201, \"EDUCATIONAL PSYCHOLOGY\", 2854.0, 522.0, 2332.0, \"Psychology & Social Work\", 0.817099, 7, 2125, 1848, 572, 1211, 148, 0.065112, 25000, 24000, 34000, 1488, 615, 82], [171, 5202, \"CLINICAL PSYCHOLOGY\", 2838.0, 568.0, 2270.0, \"Psychology & Social Work\", 0.799859, 13, 2101, 1724, 648, 1293, 368, 0.149048, 25000, 25000, 40000, 986, 870, 622], [172, 5203, \"COUNSELING PSYCHOLOGY\", 4626.0, 931.0, 3695.0, \"Psychology & Social Work\", 0.798746, 21, 3777, 3154, 965, 2738, 214, 0.053621, 23400, 19200, 26000, 2403, 1245, 308], [173, 3501, \"LIBRARY SCIENCE\", 1098.0, 134.0, 964.0, \"Education\", 0.87796, 2, 742, 593, 237, 410, 87, 0.104946, 22000, 20000, 22000, 288, 338, 192]];\n",
       "\n",
       "        // Define the dt_args\n",
       "        let dt_args = {\"layout\": {\"topStart\": \"pageLength\", \"topEnd\": \"search\", \"bottomStart\": \"info\", \"bottomEnd\": \"paging\"}, \"order\": []};\n",
       "        dt_args[\"data\"] = data;\n",
       "\n",
       "        \n",
       "        new DataTable(table, dt_args);\n",
       "    });\n",
       "</script>\n"
      ],
      "text/plain": [
       "<IPython.core.display.HTML object>"
      ]
     },
     "metadata": {},
     "output_type": "display_data"
    }
   ],
   "source": [
    "show(DF_raw)"
   ]
  },
  {
   "cell_type": "markdown",
   "id": "d2c98753-1b02-4889-81b3-d97627d70824",
   "metadata": {},
   "source": [
    "### 1. Describe the data that you see here.\n",
    "\n",
    "* How many variables?\n",
    "* How man observations?\n",
    "* Are the variables categorical or numerical?\n",
    "* Are there any variables that you don't know what they mean? If so [CLICK HERE - to see the Git Repo for the data where the variables are defined](https://github.com/fivethirtyeight/data/tree/master/college-majors)\n"
   ]
  },
  {
   "cell_type": "markdown",
   "id": "632b6870-1931-42ca-88c1-b38d5c562871",
   "metadata": {},
   "source": [
    "- There are 21 variables\n",
    "- There are 173 observations\n",
    "- Most variables are numerical, but Rank, Major_code, Major, and Major_category are categorical.\n",
    "- The median and percentile wages were a bit obscure. Glad to have the repoQ"
   ]
  },
  {
   "cell_type": "code",
   "execution_count": 60,
   "id": "b09fe27b-bcac-46c2-af97-6ca873f5e81d",
   "metadata": {},
   "outputs": [
    {
     "name": "stdout",
     "output_type": "stream",
     "text": [
      "Variables:  21\n"
     ]
    }
   ],
   "source": [
    "print(\"Variables: \",DF_raw.shape[1])"
   ]
  },
  {
   "cell_type": "code",
   "execution_count": 62,
   "id": "0b9165e9-a915-4cd4-898f-06d81ccf22fa",
   "metadata": {},
   "outputs": [
    {
     "name": "stdout",
     "output_type": "stream",
     "text": [
      "Observations:  173\n"
     ]
    }
   ],
   "source": [
    "print(\"Observations: \",DF_raw.shape[0])"
   ]
  },
  {
   "cell_type": "markdown",
   "id": "13005d11-f03f-40dd-a53c-9ff76f5dbfe1",
   "metadata": {},
   "source": [
    "- There are 21 variables\n",
    "- There are 173 observations\n",
    "- Most variables are numerical, but Rank, Major_code, Major, and Major_category are categorical.\n",
    "- The median and percentile wages were a bit obscure. Glad to have the repo!"
   ]
  },
  {
   "cell_type": "markdown",
   "id": "e6081090-f75b-43f2-aaee-e9e90afbb058",
   "metadata": {},
   "source": [
    "### 2. Answer some questions about the data\n",
    "\n",
    "* Which major has the lowest unemployment rate? Show a data frame that answers this question, but only show columns that are useful to the answer.\n",
    "* Which major has the highest percentage of women? Show a data frame that answers this question, but only show columns that are useful to the answer.\n",
    "* How do the distributions of median income compare across major categories?\n",
    "    * First get a value count on what major categories are in the data. What categories are most or least represented?\n",
    "    * Do some summary statistics using the .group_by() command to see the statistics for each major category.\n",
    "    * Make a histogram that explores median income for each of the major categories (facet_col). How did you choose your number of bins?\n",
    "    * Why do we often choose the median, rather than the mean, to describe the typical income of a group of people? Look this up online if you don't know the answer!\n",
    "    * Answer the question: Which major category has the highest typical (you'll need to decide what this means) median income?"
   ]
  },
  {
   "cell_type": "code",
   "execution_count": 178,
   "id": "65955115-72c3-445f-be32-af352ececa93",
   "metadata": {},
   "outputs": [
    {
     "name": "stdout",
     "output_type": "stream",
     "text": [
      "Majors sorted by unemployment rate:\n"
     ]
    },
    {
     "data": {
      "text/html": [
       "<table id=\"itables_4d54b20b_2b46_4b1c_a96f_c499e4bca36b\" class=\"display nowrap\" data-quarto-disable-processing=\"true\" style=\"table-layout:auto;width:auto;margin:auto;caption-side:bottom\">\n",
       "<thead>\n",
       "    <tr style=\"text-align: right;\">\n",
       "      <th></th>\n",
       "      <th>Major</th>\n",
       "      <th>Unemployment_rate</th>\n",
       "    </tr>\n",
       "  </thead><tbody><tr>\n",
       "<td style=\"vertical-align:middle; text-align:left\">\n",
       "<div style=\"float:left; margin-right: 10px;\">\n",
       "<a href=https://mwouts.github.io/itables/><svg class=\"main-svg\" xmlns=\"http://www.w3.org/2000/svg\" xmlns:xlink=\"http://www.w3.org/1999/xlink\"\n",
       "width=\"64\" viewBox=\"0 0 500 400\" style=\"font-family: 'Droid Sans', sans-serif;\">\n",
       "    <g style=\"fill:#d9d7fc\">\n",
       "        <path d=\"M100,400H500V357H100Z\" />\n",
       "        <path d=\"M100,300H400V257H100Z\" />\n",
       "        <path d=\"M0,200H400V157H0Z\" />\n",
       "        <path d=\"M100,100H500V57H100Z\" />\n",
       "        <path d=\"M100,350H500V307H100Z\" />\n",
       "        <path d=\"M100,250H400V207H100Z\" />\n",
       "        <path d=\"M0,150H400V107H0Z\" />\n",
       "        <path d=\"M100,50H500V7H100Z\" />\n",
       "    </g>\n",
       "    <g style=\"fill:#1a1366;stroke:#1a1366;\">\n",
       "   <rect x=\"100\" y=\"7\" width=\"400\" height=\"43\">\n",
       "    <animate\n",
       "      attributeName=\"width\"\n",
       "      values=\"0;400;0\"\n",
       "      dur=\"5s\"\n",
       "      repeatCount=\"indefinite\" />\n",
       "      <animate\n",
       "      attributeName=\"x\"\n",
       "      values=\"100;100;500\"\n",
       "      dur=\"5s\"\n",
       "      repeatCount=\"indefinite\" />\n",
       "  </rect>\n",
       "        <rect x=\"0\" y=\"107\" width=\"400\" height=\"43\">\n",
       "    <animate\n",
       "      attributeName=\"width\"\n",
       "      values=\"0;400;0\"\n",
       "      dur=\"3.5s\"\n",
       "      repeatCount=\"indefinite\" />\n",
       "    <animate\n",
       "      attributeName=\"x\"\n",
       "      values=\"0;0;400\"\n",
       "      dur=\"3.5s\"\n",
       "      repeatCount=\"indefinite\" />\n",
       "  </rect>\n",
       "        <rect x=\"100\" y=\"207\" width=\"300\" height=\"43\">\n",
       "    <animate\n",
       "      attributeName=\"width\"\n",
       "      values=\"0;300;0\"\n",
       "      dur=\"3s\"\n",
       "      repeatCount=\"indefinite\" />\n",
       "    <animate\n",
       "      attributeName=\"x\"\n",
       "      values=\"100;100;400\"\n",
       "      dur=\"3s\"\n",
       "      repeatCount=\"indefinite\" />\n",
       "  </rect>\n",
       "        <rect x=\"100\" y=\"307\" width=\"400\" height=\"43\">\n",
       "    <animate\n",
       "      attributeName=\"width\"\n",
       "      values=\"0;400;0\"\n",
       "      dur=\"4s\"\n",
       "      repeatCount=\"indefinite\" />\n",
       "      <animate\n",
       "      attributeName=\"x\"\n",
       "      values=\"100;100;500\"\n",
       "      dur=\"4s\"\n",
       "      repeatCount=\"indefinite\" />\n",
       "  </rect>\n",
       "        <g style=\"fill:transparent;stroke-width:8; stroke-linejoin:round\" rx=\"5\">\n",
       "            <g transform=\"translate(45 50) rotate(-45)\">\n",
       "                <circle r=\"33\" cx=\"0\" cy=\"0\" />\n",
       "                <rect x=\"-8\" y=\"32\" width=\"16\" height=\"30\" />\n",
       "            </g>\n",
       "\n",
       "            <g transform=\"translate(450 152)\">\n",
       "                <polyline points=\"-15,-20 -35,-20 -35,40 25,40 25,20\" />\n",
       "                <rect x=\"-15\" y=\"-40\" width=\"60\" height=\"60\" />\n",
       "            </g>\n",
       "\n",
       "            <g transform=\"translate(50 352)\">\n",
       "                <polygon points=\"-35,-5 0,-40 35,-5\" />\n",
       "                <polygon points=\"-35,10 0,45 35,10\" />\n",
       "            </g>\n",
       "\n",
       "            <g transform=\"translate(75 250)\">\n",
       "                <polyline points=\"-30,30 -60,0 -30,-30\" />\n",
       "                <polyline points=\"0,30 -30,0 0,-30\" />\n",
       "            </g>\n",
       "\n",
       "            <g transform=\"translate(425 250) rotate(180)\">\n",
       "                <polyline points=\"-30,30 -60,0 -30,-30\" />\n",
       "                <polyline points=\"0,30 -30,0 0,-30\" />\n",
       "            </g>\n",
       "        </g>\n",
       "    </g>\n",
       "</svg>\n",
       "</a>\n",
       "</div>\n",
       "<div>\n",
       "Loading ITables v2.1.4 from the internet...\n",
       "(need <a href=https://mwouts.github.io/itables/troubleshooting.html>help</a>?)</td>\n",
       "</div>\n",
       "</tr></tbody>\n",
       "\n",
       "</table>\n",
       "<link href=\"https://www.unpkg.com/dt_for_itables@2.0.11/dt_bundle.css\" rel=\"stylesheet\">\n",
       "<script type=\"module\">\n",
       "    import {DataTable, jQuery as $} from 'https://www.unpkg.com/dt_for_itables@2.0.11/dt_bundle.js';\n",
       "\n",
       "    document.querySelectorAll(\"#itables_4d54b20b_2b46_4b1c_a96f_c499e4bca36b:not(.dataTable)\").forEach(table => {\n",
       "        // Define the table data\n",
       "        const data = [[120, \"EDUCATIONAL ADMINISTRATION AND SUPERVISION\", 0.0], [73, \"MILITARY TECHNOLOGIES\", 0.0], [112, \"SOIL SCIENCE\", 0.0], [83, \"BOTANY\", 0.0], [52, \"MATHEMATICS AND COMPUTER SCIENCE\", 0.0], [14, \"ENGINEERING MECHANICS PHYSICS AND SCIENCE\", 0.006334], [19, \"COURT REPORTING\", 0.01169], [119, \"MATHEMATICS TEACHER EDUCATION\", 0.016203], [0, \"PETROLEUM ENGINEERING\", 0.018381], [64, \"GENERAL AGRICULTURE\", 0.019642], [7, \"ASTRONOMY AND ASTROPHYSICS\", 0.021167], [110, \"ATMOSPHERIC SCIENCES AND METEOROLOGY\", 0.022229], [13, \"MATERIALS SCIENCE\", 0.023043], [2, \"METALLURGICAL ENGINEERING\", 0.024096], [90, \"GEOSCIENCES\", 0.024374], [23, \"MATERIALS ENGINEERING AND MATERIALS SCIENCE\", 0.027789], [38, \"INDUSTRIAL PRODUCTION TECHNOLOGIES\", 0.028308], [75, \"ELECTRICAL, MECHANICAL, AND PRECISION TECHNOLOGIES AND PRODUCTION\", 0.02948], [91, \"SOCIAL PSYCHOLOGY\", 0.02965], [50, \"ENGINEERING AND INDUSTRIAL MANAGEMENT\", 0.033652], [67, \"GENETICS\", 0.034118], [72, \"PHYSICAL SCIENCES\", 0.035354], [154, \"TEACHER EDUCATION: MULTIPLE LEVELS\", 0.036546], [44, \"MEDICAL TECHNOLOGIES TECHNICIANS\", 0.036983], [156, \"HUMAN SERVICES AND COMMUNITY ORGANIZATION\", 0.037819], [136, \"ART AND MUSIC EDUCATION\", 0.038638], [164, \"EARLY CHILDHOOD EDUCATION\", 0.040105], [100, \"SPECIAL NEEDS EDUCATION\", 0.041508], [51, \"MEDICAL ASSISTING SERVICES\", 0.042507], [16, \"INDUSTRIAL AND MANUFACTURING ENGINEERING\", 0.042876], [34, \"NURSING\", 0.044863], [143, \"PLANT SCIENCE AND AGRONOMY\", 0.045455], [168, \"ZOOLOGY\", 0.04632], [138, \"ELEMENTARY EDUCATION\", 0.046586], [69, \"UNITED STATES HISTORY\", 0.047179], [144, \"SCIENCE AND COMPUTER TEACHER EDUCATION\", 0.047264], [41, \"MATHEMATICS\", 0.047277], [163, \"COMMUNICATION DISORDERS SCIENCES AND SERVICES\", 0.047584], [27, \"OPERATIONS LOGISTICS AND E-COMMERCE\", 0.047859], [43, \"PHYSICS\", 0.048224], [108, \"NEUROSCIENCE\", 0.048482], [63, \"AGRICULTURE PRODUCTION AND MANAGEMENT\", 0.050031], [3, \"NAVAL ARCHITECTURE AND MARINE ENGINEERING\", 0.050125], [128, \"LANGUAGE AND DRAMA EDUCATION\", 0.050306], [152, \"ANIMAL SCIENCES\", 0.050862], [139, \"PHYSICAL FITNESS PARKS RECREATION AND LEISURE\", 0.051467], [155, \"MISCELLANEOUS PSYCHOLOGY\", 0.051908], [133, \"SECONDARY TEACHER EDUCATION\", 0.052229], [65, \"MISCELLANEOUS ENGINEERING TECHNOLOGIES\", 0.052539], [171, \"COUNSELING PSYCHOLOGY\", 0.053621], [74, \"CHEMISTRY\", 0.053972], [117, \"SOCIAL SCIENCE OR HISTORY TEACHER EDUCATION\", 0.054083], [132, \"ECOLOGY\", 0.054475], [31, \"ENGINEERING TECHNOLOGIES\", 0.05503], [60, \"PHARMACY PHARMACEUTICAL SCIENCES AND ADMINISTRATION\", 0.055521], [160, \"COSMETOLOGY SERVICES AND CULINARY ARTS\", 0.055677], [97, \"MULTI-DISCIPLINARY OR GENERAL SCIENCE\", 0.055807], [66, \"MECHANICAL ENGINEERING RELATED TECHNOLOGIES\", 0.056357], [49, \"OCEANOGRAPHY\", 0.056995], [8, \"MECHANICAL ENGINEERING\", 0.057342], [113, \"GENERAL EDUCATION\", 0.05736], [24, \"MANAGEMENT INFORMATION SYSTEMS AND STATISTICS\", 0.05824], [122, \"MISCELLANEOUS BIOLOGY\", 0.058545], [9, \"ELECTRICAL ENGINEERING\", 0.059174], [130, \"MISCELLANEOUS EDUCATION\", 0.059212], [86, \"HUMAN RESOURCES AND PERSONNEL MANAGEMENT\", 0.05957], [161, \"MISCELLANEOUS AGRICULTURE\", 0.059767], [126, \"TREATMENT THERAPY PROFESSIONS\", 0.059821], [17, \"GENERAL ENGINEERING\", 0.059824], [26, \"CONSTRUCTION SERVICES\", 0.060023], [148, \"ART HISTORY AND CRITICISM\", 0.060298], [35, \"FINANCE\", 0.060686], [45, \"INFORMATION SCIENCES\", 0.060741], [4, \"CHEMICAL ENGINEERING\", 0.061098], [127, \"HOSPITALITY MANAGEMENT\", 0.061169], [77, \"MARKETING AND MARKETING RESEARCH\", 0.061215], [18, \"ARCHITECTURAL ENGINEERING\", 0.061931], [158, \"THEOLOGY AND RELIGIOUS VOCATIONS\", 0.062628], [20, \"COMPUTER SCIENCE\", 0.063173], [99, \"AREA ETHNIC AND CIVILIZATION STUDIES\", 0.063429], [169, \"EDUCATIONAL PSYCHOLOGY\", 0.065112], [11, \"AEROSPACE ENGINEERING\", 0.065162], [10, \"COMPUTER ENGINEERING\", 0.065409], [107, \"NATURAL RESOURCES MANAGEMENT\", 0.066619], [80, \"MICROBIOLOGY\", 0.066776], [150, \"FAMILY AND CONSUMER SCIENCES\", 0.067128], [98, \"ADVERTISING AND PUBLIC RELATIONS\", 0.067961], [157, \"HUMANITIES\", 0.068584], [103, \"NUTRITION SCIENCES\", 0.068701], [151, \"SOCIAL WORK\", 0.068828], [101, \"PHYSIOLOGY\", 0.069163], [96, \"JOURNALISM\", 0.069176], [40, \"ACCOUNTING\", 0.069749], [121, \"HEALTH AND MEDICAL PREPARATORY PROGRAMS\", 0.06978], [25, \"CIVIL ENGINEERING\", 0.07061], [123, \"BIOLOGY\", 0.070725], [109, \"MULTI/INTERDISCIPLINARY STUDIES\", 0.070861], [39, \"NUCLEAR, INDUSTRIAL RADIOLOGY, AND BIOLOGICAL TECHNOLOGIES\", 0.07154], [87, \"PRE-LAW AND LEGAL STUDIES\", 0.071965], [62, \"MISCELLANEOUS BUSINESS & MEDICAL ADMINISTRATION\", 0.071983], [76, \"BUSINESS MANAGEMENT AND ADMINISTRATION\", 0.072218], [106, \"TRANSPORTATION SCIENCES AND TECHNOLOGIES\", 0.072725], [57, \"GENERAL BUSINESS\", 0.072861], [68, \"MISCELLANEOUS SOCIAL SCIENCES\", 0.07308], [28, \"MISCELLANEOUS ENGINEERING\", 0.074393], [147, \"PHYSICAL AND HEALTH EDUCATION TEACHING\", 0.074667], [33, \"GEOLOGICAL AND GEOPHYSICAL ENGINEERING\", 0.075038], [93, \"COMMUNICATIONS\", 0.075177], [54, \"COGNITIVE SCIENCE AND BIOPSYCHOLOGY\", 0.075236], [85, \"GEOLOGY AND EARTH SCIENCE\", 0.075449], [115, \"FRENCH GERMAN LATIN AND OTHER COMMON FOREIGN LANGUAGE STUDIES\", 0.075566], [146, \"MUSIC\", 0.07596], [71, \"AGRICULTURAL ECONOMICS\", 0.07725], [166, \"DRAMA AND THEATER ARTS\", 0.077541], [140, \"LIBERAL ARTS\", 0.078268], [92, \"ENVIRONMENTAL SCIENCE\", 0.078585], [82, \"BIOCHEMICAL SCIENCES\", 0.080531], [88, \"MISCELLANEOUS HEALTH MEDICAL PROFESSIONS\", 0.081411], [167, \"COMPOSITION AND RHETORIC\", 0.081742], [134, \"GENERAL MEDICAL AND HEALTH SERVICES\", 0.082102], [94, \"CRIMINAL JUSTICE AND FIRE PROTECTION\", 0.082452], [116, \"INTERCULTURAL AND INTERNATIONAL STUDIES\", 0.083634], [145, \"PSYCHOLOGY\", 0.083811], [149, \"FINE ARTS\", 0.084186], [61, \"MOLECULAR BIOLOGY\", 0.084361], [124, \"SOCIOLOGY\", 0.084951], [48, \"PHARMACOLOGY\", 0.085532], [46, \"STATISTICS AND DECISION SCIENCE\", 0.086274], [15, \"BIOLOGICAL ENGINEERING\", 0.087143], [22, \"ELECTRICAL ENGINEERING TECHNOLOGY\", 0.087557], [137, \"ENGLISH LANGUAGE AND LITERATURE\", 0.087724], [32, \"MISCELLANEOUS FINE ARTS\", 0.089375], [159, \"STUDIO ARTS\", 0.089552], [104, \"HEALTH AND MEDICAL ADMINISTRATIVE SERVICES\", 0.089626], [125, \"MASS MEDIA\", 0.089837], [47, \"APPLIED MATHEMATICS\", 0.090823], [12, \"BIOMEDICAL ENGINEERING\", 0.092084], [131, \"INTERDISCIPLINARY SOCIAL SCIENCES\", 0.092306], [42, \"COMPUTER AND INFORMATION SYSTEMS\", 0.09346], [30, \"ENVIRONMENTAL ENGINEERING\", 0.093589], [6, \"ACTUARIAL SCIENCE\", 0.095652], [114, \"HISTORY\", 0.095667], [135, \"PHILOSOPHY AND RELIGIOUS STUDIES\", 0.096052], [59, \"INTERNATIONAL BUSINESS\", 0.096175], [37, \"BUSINESS ECONOMICS\", 0.096448], [111, \"FORESTRY\", 0.096726], [95, \"COMMERCIAL ART AND GRAPHIC DESIGN\", 0.096798], [56, \"INTERNATIONAL RELATIONS\", 0.096799], [21, \"FOOD SCIENCE\", 0.096931], [102, \"CRIMINOLOGY\", 0.097244], [36, \"ECONOMICS\", 0.099092], [81, \"COMPUTER ADMINISTRATION MANAGEMENT AND SECURITY\", 0.099723], [78, \"POLITICAL SCIENCE AND GOVERNMENT\", 0.101175], [153, \"VISUAL AND PERFORMING ARTS\", 0.102197], [162, \"ANTHROPOLOGY AND ARCHEOLOGY\", 0.102792], [142, \"GENERAL SOCIAL SCIENCES\", 0.103455], [129, \"LINGUISTICS AND COMPARATIVE LANGUAGE AND LITERATURE\", 0.104436], [172, \"LIBRARY SCIENCE\", 0.104946], [141, \"FILM VIDEO AND PHOTOGRAPHIC ARTS\", 0.105772], [165, \"OTHER FOREIGN LANGUAGES\", 0.107116], [55, \"SCHOOL STUDENT COUNSELING\", 0.107579], [70, \"INDUSTRIAL AND ORGANIZATIONAL PSYCHOLOGY\", 0.108787], [118, \"COMMUNITY AND PUBLIC HEALTH\", 0.112144], [58, \"ARCHITECTURE\", 0.113332], [79, \"GEOGRAPHY\", 0.113459], [53, \"COMPUTER PROGRAMMING AND DATA PROCESSING\", 0.113983], [1, \"MINING AND MINERAL ENGINEERING\", 0.117241], [105, \"COMMUNICATION TECHNOLOGIES\", 0.119511], [29, \"PUBLIC POLICY\", 0.128426], [170, \"CLINICAL PSYCHOLOGY\", 0.149048], [84, \"COMPUTER NETWORKING AND TELECOMMUNICATIONS\", 0.15185], [89, \"PUBLIC ADMINISTRATION\", 0.159491], [5, \"NUCLEAR ENGINEERING\", 0.177226]];\n",
       "\n",
       "        // Define the dt_args\n",
       "        let dt_args = {\"layout\": {\"topStart\": \"pageLength\", \"topEnd\": \"search\", \"bottomStart\": \"info\", \"bottomEnd\": \"paging\"}, \"order\": []};\n",
       "        dt_args[\"data\"] = data;\n",
       "\n",
       "        \n",
       "        new DataTable(table, dt_args);\n",
       "    });\n",
       "</script>\n"
      ],
      "text/plain": [
       "<IPython.core.display.HTML object>"
      ]
     },
     "metadata": {},
     "output_type": "display_data"
    }
   ],
   "source": [
    "#unemployment\n",
    "print(\"Majors sorted by unemployment rate:\")\n",
    "show( DF_raw[['Major', 'Unemployment_rate']].sort_values(by='Unemployment_rate', ascending=True) )"
   ]
  },
  {
   "cell_type": "markdown",
   "id": "591bda7f-60ed-406b-ba0a-166ed6aede24",
   "metadata": {},
   "source": [
    "Education Administration and Supervision, Military Technologies, Soil Science, Botany, and Mathematics and Computer Science all have zero unemployment."
   ]
  },
  {
   "cell_type": "code",
   "execution_count": 181,
   "id": "8b12bd53-36e0-47b4-9ef5-3cbf6fc065a4",
   "metadata": {},
   "outputs": [
    {
     "name": "stdout",
     "output_type": "stream",
     "text": [
      "Majors sorted by percent women:\n"
     ]
    },
    {
     "data": {
      "text/html": [
       "<table id=\"itables_770903d4_b11e_4316_a2e2_4fd09ef8cc78\" class=\"display nowrap\" data-quarto-disable-processing=\"true\" style=\"table-layout:auto;width:auto;margin:auto;caption-side:bottom\">\n",
       "<thead>\n",
       "    <tr style=\"text-align: right;\">\n",
       "      <th></th>\n",
       "      <th>Major</th>\n",
       "      <th>ShareWomen</th>\n",
       "    </tr>\n",
       "  </thead><tbody><tr>\n",
       "<td style=\"vertical-align:middle; text-align:left\">\n",
       "<div style=\"float:left; margin-right: 10px;\">\n",
       "<a href=https://mwouts.github.io/itables/><svg class=\"main-svg\" xmlns=\"http://www.w3.org/2000/svg\" xmlns:xlink=\"http://www.w3.org/1999/xlink\"\n",
       "width=\"64\" viewBox=\"0 0 500 400\" style=\"font-family: 'Droid Sans', sans-serif;\">\n",
       "    <g style=\"fill:#d9d7fc\">\n",
       "        <path d=\"M100,400H500V357H100Z\" />\n",
       "        <path d=\"M100,300H400V257H100Z\" />\n",
       "        <path d=\"M0,200H400V157H0Z\" />\n",
       "        <path d=\"M100,100H500V57H100Z\" />\n",
       "        <path d=\"M100,350H500V307H100Z\" />\n",
       "        <path d=\"M100,250H400V207H100Z\" />\n",
       "        <path d=\"M0,150H400V107H0Z\" />\n",
       "        <path d=\"M100,50H500V7H100Z\" />\n",
       "    </g>\n",
       "    <g style=\"fill:#1a1366;stroke:#1a1366;\">\n",
       "   <rect x=\"100\" y=\"7\" width=\"400\" height=\"43\">\n",
       "    <animate\n",
       "      attributeName=\"width\"\n",
       "      values=\"0;400;0\"\n",
       "      dur=\"5s\"\n",
       "      repeatCount=\"indefinite\" />\n",
       "      <animate\n",
       "      attributeName=\"x\"\n",
       "      values=\"100;100;500\"\n",
       "      dur=\"5s\"\n",
       "      repeatCount=\"indefinite\" />\n",
       "  </rect>\n",
       "        <rect x=\"0\" y=\"107\" width=\"400\" height=\"43\">\n",
       "    <animate\n",
       "      attributeName=\"width\"\n",
       "      values=\"0;400;0\"\n",
       "      dur=\"3.5s\"\n",
       "      repeatCount=\"indefinite\" />\n",
       "    <animate\n",
       "      attributeName=\"x\"\n",
       "      values=\"0;0;400\"\n",
       "      dur=\"3.5s\"\n",
       "      repeatCount=\"indefinite\" />\n",
       "  </rect>\n",
       "        <rect x=\"100\" y=\"207\" width=\"300\" height=\"43\">\n",
       "    <animate\n",
       "      attributeName=\"width\"\n",
       "      values=\"0;300;0\"\n",
       "      dur=\"3s\"\n",
       "      repeatCount=\"indefinite\" />\n",
       "    <animate\n",
       "      attributeName=\"x\"\n",
       "      values=\"100;100;400\"\n",
       "      dur=\"3s\"\n",
       "      repeatCount=\"indefinite\" />\n",
       "  </rect>\n",
       "        <rect x=\"100\" y=\"307\" width=\"400\" height=\"43\">\n",
       "    <animate\n",
       "      attributeName=\"width\"\n",
       "      values=\"0;400;0\"\n",
       "      dur=\"4s\"\n",
       "      repeatCount=\"indefinite\" />\n",
       "      <animate\n",
       "      attributeName=\"x\"\n",
       "      values=\"100;100;500\"\n",
       "      dur=\"4s\"\n",
       "      repeatCount=\"indefinite\" />\n",
       "  </rect>\n",
       "        <g style=\"fill:transparent;stroke-width:8; stroke-linejoin:round\" rx=\"5\">\n",
       "            <g transform=\"translate(45 50) rotate(-45)\">\n",
       "                <circle r=\"33\" cx=\"0\" cy=\"0\" />\n",
       "                <rect x=\"-8\" y=\"32\" width=\"16\" height=\"30\" />\n",
       "            </g>\n",
       "\n",
       "            <g transform=\"translate(450 152)\">\n",
       "                <polyline points=\"-15,-20 -35,-20 -35,40 25,40 25,20\" />\n",
       "                <rect x=\"-15\" y=\"-40\" width=\"60\" height=\"60\" />\n",
       "            </g>\n",
       "\n",
       "            <g transform=\"translate(50 352)\">\n",
       "                <polygon points=\"-35,-5 0,-40 35,-5\" />\n",
       "                <polygon points=\"-35,10 0,45 35,10\" />\n",
       "            </g>\n",
       "\n",
       "            <g transform=\"translate(75 250)\">\n",
       "                <polyline points=\"-30,30 -60,0 -30,-30\" />\n",
       "                <polyline points=\"0,30 -30,0 0,-30\" />\n",
       "            </g>\n",
       "\n",
       "            <g transform=\"translate(425 250) rotate(180)\">\n",
       "                <polyline points=\"-30,30 -60,0 -30,-30\" />\n",
       "                <polyline points=\"0,30 -30,0 0,-30\" />\n",
       "            </g>\n",
       "        </g>\n",
       "    </g>\n",
       "</svg>\n",
       "</a>\n",
       "</div>\n",
       "<div>\n",
       "Loading ITables v2.1.4 from the internet...\n",
       "(need <a href=https://mwouts.github.io/itables/troubleshooting.html>help</a>?)</td>\n",
       "</div>\n",
       "</tr></tbody>\n",
       "\n",
       "</table>\n",
       "<link href=\"https://www.unpkg.com/dt_for_itables@2.0.11/dt_bundle.css\" rel=\"stylesheet\">\n",
       "<script type=\"module\">\n",
       "    import {DataTable, jQuery as $} from 'https://www.unpkg.com/dt_for_itables@2.0.11/dt_bundle.js';\n",
       "\n",
       "    document.querySelectorAll(\"#itables_770903d4_b11e_4316_a2e2_4fd09ef8cc78:not(.dataTable)\").forEach(table => {\n",
       "        // Define the table data\n",
       "        const data = [[164, \"EARLY CHILDHOOD EDUCATION\", 0.968954], [163, \"COMMUNICATION DISORDERS SCIENCES AND SERVICES\", 0.967998], [51, \"MEDICAL ASSISTING SERVICES\", 0.927807], [138, \"ELEMENTARY EDUCATION\", 0.923745], [150, \"FAMILY AND CONSUMER SCIENCES\", 0.910933], [100, \"SPECIAL NEEDS EDUCATION\", 0.906677], [156, \"HUMAN SERVICES AND COMMUNITY ORGANIZATION\", 0.90559], [151, \"SOCIAL WORK\", 0.904075], [34, \"NURSING\", 0.896019], [88, \"MISCELLANEOUS HEALTH MEDICAL PROFESSIONS\", 0.881294], [172, \"LIBRARY SCIENCE\", 0.87796], [128, \"LANGUAGE AND DRAMA EDUCATION\", 0.877228], [103, \"NUTRITION SCIENCES\", 0.864456], [55, \"SCHOOL STUDENT COUNSELING\", 0.854523], [148, \"ART HISTORY AND CRITICISM\", 0.845934], [169, \"EDUCATIONAL PSYCHOLOGY\", 0.817099], [113, \"GENERAL EDUCATION\", 0.812877], [154, \"TEACHER EDUCATION: MULTIPLE LEVELS\", 0.810704], [170, \"CLINICAL PSYCHOLOGY\", 0.799859], [155, \"MISCELLANEOUS PSYCHOLOGY\", 0.79892], [171, \"COUNSELING PSYCHOLOGY\", 0.798746], [118, \"COMMUNITY AND PUBLIC HEALTH\", 0.792095], [145, \"PSYCHOLOGY\", 0.779933], [134, \"GENERAL MEDICAL AND HEALTH SERVICES\", 0.774577], [109, \"MULTI/INTERDISCIPLINARY STUDIES\", 0.770901], [104, \"HEALTH AND MEDICAL ADMINISTRATIVE SERVICES\", 0.764427], [131, \"INTERDISCIPLINARY SOCIAL SCIENCES\", 0.76432], [98, \"ADVERTISING AND PUBLIC RELATIONS\", 0.75806], [44, \"MEDICAL TECHNOLOGIES TECHNICIANS\", 0.753927], [152, \"ANIMAL SCIENCES\", 0.752144], [39, \"NUCLEAR, INDUSTRIAL RADIOLOGY, AND BIOLOGICAL TECHNOLOGIES\", 0.750473], [86, \"HUMAN RESOURCES AND PERSONNEL MANAGEMENT\", 0.747561], [153, \"VISUAL AND PERFORMING ARTS\", 0.745662], [129, \"LINGUISTICS AND COMPARATIVE LANGUAGE AND LITERATURE\", 0.733992], [115, \"FRENCH GERMAN LATIN AND OTHER COMMON FOREIGN LANGUAGE STUDIES\", 0.733968], [161, \"MISCELLANEOUS AGRICULTURE\", 0.728495], [119, \"MATHEMATICS TEACHER EDUCATION\", 0.728033], [126, \"TREATMENT THERAPY PROFESSIONS\", 0.721866], [159, \"STUDIO ARTS\", 0.719974], [99, \"AREA ETHNIC AND CIVILIZATION STUDIES\", 0.719859], [124, \"SOCIOLOGY\", 0.718365], [48, \"PHARMACOLOGY\", 0.707719], [162, \"ANTHROPOLOGY AND ARCHEOLOGY\", 0.707136], [91, \"SOCIAL PSYCHOLOGY\", 0.70202], [137, \"ENGLISH LANGUAGE AND LITERATURE\", 0.700898], [157, \"HUMANITIES\", 0.697384], [95, \"COMMERCIAL ART AND GRAPHIC DESIGN\", 0.690365], [165, \"OTHER FOREIGN LANGUAGES\", 0.690111], [49, \"OCEANOGRAPHY\", 0.688999], [140, \"LIBERAL ARTS\", 0.686993], [136, \"ART AND MUSIC EDUCATION\", 0.686024], [144, \"SCIENCE AND COMPUTER TEACHER EDUCATION\", 0.683943], [96, \"JOURNALISM\", 0.673143], [87, \"PRE-LAW AND LEGAL STUDIES\", 0.672161], [93, \"COMMUNICATIONS\", 0.669999], [149, \"FINE ARTS\", 0.667034], [166, \"DRAMA AND THEATER ARTS\", 0.666119], [116, \"INTERCULTURAL AND INTERNATIONAL STUDIES\", 0.65213], [120, \"EDUCATIONAL ADMINISTRATION AND SUPERVISION\", 0.651741], [127, \"HOSPITALITY MANAGEMENT\", 0.65166], [70, \"INDUSTRIAL AND ORGANIZATIONAL PSYCHOLOGY\", 0.643331], [130, \"MISCELLANEOUS EDUCATION\", 0.64], [108, \"NEUROSCIENCE\", 0.638147], [168, \"ZOOLOGY\", 0.637293], [56, \"INTERNATIONAL RELATIONS\", 0.632987], [60, \"PHARMACY PHARMACEUTICAL SCIENCES AND ADMINISTRATION\", 0.630716], [167, \"COMPOSITION AND RHETORIC\", 0.629505], [101, \"PHYSIOLOGY\", 0.618223], [77, \"MARKETING AND MARKETING RESEARCH\", 0.615727], [142, \"GENERAL SOCIAL SCIENCES\", 0.606889], [123, \"BIOLOGY\", 0.601858], [133, \"SECONDARY TEACHER EDUCATION\", 0.601752], [61, \"MOLECULAR BIOLOGY\", 0.594208], [90, \"GEOSCIENCES\", 0.591001], [59, \"INTERNATIONAL BUSINESS\", 0.589712], [160, \"COSMETOLOGY SERVICES AND CULINARY ARTS\", 0.584776], [92, \"ENVIRONMENTAL SCIENCE\", 0.584556], [80, \"MICROBIOLOGY\", 0.580948], [132, \"ECOLOGY\", 0.57636], [121, \"HEALTH AND MEDICAL PREPARATORY PROGRAMS\", 0.566641], [54, \"COGNITIVE SCIENCE AND BIOPSYCHOLOGY\", 0.564866], [97, \"MULTI-DISCIPLINARY OR GENERAL SCIENCE\", 0.564639], [29, \"PUBLIC POLICY\", 0.558548], [122, \"MISCELLANEOUS BIOLOGY\", 0.556604], [68, \"MISCELLANEOUS SOCIAL SCIENCES\", 0.543405], [7, \"ASTRONOMY AND ASTROPHYSICS\", 0.535714], [125, \"MASS MEDIA\", 0.532334], [83, \"BOTANY\", 0.528969], [46, \"STATISTICS AND DECISION SCIENCE\", 0.526476], [40, \"ACCOUNTING\", 0.524153], [67, \"GENETICS\", 0.515543], [82, \"BIOCHEMICAL SCIENCES\", 0.515406], [117, \"SOCIAL SCIENCE OR HISTORY TEACHER EDUCATION\", 0.507377], [146, \"MUSIC\", 0.506721], [74, \"CHEMISTRY\", 0.505141], [139, \"PHYSICAL FITNESS PARKS RECREATION AND LEISURE\", 0.502846], [102, \"CRIMINOLOGY\", 0.495397], [78, \"POLITICAL SCIENCE AND GOVERNMENT\", 0.48593], [89, \"PUBLIC ADMINISTRATION\", 0.476461], [94, \"CRIMINAL JUSTICE AND FIRE PROTECTION\", 0.47501], [76, \"BUSINESS MANAGEMENT AND ADMINISTRATION\", 0.47319], [85, \"GEOLOGY AND EARTH SCIENCE\", 0.470197], [58, \"ARCHITECTURE\", 0.451465], [114, \"HISTORY\", 0.448732], [41, \"MATHEMATICS\", 0.448099], [147, \"PHYSICAL AND HEALTH EDUCATION TEACHING\", 0.444582], [6, \"ACTUARIAL SCIENCE\", 0.441356], [12, \"BIOMEDICAL ENGINEERING\", 0.437847], [57, \"GENERAL BUSINESS\", 0.436302], [47, \"APPLIED MATHEMATICS\", 0.434298], [37, \"BUSINESS ECONOMICS\", 0.430537], [69, \"UNITED STATES HISTORY\", 0.429685], [62, \"MISCELLANEOUS BUSINESS & MEDICAL ADMINISTRATION\", 0.426924], [141, \"FILM VIDEO AND PHOTOGRAPHIC ARTS\", 0.423209], [64, \"GENERAL AGRICULTURE\", 0.417925], [135, \"PHILOSOPHY AND RELIGIOUS STUDIES\", 0.41681], [32, \"MISCELLANEOUS FINE ARTS\", 0.41018], [158, \"THEOLOGY AND RELIGIOUS VOCATIONS\", 0.383719], [79, \"GEOGRAPHY\", 0.3829], [72, \"PHYSICAL SCIENCES\", 0.377437], [107, \"NATURAL RESOURCES MANAGEMENT\", 0.374356], [105, \"COMMUNICATION TECHNOLOGIES\", 0.366177], [36, \"ECONOMICS\", 0.355469], [18, \"ARCHITECTURAL ENGINEERING\", 0.350442], [16, \"INDUSTRIAL AND MANUFACTURING ENGINEERING\", 0.343473], [30, \"ENVIRONMENTAL ENGINEERING\", 0.342229], [4, \"CHEMICAL ENGINEERING\", 0.341631], [35, \"FINANCE\", 0.340825], [143, \"PLANT SCIENCE AND AGRONOMY\", 0.339671], [23, \"MATERIALS ENGINEERING AND MATERIALS SCIENCE\", 0.325092], [27, \"OPERATIONS LOGISTICS AND E-COMMERCE\", 0.324838], [33, \"GEOLOGICAL AND GEOPHYSICAL ENGINEERING\", 0.322222], [63, \"AGRICULTURE PRODUCTION AND MANAGEMENT\", 0.32177], [110, \"ATMOSPHERIC SCIENCES AND METEOROLOGY\", 0.321296], [15, \"BIOLOGICAL ENGINEERING\", 0.320784], [13, \"MATERIALS SCIENCE\", 0.31082], [112, \"SOIL SCIENCE\", 0.305109], [84, \"COMPUTER NETWORKING AND TELECOMMUNICATIONS\", 0.305005], [22, \"ELECTRICAL ENGINEERING TECHNOLOGY\", 0.292607], [71, \"AGRICULTURAL ECONOMICS\", 0.282903], [43, \"PHYSICS\", 0.281936], [24, \"MANAGEMENT INFORMATION SYSTEMS AND STATISTICS\", 0.27879], [53, \"COMPUTER PROGRAMMING AND DATA PROCESSING\", 0.269194], [42, \"COMPUTER AND INFORMATION SYSTEMS\", 0.253583], [17, \"GENERAL ENGINEERING\", 0.25296], [31, \"ENGINEERING TECHNOLOGIES\", 0.251389], [38, \"INDUSTRIAL PRODUCTION TECHNOLOGIES\", 0.24919], [45, \"INFORMATION SCIENCES\", 0.244103], [19, \"COURT REPORTING\", 0.236063], [75, \"ELECTRICAL, MECHANICAL, AND PRECISION TECHNOLOGIES AND PRODUCTION\", 0.232444], [25, \"CIVIL ENGINEERING\", 0.227118], [20, \"COMPUTER SCIENCE\", 0.222695], [65, \"MISCELLANEOUS ENGINEERING TECHNOLOGIES\", 0.200023], [10, \"COMPUTER ENGINEERING\", 0.199413], [9, \"ELECTRICAL ENGINEERING\", 0.19645], [28, \"MISCELLANEOUS ENGINEERING\", 0.18997], [14, \"ENGINEERING MECHANICS PHYSICS AND SCIENCE\", 0.183985], [81, \"COMPUTER ADMINISTRATION MANAGEMENT AND SECURITY\", 0.180883], [52, \"MATHEMATICS AND COMPUTER SCIENCE\", 0.178982], [50, \"ENGINEERING AND INDUSTRIAL MANAGEMENT\", 0.174123], [2, \"METALLURGICAL ENGINEERING\", 0.153037], [5, \"NUCLEAR ENGINEERING\", 0.144967], [11, \"AEROSPACE ENGINEERING\", 0.139793], [111, \"FORESTRY\", 0.125035], [106, \"TRANSPORTATION SCIENCES AND TECHNOLOGIES\", 0.12495], [0, \"PETROLEUM ENGINEERING\", 0.120564], [8, \"MECHANICAL ENGINEERING\", 0.119559], [3, \"NAVAL ARCHITECTURE AND MARINE ENGINEERING\", 0.107313], [1, \"MINING AND MINERAL ENGINEERING\", 0.101852], [26, \"CONSTRUCTION SERVICES\", 0.090713], [66, \"MECHANICAL ENGINEERING RELATED TECHNOLOGIES\", 0.077453], [73, \"MILITARY TECHNOLOGIES\", 0.0], [21, \"FOOD SCIENCE\", NaN]];\n",
       "\n",
       "        // Define the dt_args\n",
       "        let dt_args = {\"layout\": {\"topStart\": \"pageLength\", \"topEnd\": \"search\", \"bottomStart\": \"info\", \"bottomEnd\": \"paging\"}, \"order\": []};\n",
       "        dt_args[\"data\"] = data;\n",
       "\n",
       "        \n",
       "        new DataTable(table, dt_args);\n",
       "    });\n",
       "</script>\n"
      ],
      "text/plain": [
       "<IPython.core.display.HTML object>"
      ]
     },
     "metadata": {},
     "output_type": "display_data"
    }
   ],
   "source": [
    "#share women\n",
    "print(\"Majors sorted by percent women:\")\n",
    "show( DF_raw[['Major', 'ShareWomen']].sort_values(by='ShareWomen', ascending=False) )"
   ]
  },
  {
   "cell_type": "markdown",
   "id": "0b31fa5a-f8a8-46db-a93b-fdaef2172ba1",
   "metadata": {},
   "source": [
    "Early Childhood Education has the highest share of women."
   ]
  },
  {
   "cell_type": "markdown",
   "id": "df9f5ede-b153-4e71-a99e-6468870e3b29",
   "metadata": {},
   "source": [
    "* How do the distributions of median income compare across major categories?\n",
    "    * First get a value count on what major categories are in the data. What categories are most or least represented?\n",
    "    * Do some summary statistics using the .group_by() command to see the statistics for each major category.\n",
    "    * Make a histogram that explores median income for each of the major categories (facet_col). How did you choose your number of bins?\n",
    "    * Why do we often choose the median, rather than the mean, to describe the typical income of a group of people? Look this up online if you don't know the answer!\n",
    "    * Answer the question: Which major category has the highest typical (you'll need to decide what this means) median income?"
   ]
  },
  {
   "cell_type": "code",
   "execution_count": 104,
   "id": "2c2643ed-756b-418f-9552-49f76427ea36",
   "metadata": {
    "scrolled": true
   },
   "outputs": [
    {
     "data": {
      "text/html": [
       "<table id=\"itables_2b2b6cd4_01d7_491e_abce_f80009e72f14\" class=\"display nowrap\" data-quarto-disable-processing=\"true\" style=\"table-layout:auto;width:auto;margin:auto;caption-side:bottom\">\n",
       "<thead>\n",
       "    <tr style=\"text-align: right;\">\n",
       "      <th></th>\n",
       "      <th>count</th>\n",
       "    </tr>\n",
       "    <tr>\n",
       "      <th>Major_category</th>\n",
       "      <th></th>\n",
       "    </tr>\n",
       "  </thead><tbody><tr>\n",
       "<td style=\"vertical-align:middle; text-align:left\">\n",
       "<div style=\"float:left; margin-right: 10px;\">\n",
       "<a href=https://mwouts.github.io/itables/><svg class=\"main-svg\" xmlns=\"http://www.w3.org/2000/svg\" xmlns:xlink=\"http://www.w3.org/1999/xlink\"\n",
       "width=\"64\" viewBox=\"0 0 500 400\" style=\"font-family: 'Droid Sans', sans-serif;\">\n",
       "    <g style=\"fill:#d9d7fc\">\n",
       "        <path d=\"M100,400H500V357H100Z\" />\n",
       "        <path d=\"M100,300H400V257H100Z\" />\n",
       "        <path d=\"M0,200H400V157H0Z\" />\n",
       "        <path d=\"M100,100H500V57H100Z\" />\n",
       "        <path d=\"M100,350H500V307H100Z\" />\n",
       "        <path d=\"M100,250H400V207H100Z\" />\n",
       "        <path d=\"M0,150H400V107H0Z\" />\n",
       "        <path d=\"M100,50H500V7H100Z\" />\n",
       "    </g>\n",
       "    <g style=\"fill:#1a1366;stroke:#1a1366;\">\n",
       "   <rect x=\"100\" y=\"7\" width=\"400\" height=\"43\">\n",
       "    <animate\n",
       "      attributeName=\"width\"\n",
       "      values=\"0;400;0\"\n",
       "      dur=\"5s\"\n",
       "      repeatCount=\"indefinite\" />\n",
       "      <animate\n",
       "      attributeName=\"x\"\n",
       "      values=\"100;100;500\"\n",
       "      dur=\"5s\"\n",
       "      repeatCount=\"indefinite\" />\n",
       "  </rect>\n",
       "        <rect x=\"0\" y=\"107\" width=\"400\" height=\"43\">\n",
       "    <animate\n",
       "      attributeName=\"width\"\n",
       "      values=\"0;400;0\"\n",
       "      dur=\"3.5s\"\n",
       "      repeatCount=\"indefinite\" />\n",
       "    <animate\n",
       "      attributeName=\"x\"\n",
       "      values=\"0;0;400\"\n",
       "      dur=\"3.5s\"\n",
       "      repeatCount=\"indefinite\" />\n",
       "  </rect>\n",
       "        <rect x=\"100\" y=\"207\" width=\"300\" height=\"43\">\n",
       "    <animate\n",
       "      attributeName=\"width\"\n",
       "      values=\"0;300;0\"\n",
       "      dur=\"3s\"\n",
       "      repeatCount=\"indefinite\" />\n",
       "    <animate\n",
       "      attributeName=\"x\"\n",
       "      values=\"100;100;400\"\n",
       "      dur=\"3s\"\n",
       "      repeatCount=\"indefinite\" />\n",
       "  </rect>\n",
       "        <rect x=\"100\" y=\"307\" width=\"400\" height=\"43\">\n",
       "    <animate\n",
       "      attributeName=\"width\"\n",
       "      values=\"0;400;0\"\n",
       "      dur=\"4s\"\n",
       "      repeatCount=\"indefinite\" />\n",
       "      <animate\n",
       "      attributeName=\"x\"\n",
       "      values=\"100;100;500\"\n",
       "      dur=\"4s\"\n",
       "      repeatCount=\"indefinite\" />\n",
       "  </rect>\n",
       "        <g style=\"fill:transparent;stroke-width:8; stroke-linejoin:round\" rx=\"5\">\n",
       "            <g transform=\"translate(45 50) rotate(-45)\">\n",
       "                <circle r=\"33\" cx=\"0\" cy=\"0\" />\n",
       "                <rect x=\"-8\" y=\"32\" width=\"16\" height=\"30\" />\n",
       "            </g>\n",
       "\n",
       "            <g transform=\"translate(450 152)\">\n",
       "                <polyline points=\"-15,-20 -35,-20 -35,40 25,40 25,20\" />\n",
       "                <rect x=\"-15\" y=\"-40\" width=\"60\" height=\"60\" />\n",
       "            </g>\n",
       "\n",
       "            <g transform=\"translate(50 352)\">\n",
       "                <polygon points=\"-35,-5 0,-40 35,-5\" />\n",
       "                <polygon points=\"-35,10 0,45 35,10\" />\n",
       "            </g>\n",
       "\n",
       "            <g transform=\"translate(75 250)\">\n",
       "                <polyline points=\"-30,30 -60,0 -30,-30\" />\n",
       "                <polyline points=\"0,30 -30,0 0,-30\" />\n",
       "            </g>\n",
       "\n",
       "            <g transform=\"translate(425 250) rotate(180)\">\n",
       "                <polyline points=\"-30,30 -60,0 -30,-30\" />\n",
       "                <polyline points=\"0,30 -30,0 0,-30\" />\n",
       "            </g>\n",
       "        </g>\n",
       "    </g>\n",
       "</svg>\n",
       "</a>\n",
       "</div>\n",
       "<div>\n",
       "Loading ITables v2.1.4 from the internet...\n",
       "(need <a href=https://mwouts.github.io/itables/troubleshooting.html>help</a>?)</td>\n",
       "</div>\n",
       "</tr></tbody>\n",
       "\n",
       "</table>\n",
       "<link href=\"https://www.unpkg.com/dt_for_itables@2.0.11/dt_bundle.css\" rel=\"stylesheet\">\n",
       "<script type=\"module\">\n",
       "    import {DataTable, jQuery as $} from 'https://www.unpkg.com/dt_for_itables@2.0.11/dt_bundle.js';\n",
       "\n",
       "    document.querySelectorAll(\"#itables_2b2b6cd4_01d7_491e_abce_f80009e72f14:not(.dataTable)\").forEach(table => {\n",
       "        // Define the table data\n",
       "        const data = [[\"Engineering\", 29], [\"Education\", 16], [\"Humanities & Liberal Arts\", 15], [\"Biology & Life Science\", 14], [\"Business\", 13], [\"Health\", 12], [\"Computers & Mathematics\", 11], [\"Physical Sciences\", 10], [\"Agriculture & Natural Resources\", 10], [\"Social Science\", 9], [\"Psychology & Social Work\", 9], [\"Arts\", 8], [\"Industrial Arts & Consumer Services\", 7], [\"Law & Public Policy\", 5], [\"Communications & Journalism\", 4], [\"Interdisciplinary\", 1]];\n",
       "\n",
       "        // Define the dt_args\n",
       "        let dt_args = {\"layout\": {\"topStart\": \"pageLength\", \"topEnd\": \"search\", \"bottomStart\": \"info\", \"bottomEnd\": \"paging\"}, \"order\": []};\n",
       "        dt_args[\"data\"] = data;\n",
       "\n",
       "        \n",
       "        new DataTable(table, dt_args);\n",
       "    });\n",
       "</script>\n"
      ],
      "text/plain": [
       "<IPython.core.display.HTML object>"
      ]
     },
     "metadata": {},
     "output_type": "display_data"
    }
   ],
   "source": [
    "#major categories\n",
    "show(DF_raw['Major_category'].value_counts())"
   ]
  },
  {
   "cell_type": "markdown",
   "id": "d5dcabaf-434d-4b99-a64c-e04930af63ea",
   "metadata": {},
   "source": [
    "Engineering is the largest category, Interdisciplinary is the smallest."
   ]
  },
  {
   "cell_type": "code",
   "execution_count": 106,
   "id": "d9833d77-b447-4179-8a44-b236f454d9e7",
   "metadata": {},
   "outputs": [
    {
     "data": {
      "text/html": [
       "<table id=\"itables_7e864a2e_317c_407b_97f2_af5b9fcd8e73\" class=\"display nowrap\" data-quarto-disable-processing=\"true\" style=\"table-layout:auto;width:auto;margin:auto;caption-side:bottom\">\n",
       "<thead>\n",
       "    <tr>\n",
       "      <th></th>\n",
       "      <th colspan=\"8\" halign=\"left\">Median</th>\n",
       "    </tr>\n",
       "    <tr>\n",
       "      <th></th>\n",
       "      <th>count</th>\n",
       "      <th>mean</th>\n",
       "      <th>std</th>\n",
       "      <th>min</th>\n",
       "      <th>25%</th>\n",
       "      <th>50%</th>\n",
       "      <th>75%</th>\n",
       "      <th>max</th>\n",
       "    </tr>\n",
       "    <tr>\n",
       "      <th>Major_category</th>\n",
       "      <th></th>\n",
       "      <th></th>\n",
       "      <th></th>\n",
       "      <th></th>\n",
       "      <th></th>\n",
       "      <th></th>\n",
       "      <th></th>\n",
       "      <th></th>\n",
       "    </tr>\n",
       "  </thead><tbody><tr>\n",
       "<td style=\"vertical-align:middle; text-align:left\">\n",
       "<div style=\"float:left; margin-right: 10px;\">\n",
       "<a href=https://mwouts.github.io/itables/><svg class=\"main-svg\" xmlns=\"http://www.w3.org/2000/svg\" xmlns:xlink=\"http://www.w3.org/1999/xlink\"\n",
       "width=\"64\" viewBox=\"0 0 500 400\" style=\"font-family: 'Droid Sans', sans-serif;\">\n",
       "    <g style=\"fill:#d9d7fc\">\n",
       "        <path d=\"M100,400H500V357H100Z\" />\n",
       "        <path d=\"M100,300H400V257H100Z\" />\n",
       "        <path d=\"M0,200H400V157H0Z\" />\n",
       "        <path d=\"M100,100H500V57H100Z\" />\n",
       "        <path d=\"M100,350H500V307H100Z\" />\n",
       "        <path d=\"M100,250H400V207H100Z\" />\n",
       "        <path d=\"M0,150H400V107H0Z\" />\n",
       "        <path d=\"M100,50H500V7H100Z\" />\n",
       "    </g>\n",
       "    <g style=\"fill:#1a1366;stroke:#1a1366;\">\n",
       "   <rect x=\"100\" y=\"7\" width=\"400\" height=\"43\">\n",
       "    <animate\n",
       "      attributeName=\"width\"\n",
       "      values=\"0;400;0\"\n",
       "      dur=\"5s\"\n",
       "      repeatCount=\"indefinite\" />\n",
       "      <animate\n",
       "      attributeName=\"x\"\n",
       "      values=\"100;100;500\"\n",
       "      dur=\"5s\"\n",
       "      repeatCount=\"indefinite\" />\n",
       "  </rect>\n",
       "        <rect x=\"0\" y=\"107\" width=\"400\" height=\"43\">\n",
       "    <animate\n",
       "      attributeName=\"width\"\n",
       "      values=\"0;400;0\"\n",
       "      dur=\"3.5s\"\n",
       "      repeatCount=\"indefinite\" />\n",
       "    <animate\n",
       "      attributeName=\"x\"\n",
       "      values=\"0;0;400\"\n",
       "      dur=\"3.5s\"\n",
       "      repeatCount=\"indefinite\" />\n",
       "  </rect>\n",
       "        <rect x=\"100\" y=\"207\" width=\"300\" height=\"43\">\n",
       "    <animate\n",
       "      attributeName=\"width\"\n",
       "      values=\"0;300;0\"\n",
       "      dur=\"3s\"\n",
       "      repeatCount=\"indefinite\" />\n",
       "    <animate\n",
       "      attributeName=\"x\"\n",
       "      values=\"100;100;400\"\n",
       "      dur=\"3s\"\n",
       "      repeatCount=\"indefinite\" />\n",
       "  </rect>\n",
       "        <rect x=\"100\" y=\"307\" width=\"400\" height=\"43\">\n",
       "    <animate\n",
       "      attributeName=\"width\"\n",
       "      values=\"0;400;0\"\n",
       "      dur=\"4s\"\n",
       "      repeatCount=\"indefinite\" />\n",
       "      <animate\n",
       "      attributeName=\"x\"\n",
       "      values=\"100;100;500\"\n",
       "      dur=\"4s\"\n",
       "      repeatCount=\"indefinite\" />\n",
       "  </rect>\n",
       "        <g style=\"fill:transparent;stroke-width:8; stroke-linejoin:round\" rx=\"5\">\n",
       "            <g transform=\"translate(45 50) rotate(-45)\">\n",
       "                <circle r=\"33\" cx=\"0\" cy=\"0\" />\n",
       "                <rect x=\"-8\" y=\"32\" width=\"16\" height=\"30\" />\n",
       "            </g>\n",
       "\n",
       "            <g transform=\"translate(450 152)\">\n",
       "                <polyline points=\"-15,-20 -35,-20 -35,40 25,40 25,20\" />\n",
       "                <rect x=\"-15\" y=\"-40\" width=\"60\" height=\"60\" />\n",
       "            </g>\n",
       "\n",
       "            <g transform=\"translate(50 352)\">\n",
       "                <polygon points=\"-35,-5 0,-40 35,-5\" />\n",
       "                <polygon points=\"-35,10 0,45 35,10\" />\n",
       "            </g>\n",
       "\n",
       "            <g transform=\"translate(75 250)\">\n",
       "                <polyline points=\"-30,30 -60,0 -30,-30\" />\n",
       "                <polyline points=\"0,30 -30,0 0,-30\" />\n",
       "            </g>\n",
       "\n",
       "            <g transform=\"translate(425 250) rotate(180)\">\n",
       "                <polyline points=\"-30,30 -60,0 -30,-30\" />\n",
       "                <polyline points=\"0,30 -30,0 0,-30\" />\n",
       "            </g>\n",
       "        </g>\n",
       "    </g>\n",
       "</svg>\n",
       "</a>\n",
       "</div>\n",
       "<div>\n",
       "Loading ITables v2.1.4 from the internet...\n",
       "(need <a href=https://mwouts.github.io/itables/troubleshooting.html>help</a>?)</td>\n",
       "</div>\n",
       "</tr></tbody>\n",
       "\n",
       "</table>\n",
       "<link href=\"https://www.unpkg.com/dt_for_itables@2.0.11/dt_bundle.css\" rel=\"stylesheet\">\n",
       "<script type=\"module\">\n",
       "    import {DataTable, jQuery as $} from 'https://www.unpkg.com/dt_for_itables@2.0.11/dt_bundle.js';\n",
       "\n",
       "    document.querySelectorAll(\"#itables_7e864a2e_317c_407b_97f2_af5b9fcd8e73:not(.dataTable)\").forEach(table => {\n",
       "        // Define the table data\n",
       "        const data = [[\"Agriculture & Natural Resources\", 10.0, 36900.0, 6935.416354, 29000.0, 32750.0, 35000.0, 40000.0, 53000.0], [\"Arts\", 8.0, 33062.5, 7223.164621, 27000.0, 29750.0, 30750.0, 32750.0, 50000.0], [\"Biology & Life Science\", 14.0, 36421.428571, 4528.912006, 26000.0, 33875.0, 36300.0, 39500.0, 45000.0], [\"Business\", 13.0, 43538.461538, 7774.052832, 33000.0, 38000.0, 40000.0, 47000.0, 62000.0], [\"Communications & Journalism\", 4.0, 34500.0, 1000.0, 33000.0, 34500.0, 35000.0, 35000.0, 35000.0], [\"Computers & Mathematics\", 11.0, 42745.454545, 5108.691346, 35000.0, 39400.0, 45000.0, 45000.0, 53000.0], [\"Education\", 16.0, 32350.0, 3892.728263, 22000.0, 31750.0, 32750.0, 34000.0, 41000.0], [\"Engineering\", 29.0, 57382.758621, 13626.079747, 40000.0, 50000.0, 57000.0, 60000.0, 110000.0], [\"Health\", 12.0, 36825.0, 5776.460854, 28000.0, 33375.0, 35000.0, 40500.0, 48000.0], [\"Humanities & Liberal Arts\", 15.0, 31913.333333, 3393.032076, 27000.0, 29500.0, 32000.0, 34000.0, 40000.0], [\"Industrial Arts & Consumer Services\", 7.0, 36342.857143, 7290.829204, 29000.0, 31000.0, 35000.0, 39200.0, 50000.0], [\"Interdisciplinary\", 1.0, 35000.0, NaN, 35000.0, 35000.0, 35000.0, 35000.0, 35000.0], [\"Law & Public Policy\", 5.0, 42200.0, 9066.421565, 35000.0, 36000.0, 36000.0, 50000.0, 54000.0], [\"Physical Sciences\", 10.0, 41890.0, 8251.659766, 35000.0, 36050.0, 39500.0, 44925.0, 62000.0], [\"Psychology & Social Work\", 9.0, 30100.0, 5381.914158, 23400.0, 25000.0, 30000.0, 31500.0, 40000.0], [\"Social Science\", 9.0, 37344.444444, 4750.555523, 32000.0, 33000.0, 38000.0, 40000.0, 47000.0]];\n",
       "\n",
       "        // Define the dt_args\n",
       "        let dt_args = {\"layout\": {\"topStart\": \"pageLength\", \"topEnd\": \"search\", \"bottomStart\": \"info\", \"bottomEnd\": \"paging\"}, \"order\": []};\n",
       "        dt_args[\"data\"] = data;\n",
       "\n",
       "        \n",
       "        new DataTable(table, dt_args);\n",
       "    });\n",
       "</script>\n"
      ],
      "text/plain": [
       "<IPython.core.display.HTML object>"
      ]
     },
     "metadata": {},
     "output_type": "display_data"
    }
   ],
   "source": [
    "#group by statistics\n",
    "raw_mcat_groupby = DF_raw[['Major_category','Median']].groupby(by='Major_category')\n",
    "show(raw_mcat_groupby.describe())"
   ]
  },
  {
   "cell_type": "code",
   "execution_count": 209,
   "id": "d6ccd2e5-edc1-4dba-a8d2-a64f1aa4776c",
   "metadata": {},
   "outputs": [
    {
     "data": {
      "application/vnd.plotly.v1+json": {
       "config": {
        "plotlyServerURL": "https://plot.ly"
       },
       "data": [
        {
         "alignmentgroup": "True",
         "bingroup": "x",
         "hovertemplate": "Major_category=Engineering<br>Median=%{x}<br>count=%{y}<extra></extra>",
         "legendgroup": "",
         "marker": {
          "color": "#636efa",
          "pattern": {
           "shape": ""
          }
         },
         "name": "",
         "nbinsx": 20,
         "offsetgroup": "",
         "orientation": "v",
         "showlegend": false,
         "type": "histogram",
         "x": [
          110000,
          75000,
          73000,
          70000,
          65000,
          65000,
          60000,
          60000,
          60000,
          60000,
          60000,
          60000,
          58000,
          57100,
          57000,
          56000,
          54000,
          52000,
          52000,
          50000,
          50000,
          50000,
          50000,
          50000,
          46000,
          44000,
          40000,
          40000,
          40000
         ],
         "xaxis": "x13",
         "yaxis": "y13"
        },
        {
         "alignmentgroup": "True",
         "bingroup": "x",
         "hovertemplate": "Major_category=Business<br>Median=%{x}<br>count=%{y}<extra></extra>",
         "legendgroup": "",
         "marker": {
          "color": "#636efa",
          "pattern": {
           "shape": ""
          }
         },
         "name": "",
         "nbinsx": 20,
         "offsetgroup": "",
         "orientation": "v",
         "showlegend": false,
         "type": "histogram",
         "x": [
          62000,
          51000,
          50000,
          47000,
          46000,
          45000,
          40000,
          40000,
          40000,
          38000,
          38000,
          36000,
          33000
         ],
         "xaxis": "x14",
         "yaxis": "y14"
        },
        {
         "alignmentgroup": "True",
         "bingroup": "x",
         "hovertemplate": "Major_category=Physical Sciences<br>Median=%{x}<br>count=%{y}<extra></extra>",
         "legendgroup": "",
         "marker": {
          "color": "#636efa",
          "pattern": {
           "shape": ""
          }
         },
         "name": "",
         "nbinsx": 20,
         "offsetgroup": "",
         "orientation": "v",
         "showlegend": false,
         "type": "histogram",
         "x": [
          62000,
          46000,
          45000,
          44700,
          40000,
          39000,
          36200,
          36000,
          35000,
          35000
         ],
         "xaxis": "x15",
         "yaxis": "y15"
        },
        {
         "alignmentgroup": "True",
         "bingroup": "x",
         "hovertemplate": "Major_category=Law & Public Policy<br>Median=%{x}<br>count=%{y}<extra></extra>",
         "legendgroup": "",
         "marker": {
          "color": "#636efa",
          "pattern": {
           "shape": ""
          }
         },
         "name": "",
         "nbinsx": 20,
         "offsetgroup": "",
         "orientation": "v",
         "showlegend": false,
         "type": "histogram",
         "x": [
          54000,
          50000,
          36000,
          36000,
          35000
         ],
         "xaxis": "x16",
         "yaxis": "y16"
        },
        {
         "alignmentgroup": "True",
         "bingroup": "x",
         "hovertemplate": "Major_category=Computers & Mathematics<br>Median=%{x}<br>count=%{y}<extra></extra>",
         "legendgroup": "",
         "marker": {
          "color": "#636efa",
          "pattern": {
           "shape": ""
          }
         },
         "name": "",
         "nbinsx": 20,
         "offsetgroup": "",
         "orientation": "v",
         "showlegend": false,
         "type": "histogram",
         "x": [
          53000,
          45000,
          45000,
          45000,
          45000,
          45000,
          42000,
          41300,
          37500,
          36400,
          35000
         ],
         "xaxis": "x9",
         "yaxis": "y9"
        },
        {
         "alignmentgroup": "True",
         "bingroup": "x",
         "hovertemplate": "Major_category=Agriculture & Natural Resources<br>Median=%{x}<br>count=%{y}<extra></extra>",
         "legendgroup": "",
         "marker": {
          "color": "#636efa",
          "pattern": {
           "shape": ""
          }
         },
         "name": "",
         "nbinsx": 20,
         "offsetgroup": "",
         "orientation": "v",
         "showlegend": false,
         "type": "histogram",
         "x": [
          53000,
          40000,
          40000,
          40000,
          35000,
          35000,
          35000,
          32000,
          30000,
          29000
         ],
         "xaxis": "x10",
         "yaxis": "y10"
        },
        {
         "alignmentgroup": "True",
         "bingroup": "x",
         "hovertemplate": "Major_category=Industrial Arts & Consumer Services<br>Median=%{x}<br>count=%{y}<extra></extra>",
         "legendgroup": "",
         "marker": {
          "color": "#636efa",
          "pattern": {
           "shape": ""
          }
         },
         "name": "",
         "nbinsx": 20,
         "offsetgroup": "",
         "orientation": "v",
         "showlegend": false,
         "type": "histogram",
         "x": [
          50000,
          40000,
          38400,
          35000,
          32000,
          30000,
          29000
         ],
         "xaxis": "x11",
         "yaxis": "y11"
        },
        {
         "alignmentgroup": "True",
         "bingroup": "x",
         "hovertemplate": "Major_category=Arts<br>Median=%{x}<br>count=%{y}<extra></extra>",
         "legendgroup": "",
         "marker": {
          "color": "#636efa",
          "pattern": {
           "shape": ""
          }
         },
         "name": "",
         "nbinsx": 20,
         "offsetgroup": "",
         "orientation": "v",
         "showlegend": false,
         "type": "histogram",
         "x": [
          50000,
          35000,
          32000,
          31000,
          30500,
          30000,
          29000,
          27000
         ],
         "xaxis": "x12",
         "yaxis": "y12"
        },
        {
         "alignmentgroup": "True",
         "bingroup": "x",
         "hovertemplate": "Major_category=Health<br>Median=%{x}<br>count=%{y}<extra></extra>",
         "legendgroup": "",
         "marker": {
          "color": "#636efa",
          "pattern": {
           "shape": ""
          }
         },
         "name": "",
         "nbinsx": 20,
         "offsetgroup": "",
         "orientation": "v",
         "showlegend": false,
         "type": "histogram",
         "x": [
          48000,
          45000,
          42000,
          40000,
          36000,
          35000,
          35000,
          34000,
          33500,
          33000,
          32400,
          28000
         ],
         "xaxis": "x5",
         "yaxis": "y5"
        },
        {
         "alignmentgroup": "True",
         "bingroup": "x",
         "hovertemplate": "Major_category=Social Science<br>Median=%{x}<br>count=%{y}<extra></extra>",
         "legendgroup": "",
         "marker": {
          "color": "#636efa",
          "pattern": {
           "shape": ""
          }
         },
         "name": "",
         "nbinsx": 20,
         "offsetgroup": "",
         "orientation": "v",
         "showlegend": false,
         "type": "histogram",
         "x": [
          47000,
          40100,
          40000,
          38000,
          38000,
          35000,
          33000,
          33000,
          32000
         ],
         "xaxis": "x6",
         "yaxis": "y6"
        },
        {
         "alignmentgroup": "True",
         "bingroup": "x",
         "hovertemplate": "Major_category=Biology & Life Science<br>Median=%{x}<br>count=%{y}<extra></extra>",
         "legendgroup": "",
         "marker": {
          "color": "#636efa",
          "pattern": {
           "shape": ""
          }
         },
         "name": "",
         "nbinsx": 20,
         "offsetgroup": "",
         "orientation": "v",
         "showlegend": false,
         "type": "histogram",
         "x": [
          45000,
          41000,
          40000,
          40000,
          38000,
          37400,
          37000,
          35600,
          35000,
          35000,
          33500,
          33400,
          33000,
          26000
         ],
         "xaxis": "x7",
         "yaxis": "y7"
        },
        {
         "alignmentgroup": "True",
         "bingroup": "x",
         "hovertemplate": "Major_category=Education<br>Median=%{x}<br>count=%{y}<extra></extra>",
         "legendgroup": "",
         "marker": {
          "color": "#636efa",
          "pattern": {
           "shape": ""
          }
         },
         "name": "",
         "nbinsx": 20,
         "offsetgroup": "",
         "orientation": "v",
         "showlegend": false,
         "type": "histogram",
         "x": [
          41000,
          35000,
          34000,
          34000,
          34000,
          34000,
          33000,
          33000,
          32500,
          32100,
          32000,
          32000,
          31000,
          30000,
          28000,
          22000
         ],
         "xaxis": "x8",
         "yaxis": "y8"
        },
        {
         "alignmentgroup": "True",
         "bingroup": "x",
         "hovertemplate": "Major_category=Humanities & Liberal Arts<br>Median=%{x}<br>count=%{y}<extra></extra>",
         "legendgroup": "",
         "marker": {
          "color": "#636efa",
          "pattern": {
           "shape": ""
          }
         },
         "name": "",
         "nbinsx": 20,
         "offsetgroup": "",
         "orientation": "v",
         "showlegend": false,
         "type": "histogram",
         "x": [
          40000,
          35000,
          34000,
          34000,
          34000,
          33000,
          32200,
          32000,
          32000,
          31000,
          30000,
          29000,
          28000,
          27500,
          27000
         ],
         "xaxis": "x",
         "yaxis": "y"
        },
        {
         "alignmentgroup": "True",
         "bingroup": "x",
         "hovertemplate": "Major_category=Psychology & Social Work<br>Median=%{x}<br>count=%{y}<extra></extra>",
         "legendgroup": "",
         "marker": {
          "color": "#636efa",
          "pattern": {
           "shape": ""
          }
         },
         "name": "",
         "nbinsx": 20,
         "offsetgroup": "",
         "orientation": "v",
         "showlegend": false,
         "type": "histogram",
         "x": [
          40000,
          36000,
          31500,
          30000,
          30000,
          30000,
          25000,
          25000,
          23400
         ],
         "xaxis": "x2",
         "yaxis": "y2"
        },
        {
         "alignmentgroup": "True",
         "bingroup": "x",
         "hovertemplate": "Major_category=Communications & Journalism<br>Median=%{x}<br>count=%{y}<extra></extra>",
         "legendgroup": "",
         "marker": {
          "color": "#636efa",
          "pattern": {
           "shape": ""
          }
         },
         "name": "",
         "nbinsx": 20,
         "offsetgroup": "",
         "orientation": "v",
         "showlegend": false,
         "type": "histogram",
         "x": [
          35000,
          35000,
          35000,
          33000
         ],
         "xaxis": "x3",
         "yaxis": "y3"
        },
        {
         "alignmentgroup": "True",
         "bingroup": "x",
         "hovertemplate": "Major_category=Interdisciplinary<br>Median=%{x}<br>count=%{y}<extra></extra>",
         "legendgroup": "",
         "marker": {
          "color": "#636efa",
          "pattern": {
           "shape": ""
          }
         },
         "name": "",
         "nbinsx": 20,
         "offsetgroup": "",
         "orientation": "v",
         "showlegend": false,
         "type": "histogram",
         "x": [
          35000
         ],
         "xaxis": "x4",
         "yaxis": "y4"
        }
       ],
       "layout": {
        "annotations": [
         {
          "font": {},
          "showarrow": false,
          "text": "Humanities & Liberal Arts",
          "x": 0.1175,
          "xanchor": "center",
          "xref": "paper",
          "y": 0.1975,
          "yanchor": "bottom",
          "yref": "paper"
         },
         {
          "font": {},
          "showarrow": false,
          "text": "Psychology & Social Work",
          "x": 0.3725,
          "xanchor": "center",
          "xref": "paper",
          "y": 0.1975,
          "yanchor": "bottom",
          "yref": "paper"
         },
         {
          "font": {},
          "showarrow": false,
          "text": "Communications & Journalism",
          "x": 0.6275,
          "xanchor": "center",
          "xref": "paper",
          "y": 0.1975,
          "yanchor": "bottom",
          "yref": "paper"
         },
         {
          "font": {},
          "showarrow": false,
          "text": "Interdisciplinary",
          "x": 0.8824999999999998,
          "xanchor": "center",
          "xref": "paper",
          "y": 0.1975,
          "yanchor": "bottom",
          "yref": "paper"
         },
         {
          "font": {},
          "showarrow": false,
          "text": "Health",
          "x": 0.1175,
          "xanchor": "center",
          "xref": "paper",
          "y": 0.465,
          "yanchor": "bottom",
          "yref": "paper"
         },
         {
          "font": {},
          "showarrow": false,
          "text": "Social Science",
          "x": 0.3725,
          "xanchor": "center",
          "xref": "paper",
          "y": 0.465,
          "yanchor": "bottom",
          "yref": "paper"
         },
         {
          "font": {},
          "showarrow": false,
          "text": "Biology & Life Science",
          "x": 0.6275,
          "xanchor": "center",
          "xref": "paper",
          "y": 0.465,
          "yanchor": "bottom",
          "yref": "paper"
         },
         {
          "font": {},
          "showarrow": false,
          "text": "Education",
          "x": 0.8824999999999998,
          "xanchor": "center",
          "xref": "paper",
          "y": 0.465,
          "yanchor": "bottom",
          "yref": "paper"
         },
         {
          "font": {},
          "showarrow": false,
          "text": "Computers & Mathematics",
          "x": 0.1175,
          "xanchor": "center",
          "xref": "paper",
          "y": 0.7325,
          "yanchor": "bottom",
          "yref": "paper"
         },
         {
          "font": {},
          "showarrow": false,
          "text": "Agriculture & Natural Resources",
          "x": 0.3725,
          "xanchor": "center",
          "xref": "paper",
          "y": 0.7325,
          "yanchor": "bottom",
          "yref": "paper"
         },
         {
          "font": {},
          "showarrow": false,
          "text": "Industrial Arts & Consumer Services",
          "x": 0.6275,
          "xanchor": "center",
          "xref": "paper",
          "y": 0.7325,
          "yanchor": "bottom",
          "yref": "paper"
         },
         {
          "font": {},
          "showarrow": false,
          "text": "Arts",
          "x": 0.8824999999999998,
          "xanchor": "center",
          "xref": "paper",
          "y": 0.7325,
          "yanchor": "bottom",
          "yref": "paper"
         },
         {
          "font": {},
          "showarrow": false,
          "text": "Engineering",
          "x": 0.1175,
          "xanchor": "center",
          "xref": "paper",
          "y": 1,
          "yanchor": "bottom",
          "yref": "paper"
         },
         {
          "font": {},
          "showarrow": false,
          "text": "Business",
          "x": 0.3725,
          "xanchor": "center",
          "xref": "paper",
          "y": 1,
          "yanchor": "bottom",
          "yref": "paper"
         },
         {
          "font": {},
          "showarrow": false,
          "text": "Physical Sciences",
          "x": 0.6275,
          "xanchor": "center",
          "xref": "paper",
          "y": 1,
          "yanchor": "bottom",
          "yref": "paper"
         },
         {
          "font": {},
          "showarrow": false,
          "text": "Law & Public Policy",
          "x": 0.8824999999999998,
          "xanchor": "center",
          "xref": "paper",
          "y": 1,
          "yanchor": "bottom",
          "yref": "paper"
         }
        ],
        "autosize": false,
        "barmode": "relative",
        "height": 900,
        "legend": {
         "tracegroupgap": 0
        },
        "margin": {
         "t": 60
        },
        "template": {
         "data": {
          "bar": [
           {
            "error_x": {
             "color": "#2a3f5f"
            },
            "error_y": {
             "color": "#2a3f5f"
            },
            "marker": {
             "line": {
              "color": "#E5ECF6",
              "width": 0.5
             },
             "pattern": {
              "fillmode": "overlay",
              "size": 10,
              "solidity": 0.2
             }
            },
            "type": "bar"
           }
          ],
          "barpolar": [
           {
            "marker": {
             "line": {
              "color": "#E5ECF6",
              "width": 0.5
             },
             "pattern": {
              "fillmode": "overlay",
              "size": 10,
              "solidity": 0.2
             }
            },
            "type": "barpolar"
           }
          ],
          "carpet": [
           {
            "aaxis": {
             "endlinecolor": "#2a3f5f",
             "gridcolor": "white",
             "linecolor": "white",
             "minorgridcolor": "white",
             "startlinecolor": "#2a3f5f"
            },
            "baxis": {
             "endlinecolor": "#2a3f5f",
             "gridcolor": "white",
             "linecolor": "white",
             "minorgridcolor": "white",
             "startlinecolor": "#2a3f5f"
            },
            "type": "carpet"
           }
          ],
          "choropleth": [
           {
            "colorbar": {
             "outlinewidth": 0,
             "ticks": ""
            },
            "type": "choropleth"
           }
          ],
          "contour": [
           {
            "colorbar": {
             "outlinewidth": 0,
             "ticks": ""
            },
            "colorscale": [
             [
              0,
              "#0d0887"
             ],
             [
              0.1111111111111111,
              "#46039f"
             ],
             [
              0.2222222222222222,
              "#7201a8"
             ],
             [
              0.3333333333333333,
              "#9c179e"
             ],
             [
              0.4444444444444444,
              "#bd3786"
             ],
             [
              0.5555555555555556,
              "#d8576b"
             ],
             [
              0.6666666666666666,
              "#ed7953"
             ],
             [
              0.7777777777777778,
              "#fb9f3a"
             ],
             [
              0.8888888888888888,
              "#fdca26"
             ],
             [
              1,
              "#f0f921"
             ]
            ],
            "type": "contour"
           }
          ],
          "contourcarpet": [
           {
            "colorbar": {
             "outlinewidth": 0,
             "ticks": ""
            },
            "type": "contourcarpet"
           }
          ],
          "heatmap": [
           {
            "colorbar": {
             "outlinewidth": 0,
             "ticks": ""
            },
            "colorscale": [
             [
              0,
              "#0d0887"
             ],
             [
              0.1111111111111111,
              "#46039f"
             ],
             [
              0.2222222222222222,
              "#7201a8"
             ],
             [
              0.3333333333333333,
              "#9c179e"
             ],
             [
              0.4444444444444444,
              "#bd3786"
             ],
             [
              0.5555555555555556,
              "#d8576b"
             ],
             [
              0.6666666666666666,
              "#ed7953"
             ],
             [
              0.7777777777777778,
              "#fb9f3a"
             ],
             [
              0.8888888888888888,
              "#fdca26"
             ],
             [
              1,
              "#f0f921"
             ]
            ],
            "type": "heatmap"
           }
          ],
          "heatmapgl": [
           {
            "colorbar": {
             "outlinewidth": 0,
             "ticks": ""
            },
            "colorscale": [
             [
              0,
              "#0d0887"
             ],
             [
              0.1111111111111111,
              "#46039f"
             ],
             [
              0.2222222222222222,
              "#7201a8"
             ],
             [
              0.3333333333333333,
              "#9c179e"
             ],
             [
              0.4444444444444444,
              "#bd3786"
             ],
             [
              0.5555555555555556,
              "#d8576b"
             ],
             [
              0.6666666666666666,
              "#ed7953"
             ],
             [
              0.7777777777777778,
              "#fb9f3a"
             ],
             [
              0.8888888888888888,
              "#fdca26"
             ],
             [
              1,
              "#f0f921"
             ]
            ],
            "type": "heatmapgl"
           }
          ],
          "histogram": [
           {
            "marker": {
             "pattern": {
              "fillmode": "overlay",
              "size": 10,
              "solidity": 0.2
             }
            },
            "type": "histogram"
           }
          ],
          "histogram2d": [
           {
            "colorbar": {
             "outlinewidth": 0,
             "ticks": ""
            },
            "colorscale": [
             [
              0,
              "#0d0887"
             ],
             [
              0.1111111111111111,
              "#46039f"
             ],
             [
              0.2222222222222222,
              "#7201a8"
             ],
             [
              0.3333333333333333,
              "#9c179e"
             ],
             [
              0.4444444444444444,
              "#bd3786"
             ],
             [
              0.5555555555555556,
              "#d8576b"
             ],
             [
              0.6666666666666666,
              "#ed7953"
             ],
             [
              0.7777777777777778,
              "#fb9f3a"
             ],
             [
              0.8888888888888888,
              "#fdca26"
             ],
             [
              1,
              "#f0f921"
             ]
            ],
            "type": "histogram2d"
           }
          ],
          "histogram2dcontour": [
           {
            "colorbar": {
             "outlinewidth": 0,
             "ticks": ""
            },
            "colorscale": [
             [
              0,
              "#0d0887"
             ],
             [
              0.1111111111111111,
              "#46039f"
             ],
             [
              0.2222222222222222,
              "#7201a8"
             ],
             [
              0.3333333333333333,
              "#9c179e"
             ],
             [
              0.4444444444444444,
              "#bd3786"
             ],
             [
              0.5555555555555556,
              "#d8576b"
             ],
             [
              0.6666666666666666,
              "#ed7953"
             ],
             [
              0.7777777777777778,
              "#fb9f3a"
             ],
             [
              0.8888888888888888,
              "#fdca26"
             ],
             [
              1,
              "#f0f921"
             ]
            ],
            "type": "histogram2dcontour"
           }
          ],
          "mesh3d": [
           {
            "colorbar": {
             "outlinewidth": 0,
             "ticks": ""
            },
            "type": "mesh3d"
           }
          ],
          "parcoords": [
           {
            "line": {
             "colorbar": {
              "outlinewidth": 0,
              "ticks": ""
             }
            },
            "type": "parcoords"
           }
          ],
          "pie": [
           {
            "automargin": true,
            "type": "pie"
           }
          ],
          "scatter": [
           {
            "fillpattern": {
             "fillmode": "overlay",
             "size": 10,
             "solidity": 0.2
            },
            "type": "scatter"
           }
          ],
          "scatter3d": [
           {
            "line": {
             "colorbar": {
              "outlinewidth": 0,
              "ticks": ""
             }
            },
            "marker": {
             "colorbar": {
              "outlinewidth": 0,
              "ticks": ""
             }
            },
            "type": "scatter3d"
           }
          ],
          "scattercarpet": [
           {
            "marker": {
             "colorbar": {
              "outlinewidth": 0,
              "ticks": ""
             }
            },
            "type": "scattercarpet"
           }
          ],
          "scattergeo": [
           {
            "marker": {
             "colorbar": {
              "outlinewidth": 0,
              "ticks": ""
             }
            },
            "type": "scattergeo"
           }
          ],
          "scattergl": [
           {
            "marker": {
             "colorbar": {
              "outlinewidth": 0,
              "ticks": ""
             }
            },
            "type": "scattergl"
           }
          ],
          "scattermapbox": [
           {
            "marker": {
             "colorbar": {
              "outlinewidth": 0,
              "ticks": ""
             }
            },
            "type": "scattermapbox"
           }
          ],
          "scatterpolar": [
           {
            "marker": {
             "colorbar": {
              "outlinewidth": 0,
              "ticks": ""
             }
            },
            "type": "scatterpolar"
           }
          ],
          "scatterpolargl": [
           {
            "marker": {
             "colorbar": {
              "outlinewidth": 0,
              "ticks": ""
             }
            },
            "type": "scatterpolargl"
           }
          ],
          "scatterternary": [
           {
            "marker": {
             "colorbar": {
              "outlinewidth": 0,
              "ticks": ""
             }
            },
            "type": "scatterternary"
           }
          ],
          "surface": [
           {
            "colorbar": {
             "outlinewidth": 0,
             "ticks": ""
            },
            "colorscale": [
             [
              0,
              "#0d0887"
             ],
             [
              0.1111111111111111,
              "#46039f"
             ],
             [
              0.2222222222222222,
              "#7201a8"
             ],
             [
              0.3333333333333333,
              "#9c179e"
             ],
             [
              0.4444444444444444,
              "#bd3786"
             ],
             [
              0.5555555555555556,
              "#d8576b"
             ],
             [
              0.6666666666666666,
              "#ed7953"
             ],
             [
              0.7777777777777778,
              "#fb9f3a"
             ],
             [
              0.8888888888888888,
              "#fdca26"
             ],
             [
              1,
              "#f0f921"
             ]
            ],
            "type": "surface"
           }
          ],
          "table": [
           {
            "cells": {
             "fill": {
              "color": "#EBF0F8"
             },
             "line": {
              "color": "white"
             }
            },
            "header": {
             "fill": {
              "color": "#C8D4E3"
             },
             "line": {
              "color": "white"
             }
            },
            "type": "table"
           }
          ]
         },
         "layout": {
          "annotationdefaults": {
           "arrowcolor": "#2a3f5f",
           "arrowhead": 0,
           "arrowwidth": 1
          },
          "autotypenumbers": "strict",
          "coloraxis": {
           "colorbar": {
            "outlinewidth": 0,
            "ticks": ""
           }
          },
          "colorscale": {
           "diverging": [
            [
             0,
             "#8e0152"
            ],
            [
             0.1,
             "#c51b7d"
            ],
            [
             0.2,
             "#de77ae"
            ],
            [
             0.3,
             "#f1b6da"
            ],
            [
             0.4,
             "#fde0ef"
            ],
            [
             0.5,
             "#f7f7f7"
            ],
            [
             0.6,
             "#e6f5d0"
            ],
            [
             0.7,
             "#b8e186"
            ],
            [
             0.8,
             "#7fbc41"
            ],
            [
             0.9,
             "#4d9221"
            ],
            [
             1,
             "#276419"
            ]
           ],
           "sequential": [
            [
             0,
             "#0d0887"
            ],
            [
             0.1111111111111111,
             "#46039f"
            ],
            [
             0.2222222222222222,
             "#7201a8"
            ],
            [
             0.3333333333333333,
             "#9c179e"
            ],
            [
             0.4444444444444444,
             "#bd3786"
            ],
            [
             0.5555555555555556,
             "#d8576b"
            ],
            [
             0.6666666666666666,
             "#ed7953"
            ],
            [
             0.7777777777777778,
             "#fb9f3a"
            ],
            [
             0.8888888888888888,
             "#fdca26"
            ],
            [
             1,
             "#f0f921"
            ]
           ],
           "sequentialminus": [
            [
             0,
             "#0d0887"
            ],
            [
             0.1111111111111111,
             "#46039f"
            ],
            [
             0.2222222222222222,
             "#7201a8"
            ],
            [
             0.3333333333333333,
             "#9c179e"
            ],
            [
             0.4444444444444444,
             "#bd3786"
            ],
            [
             0.5555555555555556,
             "#d8576b"
            ],
            [
             0.6666666666666666,
             "#ed7953"
            ],
            [
             0.7777777777777778,
             "#fb9f3a"
            ],
            [
             0.8888888888888888,
             "#fdca26"
            ],
            [
             1,
             "#f0f921"
            ]
           ]
          },
          "colorway": [
           "#636efa",
           "#EF553B",
           "#00cc96",
           "#ab63fa",
           "#FFA15A",
           "#19d3f3",
           "#FF6692",
           "#B6E880",
           "#FF97FF",
           "#FECB52"
          ],
          "font": {
           "color": "#2a3f5f"
          },
          "geo": {
           "bgcolor": "white",
           "lakecolor": "white",
           "landcolor": "#E5ECF6",
           "showlakes": true,
           "showland": true,
           "subunitcolor": "white"
          },
          "hoverlabel": {
           "align": "left"
          },
          "hovermode": "closest",
          "mapbox": {
           "style": "light"
          },
          "paper_bgcolor": "white",
          "plot_bgcolor": "#E5ECF6",
          "polar": {
           "angularaxis": {
            "gridcolor": "white",
            "linecolor": "white",
            "ticks": ""
           },
           "bgcolor": "#E5ECF6",
           "radialaxis": {
            "gridcolor": "white",
            "linecolor": "white",
            "ticks": ""
           }
          },
          "scene": {
           "xaxis": {
            "backgroundcolor": "#E5ECF6",
            "gridcolor": "white",
            "gridwidth": 2,
            "linecolor": "white",
            "showbackground": true,
            "ticks": "",
            "zerolinecolor": "white"
           },
           "yaxis": {
            "backgroundcolor": "#E5ECF6",
            "gridcolor": "white",
            "gridwidth": 2,
            "linecolor": "white",
            "showbackground": true,
            "ticks": "",
            "zerolinecolor": "white"
           },
           "zaxis": {
            "backgroundcolor": "#E5ECF6",
            "gridcolor": "white",
            "gridwidth": 2,
            "linecolor": "white",
            "showbackground": true,
            "ticks": "",
            "zerolinecolor": "white"
           }
          },
          "shapedefaults": {
           "line": {
            "color": "#2a3f5f"
           }
          },
          "ternary": {
           "aaxis": {
            "gridcolor": "white",
            "linecolor": "white",
            "ticks": ""
           },
           "baxis": {
            "gridcolor": "white",
            "linecolor": "white",
            "ticks": ""
           },
           "bgcolor": "#E5ECF6",
           "caxis": {
            "gridcolor": "white",
            "linecolor": "white",
            "ticks": ""
           }
          },
          "title": {
           "x": 0.05
          },
          "xaxis": {
           "automargin": true,
           "gridcolor": "white",
           "linecolor": "white",
           "ticks": "",
           "title": {
            "standoff": 15
           },
           "zerolinecolor": "white",
           "zerolinewidth": 2
          },
          "yaxis": {
           "automargin": true,
           "gridcolor": "white",
           "linecolor": "white",
           "ticks": "",
           "title": {
            "standoff": 15
           },
           "zerolinecolor": "white",
           "zerolinewidth": 2
          }
         }
        },
        "title": {
         "text": "Median Incomes by Major Category",
         "x": 0.5
        },
        "width": 1200,
        "xaxis": {
         "anchor": "y",
         "autorange": true,
         "domain": [
          0,
          0.235
         ],
         "range": [
          19999.5,
          114999.5
         ],
         "title": {
          "text": "Median Income Brackets"
         },
         "type": "linear"
        },
        "xaxis10": {
         "anchor": "y10",
         "autorange": true,
         "domain": [
          0.255,
          0.49
         ],
         "matches": "x",
         "range": [
          19999.5,
          114999.5
         ],
         "showticklabels": false,
         "title": {
          "text": "Median Income Brackets"
         },
         "type": "linear"
        },
        "xaxis11": {
         "anchor": "y11",
         "autorange": true,
         "domain": [
          0.51,
          0.745
         ],
         "matches": "x",
         "range": [
          19999.5,
          114999.5
         ],
         "showticklabels": false,
         "title": {
          "text": "Median Income Brackets"
         },
         "type": "linear"
        },
        "xaxis12": {
         "anchor": "y12",
         "autorange": true,
         "domain": [
          0.7649999999999999,
          0.9999999999999999
         ],
         "matches": "x",
         "range": [
          19999.5,
          114999.5
         ],
         "showticklabels": false,
         "title": {
          "text": "Median Income Brackets"
         },
         "type": "linear"
        },
        "xaxis13": {
         "anchor": "y13",
         "autorange": true,
         "domain": [
          0,
          0.235
         ],
         "matches": "x",
         "range": [
          19999.5,
          114999.5
         ],
         "showticklabels": false,
         "title": {
          "text": "Median Income Brackets"
         },
         "type": "linear"
        },
        "xaxis14": {
         "anchor": "y14",
         "autorange": true,
         "domain": [
          0.255,
          0.49
         ],
         "matches": "x",
         "range": [
          19999.5,
          114999.5
         ],
         "showticklabels": false,
         "title": {
          "text": "Median Income Brackets"
         },
         "type": "linear"
        },
        "xaxis15": {
         "anchor": "y15",
         "autorange": true,
         "domain": [
          0.51,
          0.745
         ],
         "matches": "x",
         "range": [
          19999.5,
          114999.5
         ],
         "showticklabels": false,
         "title": {
          "text": "Median Income Brackets"
         },
         "type": "linear"
        },
        "xaxis16": {
         "anchor": "y16",
         "autorange": true,
         "domain": [
          0.7649999999999999,
          0.9999999999999999
         ],
         "matches": "x",
         "range": [
          19999.5,
          114999.5
         ],
         "showticklabels": false,
         "title": {
          "text": "Median Income Brackets"
         },
         "type": "linear"
        },
        "xaxis2": {
         "anchor": "y2",
         "autorange": true,
         "domain": [
          0.255,
          0.49
         ],
         "matches": "x",
         "range": [
          19999.5,
          114999.5
         ],
         "title": {
          "text": "Median Income Brackets"
         },
         "type": "linear"
        },
        "xaxis3": {
         "anchor": "y3",
         "autorange": true,
         "domain": [
          0.51,
          0.745
         ],
         "matches": "x",
         "range": [
          19999.5,
          114999.5
         ],
         "title": {
          "text": "Median Income Brackets"
         },
         "type": "linear"
        },
        "xaxis4": {
         "anchor": "y4",
         "autorange": true,
         "domain": [
          0.7649999999999999,
          0.9999999999999999
         ],
         "matches": "x",
         "range": [
          19999.5,
          114999.5
         ],
         "title": {
          "text": "Median Income Brackets"
         },
         "type": "linear"
        },
        "xaxis5": {
         "anchor": "y5",
         "autorange": true,
         "domain": [
          0,
          0.235
         ],
         "matches": "x",
         "range": [
          19999.5,
          114999.5
         ],
         "showticklabels": false,
         "title": {
          "text": "Median Income Brackets"
         },
         "type": "linear"
        },
        "xaxis6": {
         "anchor": "y6",
         "autorange": true,
         "domain": [
          0.255,
          0.49
         ],
         "matches": "x",
         "range": [
          19999.5,
          114999.5
         ],
         "showticklabels": false,
         "title": {
          "text": "Median Income Brackets"
         },
         "type": "linear"
        },
        "xaxis7": {
         "anchor": "y7",
         "autorange": true,
         "domain": [
          0.51,
          0.745
         ],
         "matches": "x",
         "range": [
          19999.5,
          114999.5
         ],
         "showticklabels": false,
         "title": {
          "text": "Median Income Brackets"
         },
         "type": "linear"
        },
        "xaxis8": {
         "anchor": "y8",
         "autorange": true,
         "domain": [
          0.7649999999999999,
          0.9999999999999999
         ],
         "matches": "x",
         "range": [
          19999.5,
          114999.5
         ],
         "showticklabels": false,
         "title": {
          "text": "Median Income Brackets"
         },
         "type": "linear"
        },
        "xaxis9": {
         "anchor": "y9",
         "autorange": true,
         "domain": [
          0,
          0.235
         ],
         "matches": "x",
         "range": [
          19999.5,
          114999.5
         ],
         "showticklabels": false,
         "title": {
          "text": "Median Income Brackets"
         },
         "type": "linear"
        },
        "yaxis": {
         "anchor": "x",
         "autorange": true,
         "domain": [
          0,
          0.1975
         ],
         "range": [
          0,
          12.631578947368421
         ],
         "title": {
          "text": "Count"
         }
        },
        "yaxis10": {
         "anchor": "x10",
         "autorange": true,
         "domain": [
          0.535,
          0.7325
         ],
         "matches": "y",
         "range": [
          0,
          12.631578947368421
         ],
         "showticklabels": false,
         "title": {
          "text": "Count"
         }
        },
        "yaxis11": {
         "anchor": "x11",
         "autorange": true,
         "domain": [
          0.535,
          0.7325
         ],
         "matches": "y",
         "range": [
          0,
          12.631578947368421
         ],
         "showticklabels": false,
         "title": {
          "text": "Count"
         }
        },
        "yaxis12": {
         "anchor": "x12",
         "autorange": true,
         "domain": [
          0.535,
          0.7325
         ],
         "matches": "y",
         "range": [
          0,
          12.631578947368421
         ],
         "showticklabels": false,
         "title": {
          "text": "Count"
         }
        },
        "yaxis13": {
         "anchor": "x13",
         "autorange": true,
         "domain": [
          0.8025,
          1
         ],
         "matches": "y",
         "range": [
          0,
          12.631578947368421
         ],
         "title": {
          "text": "Count"
         }
        },
        "yaxis14": {
         "anchor": "x14",
         "autorange": true,
         "domain": [
          0.8025,
          1
         ],
         "matches": "y",
         "range": [
          0,
          12.631578947368421
         ],
         "showticklabels": false,
         "title": {
          "text": "Count"
         }
        },
        "yaxis15": {
         "anchor": "x15",
         "autorange": true,
         "domain": [
          0.8025,
          1
         ],
         "matches": "y",
         "range": [
          0,
          12.631578947368421
         ],
         "showticklabels": false,
         "title": {
          "text": "Count"
         }
        },
        "yaxis16": {
         "anchor": "x16",
         "autorange": true,
         "domain": [
          0.8025,
          1
         ],
         "matches": "y",
         "range": [
          0,
          12.631578947368421
         ],
         "showticklabels": false,
         "title": {
          "text": "Count"
         }
        },
        "yaxis2": {
         "anchor": "x2",
         "autorange": true,
         "domain": [
          0,
          0.1975
         ],
         "matches": "y",
         "range": [
          0,
          12.631578947368421
         ],
         "showticklabels": false,
         "title": {
          "text": "Count"
         }
        },
        "yaxis3": {
         "anchor": "x3",
         "autorange": true,
         "domain": [
          0,
          0.1975
         ],
         "matches": "y",
         "range": [
          0,
          12.631578947368421
         ],
         "showticklabels": false,
         "title": {
          "text": "Count"
         }
        },
        "yaxis4": {
         "anchor": "x4",
         "autorange": true,
         "domain": [
          0,
          0.1975
         ],
         "matches": "y",
         "range": [
          0,
          12.631578947368421
         ],
         "showticklabels": false,
         "title": {
          "text": "Count"
         }
        },
        "yaxis5": {
         "anchor": "x5",
         "autorange": true,
         "domain": [
          0.2675,
          0.465
         ],
         "matches": "y",
         "range": [
          0,
          12.631578947368421
         ],
         "title": {
          "text": "Count"
         }
        },
        "yaxis6": {
         "anchor": "x6",
         "autorange": true,
         "domain": [
          0.2675,
          0.465
         ],
         "matches": "y",
         "range": [
          0,
          12.631578947368421
         ],
         "showticklabels": false,
         "title": {
          "text": "Count"
         }
        },
        "yaxis7": {
         "anchor": "x7",
         "autorange": true,
         "domain": [
          0.2675,
          0.465
         ],
         "matches": "y",
         "range": [
          0,
          12.631578947368421
         ],
         "showticklabels": false,
         "title": {
          "text": "Count"
         }
        },
        "yaxis8": {
         "anchor": "x8",
         "autorange": true,
         "domain": [
          0.2675,
          0.465
         ],
         "matches": "y",
         "range": [
          0,
          12.631578947368421
         ],
         "showticklabels": false,
         "title": {
          "text": "Count"
         }
        },
        "yaxis9": {
         "anchor": "x9",
         "autorange": true,
         "domain": [
          0.535,
          0.7325
         ],
         "matches": "y",
         "range": [
          0,
          12.631578947368421
         ],
         "title": {
          "text": "Count"
         }
        }
       }
      },
      "image/png": "[encoded data removed]",
      "text/html": [
       "<div>                            <div id=\"816681ff-64f0-46ba-96b4-987f3971fef9\" class=\"plotly-graph-div\" style=\"height:900px; width:1200px;\"></div>            <script type=\"text/javascript\">                require([\"plotly\"], function(Plotly) {                    window.PLOTLYENV=window.PLOTLYENV || {};                                    if (document.getElementById(\"816681ff-64f0-46ba-96b4-987f3971fef9\")) {                    Plotly.newPlot(                        \"816681ff-64f0-46ba-96b4-987f3971fef9\",                        [{\"alignmentgroup\":\"True\",\"bingroup\":\"x\",\"hovertemplate\":\"Major_category=Engineering\\u003cbr\\u003eMedian=%{x}\\u003cbr\\u003ecount=%{y}\\u003cextra\\u003e\\u003c\\u002fextra\\u003e\",\"legendgroup\":\"\",\"marker\":{\"color\":\"#636efa\",\"pattern\":{\"shape\":\"\"}},\"name\":\"\",\"nbinsx\":20,\"offsetgroup\":\"\",\"orientation\":\"v\",\"showlegend\":false,\"x\":[110000,75000,73000,70000,65000,65000,60000,60000,60000,60000,60000,60000,58000,57100,57000,56000,54000,52000,52000,50000,50000,50000,50000,50000,46000,44000,40000,40000,40000],\"xaxis\":\"x13\",\"yaxis\":\"y13\",\"type\":\"histogram\"},{\"alignmentgroup\":\"True\",\"bingroup\":\"x\",\"hovertemplate\":\"Major_category=Business\\u003cbr\\u003eMedian=%{x}\\u003cbr\\u003ecount=%{y}\\u003cextra\\u003e\\u003c\\u002fextra\\u003e\",\"legendgroup\":\"\",\"marker\":{\"color\":\"#636efa\",\"pattern\":{\"shape\":\"\"}},\"name\":\"\",\"nbinsx\":20,\"offsetgroup\":\"\",\"orientation\":\"v\",\"showlegend\":false,\"x\":[62000,51000,50000,47000,46000,45000,40000,40000,40000,38000,38000,36000,33000],\"xaxis\":\"x14\",\"yaxis\":\"y14\",\"type\":\"histogram\"},{\"alignmentgroup\":\"True\",\"bingroup\":\"x\",\"hovertemplate\":\"Major_category=Physical Sciences\\u003cbr\\u003eMedian=%{x}\\u003cbr\\u003ecount=%{y}\\u003cextra\\u003e\\u003c\\u002fextra\\u003e\",\"legendgroup\":\"\",\"marker\":{\"color\":\"#636efa\",\"pattern\":{\"shape\":\"\"}},\"name\":\"\",\"nbinsx\":20,\"offsetgroup\":\"\",\"orientation\":\"v\",\"showlegend\":false,\"x\":[62000,46000,45000,44700,40000,39000,36200,36000,35000,35000],\"xaxis\":\"x15\",\"yaxis\":\"y15\",\"type\":\"histogram\"},{\"alignmentgroup\":\"True\",\"bingroup\":\"x\",\"hovertemplate\":\"Major_category=Law & Public Policy\\u003cbr\\u003eMedian=%{x}\\u003cbr\\u003ecount=%{y}\\u003cextra\\u003e\\u003c\\u002fextra\\u003e\",\"legendgroup\":\"\",\"marker\":{\"color\":\"#636efa\",\"pattern\":{\"shape\":\"\"}},\"name\":\"\",\"nbinsx\":20,\"offsetgroup\":\"\",\"orientation\":\"v\",\"showlegend\":false,\"x\":[54000,50000,36000,36000,35000],\"xaxis\":\"x16\",\"yaxis\":\"y16\",\"type\":\"histogram\"},{\"alignmentgroup\":\"True\",\"bingroup\":\"x\",\"hovertemplate\":\"Major_category=Computers & Mathematics\\u003cbr\\u003eMedian=%{x}\\u003cbr\\u003ecount=%{y}\\u003cextra\\u003e\\u003c\\u002fextra\\u003e\",\"legendgroup\":\"\",\"marker\":{\"color\":\"#636efa\",\"pattern\":{\"shape\":\"\"}},\"name\":\"\",\"nbinsx\":20,\"offsetgroup\":\"\",\"orientation\":\"v\",\"showlegend\":false,\"x\":[53000,45000,45000,45000,45000,45000,42000,41300,37500,36400,35000],\"xaxis\":\"x9\",\"yaxis\":\"y9\",\"type\":\"histogram\"},{\"alignmentgroup\":\"True\",\"bingroup\":\"x\",\"hovertemplate\":\"Major_category=Agriculture & Natural Resources\\u003cbr\\u003eMedian=%{x}\\u003cbr\\u003ecount=%{y}\\u003cextra\\u003e\\u003c\\u002fextra\\u003e\",\"legendgroup\":\"\",\"marker\":{\"color\":\"#636efa\",\"pattern\":{\"shape\":\"\"}},\"name\":\"\",\"nbinsx\":20,\"offsetgroup\":\"\",\"orientation\":\"v\",\"showlegend\":false,\"x\":[53000,40000,40000,40000,35000,35000,35000,32000,30000,29000],\"xaxis\":\"x10\",\"yaxis\":\"y10\",\"type\":\"histogram\"},{\"alignmentgroup\":\"True\",\"bingroup\":\"x\",\"hovertemplate\":\"Major_category=Industrial Arts & Consumer Services\\u003cbr\\u003eMedian=%{x}\\u003cbr\\u003ecount=%{y}\\u003cextra\\u003e\\u003c\\u002fextra\\u003e\",\"legendgroup\":\"\",\"marker\":{\"color\":\"#636efa\",\"pattern\":{\"shape\":\"\"}},\"name\":\"\",\"nbinsx\":20,\"offsetgroup\":\"\",\"orientation\":\"v\",\"showlegend\":false,\"x\":[50000,40000,38400,35000,32000,30000,29000],\"xaxis\":\"x11\",\"yaxis\":\"y11\",\"type\":\"histogram\"},{\"alignmentgroup\":\"True\",\"bingroup\":\"x\",\"hovertemplate\":\"Major_category=Arts\\u003cbr\\u003eMedian=%{x}\\u003cbr\\u003ecount=%{y}\\u003cextra\\u003e\\u003c\\u002fextra\\u003e\",\"legendgroup\":\"\",\"marker\":{\"color\":\"#636efa\",\"pattern\":{\"shape\":\"\"}},\"name\":\"\",\"nbinsx\":20,\"offsetgroup\":\"\",\"orientation\":\"v\",\"showlegend\":false,\"x\":[50000,35000,32000,31000,30500,30000,29000,27000],\"xaxis\":\"x12\",\"yaxis\":\"y12\",\"type\":\"histogram\"},{\"alignmentgroup\":\"True\",\"bingroup\":\"x\",\"hovertemplate\":\"Major_category=Health\\u003cbr\\u003eMedian=%{x}\\u003cbr\\u003ecount=%{y}\\u003cextra\\u003e\\u003c\\u002fextra\\u003e\",\"legendgroup\":\"\",\"marker\":{\"color\":\"#636efa\",\"pattern\":{\"shape\":\"\"}},\"name\":\"\",\"nbinsx\":20,\"offsetgroup\":\"\",\"orientation\":\"v\",\"showlegend\":false,\"x\":[48000,45000,42000,40000,36000,35000,35000,34000,33500,33000,32400,28000],\"xaxis\":\"x5\",\"yaxis\":\"y5\",\"type\":\"histogram\"},{\"alignmentgroup\":\"True\",\"bingroup\":\"x\",\"hovertemplate\":\"Major_category=Social Science\\u003cbr\\u003eMedian=%{x}\\u003cbr\\u003ecount=%{y}\\u003cextra\\u003e\\u003c\\u002fextra\\u003e\",\"legendgroup\":\"\",\"marker\":{\"color\":\"#636efa\",\"pattern\":{\"shape\":\"\"}},\"name\":\"\",\"nbinsx\":20,\"offsetgroup\":\"\",\"orientation\":\"v\",\"showlegend\":false,\"x\":[47000,40100,40000,38000,38000,35000,33000,33000,32000],\"xaxis\":\"x6\",\"yaxis\":\"y6\",\"type\":\"histogram\"},{\"alignmentgroup\":\"True\",\"bingroup\":\"x\",\"hovertemplate\":\"Major_category=Biology & Life Science\\u003cbr\\u003eMedian=%{x}\\u003cbr\\u003ecount=%{y}\\u003cextra\\u003e\\u003c\\u002fextra\\u003e\",\"legendgroup\":\"\",\"marker\":{\"color\":\"#636efa\",\"pattern\":{\"shape\":\"\"}},\"name\":\"\",\"nbinsx\":20,\"offsetgroup\":\"\",\"orientation\":\"v\",\"showlegend\":false,\"x\":[45000,41000,40000,40000,38000,37400,37000,35600,35000,35000,33500,33400,33000,26000],\"xaxis\":\"x7\",\"yaxis\":\"y7\",\"type\":\"histogram\"},{\"alignmentgroup\":\"True\",\"bingroup\":\"x\",\"hovertemplate\":\"Major_category=Education\\u003cbr\\u003eMedian=%{x}\\u003cbr\\u003ecount=%{y}\\u003cextra\\u003e\\u003c\\u002fextra\\u003e\",\"legendgroup\":\"\",\"marker\":{\"color\":\"#636efa\",\"pattern\":{\"shape\":\"\"}},\"name\":\"\",\"nbinsx\":20,\"offsetgroup\":\"\",\"orientation\":\"v\",\"showlegend\":false,\"x\":[41000,35000,34000,34000,34000,34000,33000,33000,32500,32100,32000,32000,31000,30000,28000,22000],\"xaxis\":\"x8\",\"yaxis\":\"y8\",\"type\":\"histogram\"},{\"alignmentgroup\":\"True\",\"bingroup\":\"x\",\"hovertemplate\":\"Major_category=Humanities & Liberal Arts\\u003cbr\\u003eMedian=%{x}\\u003cbr\\u003ecount=%{y}\\u003cextra\\u003e\\u003c\\u002fextra\\u003e\",\"legendgroup\":\"\",\"marker\":{\"color\":\"#636efa\",\"pattern\":{\"shape\":\"\"}},\"name\":\"\",\"nbinsx\":20,\"offsetgroup\":\"\",\"orientation\":\"v\",\"showlegend\":false,\"x\":[40000,35000,34000,34000,34000,33000,32200,32000,32000,31000,30000,29000,28000,27500,27000],\"xaxis\":\"x\",\"yaxis\":\"y\",\"type\":\"histogram\"},{\"alignmentgroup\":\"True\",\"bingroup\":\"x\",\"hovertemplate\":\"Major_category=Psychology & Social Work\\u003cbr\\u003eMedian=%{x}\\u003cbr\\u003ecount=%{y}\\u003cextra\\u003e\\u003c\\u002fextra\\u003e\",\"legendgroup\":\"\",\"marker\":{\"color\":\"#636efa\",\"pattern\":{\"shape\":\"\"}},\"name\":\"\",\"nbinsx\":20,\"offsetgroup\":\"\",\"orientation\":\"v\",\"showlegend\":false,\"x\":[40000,36000,31500,30000,30000,30000,25000,25000,23400],\"xaxis\":\"x2\",\"yaxis\":\"y2\",\"type\":\"histogram\"},{\"alignmentgroup\":\"True\",\"bingroup\":\"x\",\"hovertemplate\":\"Major_category=Communications & Journalism\\u003cbr\\u003eMedian=%{x}\\u003cbr\\u003ecount=%{y}\\u003cextra\\u003e\\u003c\\u002fextra\\u003e\",\"legendgroup\":\"\",\"marker\":{\"color\":\"#636efa\",\"pattern\":{\"shape\":\"\"}},\"name\":\"\",\"nbinsx\":20,\"offsetgroup\":\"\",\"orientation\":\"v\",\"showlegend\":false,\"x\":[35000,35000,35000,33000],\"xaxis\":\"x3\",\"yaxis\":\"y3\",\"type\":\"histogram\"},{\"alignmentgroup\":\"True\",\"bingroup\":\"x\",\"hovertemplate\":\"Major_category=Interdisciplinary\\u003cbr\\u003eMedian=%{x}\\u003cbr\\u003ecount=%{y}\\u003cextra\\u003e\\u003c\\u002fextra\\u003e\",\"legendgroup\":\"\",\"marker\":{\"color\":\"#636efa\",\"pattern\":{\"shape\":\"\"}},\"name\":\"\",\"nbinsx\":20,\"offsetgroup\":\"\",\"orientation\":\"v\",\"showlegend\":false,\"x\":[35000],\"xaxis\":\"x4\",\"yaxis\":\"y4\",\"type\":\"histogram\"}],                        {\"template\":{\"data\":{\"histogram2dcontour\":[{\"type\":\"histogram2dcontour\",\"colorbar\":{\"outlinewidth\":0,\"ticks\":\"\"},\"colorscale\":[[0.0,\"#0d0887\"],[0.1111111111111111,\"#46039f\"],[0.2222222222222222,\"#7201a8\"],[0.3333333333333333,\"#9c179e\"],[0.4444444444444444,\"#bd3786\"],[0.5555555555555556,\"#d8576b\"],[0.6666666666666666,\"#ed7953\"],[0.7777777777777778,\"#fb9f3a\"],[0.8888888888888888,\"#fdca26\"],[1.0,\"#f0f921\"]]}],\"choropleth\":[{\"type\":\"choropleth\",\"colorbar\":{\"outlinewidth\":0,\"ticks\":\"\"}}],\"histogram2d\":[{\"type\":\"histogram2d\",\"colorbar\":{\"outlinewidth\":0,\"ticks\":\"\"},\"colorscale\":[[0.0,\"#0d0887\"],[0.1111111111111111,\"#46039f\"],[0.2222222222222222,\"#7201a8\"],[0.3333333333333333,\"#9c179e\"],[0.4444444444444444,\"#bd3786\"],[0.5555555555555556,\"#d8576b\"],[0.6666666666666666,\"#ed7953\"],[0.7777777777777778,\"#fb9f3a\"],[0.8888888888888888,\"#fdca26\"],[1.0,\"#f0f921\"]]}],\"heatmap\":[{\"type\":\"heatmap\",\"colorbar\":{\"outlinewidth\":0,\"ticks\":\"\"},\"colorscale\":[[0.0,\"#0d0887\"],[0.1111111111111111,\"#46039f\"],[0.2222222222222222,\"#7201a8\"],[0.3333333333333333,\"#9c179e\"],[0.4444444444444444,\"#bd3786\"],[0.5555555555555556,\"#d8576b\"],[0.6666666666666666,\"#ed7953\"],[0.7777777777777778,\"#fb9f3a\"],[0.8888888888888888,\"#fdca26\"],[1.0,\"#f0f921\"]]}],\"heatmapgl\":[{\"type\":\"heatmapgl\",\"colorbar\":{\"outlinewidth\":0,\"ticks\":\"\"},\"colorscale\":[[0.0,\"#0d0887\"],[0.1111111111111111,\"#46039f\"],[0.2222222222222222,\"#7201a8\"],[0.3333333333333333,\"#9c179e\"],[0.4444444444444444,\"#bd3786\"],[0.5555555555555556,\"#d8576b\"],[0.6666666666666666,\"#ed7953\"],[0.7777777777777778,\"#fb9f3a\"],[0.8888888888888888,\"#fdca26\"],[1.0,\"#f0f921\"]]}],\"contourcarpet\":[{\"type\":\"contourcarpet\",\"colorbar\":{\"outlinewidth\":0,\"ticks\":\"\"}}],\"contour\":[{\"type\":\"contour\",\"colorbar\":{\"outlinewidth\":0,\"ticks\":\"\"},\"colorscale\":[[0.0,\"#0d0887\"],[0.1111111111111111,\"#46039f\"],[0.2222222222222222,\"#7201a8\"],[0.3333333333333333,\"#9c179e\"],[0.4444444444444444,\"#bd3786\"],[0.5555555555555556,\"#d8576b\"],[0.6666666666666666,\"#ed7953\"],[0.7777777777777778,\"#fb9f3a\"],[0.8888888888888888,\"#fdca26\"],[1.0,\"#f0f921\"]]}],\"surface\":[{\"type\":\"surface\",\"colorbar\":{\"outlinewidth\":0,\"ticks\":\"\"},\"colorscale\":[[0.0,\"#0d0887\"],[0.1111111111111111,\"#46039f\"],[0.2222222222222222,\"#7201a8\"],[0.3333333333333333,\"#9c179e\"],[0.4444444444444444,\"#bd3786\"],[0.5555555555555556,\"#d8576b\"],[0.6666666666666666,\"#ed7953\"],[0.7777777777777778,\"#fb9f3a\"],[0.8888888888888888,\"#fdca26\"],[1.0,\"#f0f921\"]]}],\"mesh3d\":[{\"type\":\"mesh3d\",\"colorbar\":{\"outlinewidth\":0,\"ticks\":\"\"}}],\"scatter\":[{\"fillpattern\":{\"fillmode\":\"overlay\",\"size\":10,\"solidity\":0.2},\"type\":\"scatter\"}],\"parcoords\":[{\"type\":\"parcoords\",\"line\":{\"colorbar\":{\"outlinewidth\":0,\"ticks\":\"\"}}}],\"scatterpolargl\":[{\"type\":\"scatterpolargl\",\"marker\":{\"colorbar\":{\"outlinewidth\":0,\"ticks\":\"\"}}}],\"bar\":[{\"error_x\":{\"color\":\"#2a3f5f\"},\"error_y\":{\"color\":\"#2a3f5f\"},\"marker\":{\"line\":{\"color\":\"#E5ECF6\",\"width\":0.5},\"pattern\":{\"fillmode\":\"overlay\",\"size\":10,\"solidity\":0.2}},\"type\":\"bar\"}],\"scattergeo\":[{\"type\":\"scattergeo\",\"marker\":{\"colorbar\":{\"outlinewidth\":0,\"ticks\":\"\"}}}],\"scatterpolar\":[{\"type\":\"scatterpolar\",\"marker\":{\"colorbar\":{\"outlinewidth\":0,\"ticks\":\"\"}}}],\"histogram\":[{\"marker\":{\"pattern\":{\"fillmode\":\"overlay\",\"size\":10,\"solidity\":0.2}},\"type\":\"histogram\"}],\"scattergl\":[{\"type\":\"scattergl\",\"marker\":{\"colorbar\":{\"outlinewidth\":0,\"ticks\":\"\"}}}],\"scatter3d\":[{\"type\":\"scatter3d\",\"line\":{\"colorbar\":{\"outlinewidth\":0,\"ticks\":\"\"}},\"marker\":{\"colorbar\":{\"outlinewidth\":0,\"ticks\":\"\"}}}],\"scattermapbox\":[{\"type\":\"scattermapbox\",\"marker\":{\"colorbar\":{\"outlinewidth\":0,\"ticks\":\"\"}}}],\"scatterternary\":[{\"type\":\"scatterternary\",\"marker\":{\"colorbar\":{\"outlinewidth\":0,\"ticks\":\"\"}}}],\"scattercarpet\":[{\"type\":\"scattercarpet\",\"marker\":{\"colorbar\":{\"outlinewidth\":0,\"ticks\":\"\"}}}],\"carpet\":[{\"aaxis\":{\"endlinecolor\":\"#2a3f5f\",\"gridcolor\":\"white\",\"linecolor\":\"white\",\"minorgridcolor\":\"white\",\"startlinecolor\":\"#2a3f5f\"},\"baxis\":{\"endlinecolor\":\"#2a3f5f\",\"gridcolor\":\"white\",\"linecolor\":\"white\",\"minorgridcolor\":\"white\",\"startlinecolor\":\"#2a3f5f\"},\"type\":\"carpet\"}],\"table\":[{\"cells\":{\"fill\":{\"color\":\"#EBF0F8\"},\"line\":{\"color\":\"white\"}},\"header\":{\"fill\":{\"color\":\"#C8D4E3\"},\"line\":{\"color\":\"white\"}},\"type\":\"table\"}],\"barpolar\":[{\"marker\":{\"line\":{\"color\":\"#E5ECF6\",\"width\":0.5},\"pattern\":{\"fillmode\":\"overlay\",\"size\":10,\"solidity\":0.2}},\"type\":\"barpolar\"}],\"pie\":[{\"automargin\":true,\"type\":\"pie\"}]},\"layout\":{\"autotypenumbers\":\"strict\",\"colorway\":[\"#636efa\",\"#EF553B\",\"#00cc96\",\"#ab63fa\",\"#FFA15A\",\"#19d3f3\",\"#FF6692\",\"#B6E880\",\"#FF97FF\",\"#FECB52\"],\"font\":{\"color\":\"#2a3f5f\"},\"hovermode\":\"closest\",\"hoverlabel\":{\"align\":\"left\"},\"paper_bgcolor\":\"white\",\"plot_bgcolor\":\"#E5ECF6\",\"polar\":{\"bgcolor\":\"#E5ECF6\",\"angularaxis\":{\"gridcolor\":\"white\",\"linecolor\":\"white\",\"ticks\":\"\"},\"radialaxis\":{\"gridcolor\":\"white\",\"linecolor\":\"white\",\"ticks\":\"\"}},\"ternary\":{\"bgcolor\":\"#E5ECF6\",\"aaxis\":{\"gridcolor\":\"white\",\"linecolor\":\"white\",\"ticks\":\"\"},\"baxis\":{\"gridcolor\":\"white\",\"linecolor\":\"white\",\"ticks\":\"\"},\"caxis\":{\"gridcolor\":\"white\",\"linecolor\":\"white\",\"ticks\":\"\"}},\"coloraxis\":{\"colorbar\":{\"outlinewidth\":0,\"ticks\":\"\"}},\"colorscale\":{\"sequential\":[[0.0,\"#0d0887\"],[0.1111111111111111,\"#46039f\"],[0.2222222222222222,\"#7201a8\"],[0.3333333333333333,\"#9c179e\"],[0.4444444444444444,\"#bd3786\"],[0.5555555555555556,\"#d8576b\"],[0.6666666666666666,\"#ed7953\"],[0.7777777777777778,\"#fb9f3a\"],[0.8888888888888888,\"#fdca26\"],[1.0,\"#f0f921\"]],\"sequentialminus\":[[0.0,\"#0d0887\"],[0.1111111111111111,\"#46039f\"],[0.2222222222222222,\"#7201a8\"],[0.3333333333333333,\"#9c179e\"],[0.4444444444444444,\"#bd3786\"],[0.5555555555555556,\"#d8576b\"],[0.6666666666666666,\"#ed7953\"],[0.7777777777777778,\"#fb9f3a\"],[0.8888888888888888,\"#fdca26\"],[1.0,\"#f0f921\"]],\"diverging\":[[0,\"#8e0152\"],[0.1,\"#c51b7d\"],[0.2,\"#de77ae\"],[0.3,\"#f1b6da\"],[0.4,\"#fde0ef\"],[0.5,\"#f7f7f7\"],[0.6,\"#e6f5d0\"],[0.7,\"#b8e186\"],[0.8,\"#7fbc41\"],[0.9,\"#4d9221\"],[1,\"#276419\"]]},\"xaxis\":{\"gridcolor\":\"white\",\"linecolor\":\"white\",\"ticks\":\"\",\"title\":{\"standoff\":15},\"zerolinecolor\":\"white\",\"automargin\":true,\"zerolinewidth\":2},\"yaxis\":{\"gridcolor\":\"white\",\"linecolor\":\"white\",\"ticks\":\"\",\"title\":{\"standoff\":15},\"zerolinecolor\":\"white\",\"automargin\":true,\"zerolinewidth\":2},\"scene\":{\"xaxis\":{\"backgroundcolor\":\"#E5ECF6\",\"gridcolor\":\"white\",\"linecolor\":\"white\",\"showbackground\":true,\"ticks\":\"\",\"zerolinecolor\":\"white\",\"gridwidth\":2},\"yaxis\":{\"backgroundcolor\":\"#E5ECF6\",\"gridcolor\":\"white\",\"linecolor\":\"white\",\"showbackground\":true,\"ticks\":\"\",\"zerolinecolor\":\"white\",\"gridwidth\":2},\"zaxis\":{\"backgroundcolor\":\"#E5ECF6\",\"gridcolor\":\"white\",\"linecolor\":\"white\",\"showbackground\":true,\"ticks\":\"\",\"zerolinecolor\":\"white\",\"gridwidth\":2}},\"shapedefaults\":{\"line\":{\"color\":\"#2a3f5f\"}},\"annotationdefaults\":{\"arrowcolor\":\"#2a3f5f\",\"arrowhead\":0,\"arrowwidth\":1},\"geo\":{\"bgcolor\":\"white\",\"landcolor\":\"#E5ECF6\",\"subunitcolor\":\"white\",\"showland\":true,\"showlakes\":true,\"lakecolor\":\"white\"},\"title\":{\"x\":0.05},\"mapbox\":{\"style\":\"light\"}}},\"xaxis\":{\"anchor\":\"y\",\"domain\":[0.0,0.235],\"title\":{\"text\":\"Median Income Brackets\"}},\"yaxis\":{\"anchor\":\"x\",\"domain\":[0.0,0.1975],\"title\":{\"text\":\"Count\"}},\"xaxis2\":{\"anchor\":\"y2\",\"domain\":[0.255,0.49],\"matches\":\"x\",\"title\":{\"text\":\"Median Income Brackets\"}},\"yaxis2\":{\"anchor\":\"x2\",\"domain\":[0.0,0.1975],\"matches\":\"y\",\"showticklabels\":false,\"title\":{\"text\":\"Count\"}},\"xaxis3\":{\"anchor\":\"y3\",\"domain\":[0.51,0.745],\"matches\":\"x\",\"title\":{\"text\":\"Median Income Brackets\"}},\"yaxis3\":{\"anchor\":\"x3\",\"domain\":[0.0,0.1975],\"matches\":\"y\",\"showticklabels\":false,\"title\":{\"text\":\"Count\"}},\"xaxis4\":{\"anchor\":\"y4\",\"domain\":[0.7649999999999999,0.9999999999999999],\"matches\":\"x\",\"title\":{\"text\":\"Median Income Brackets\"}},\"yaxis4\":{\"anchor\":\"x4\",\"domain\":[0.0,0.1975],\"matches\":\"y\",\"showticklabels\":false,\"title\":{\"text\":\"Count\"}},\"xaxis5\":{\"anchor\":\"y5\",\"domain\":[0.0,0.235],\"matches\":\"x\",\"showticklabels\":false,\"title\":{\"text\":\"Median Income Brackets\"}},\"yaxis5\":{\"anchor\":\"x5\",\"domain\":[0.2675,0.465],\"matches\":\"y\",\"title\":{\"text\":\"Count\"}},\"xaxis6\":{\"anchor\":\"y6\",\"domain\":[0.255,0.49],\"matches\":\"x\",\"showticklabels\":false,\"title\":{\"text\":\"Median Income Brackets\"}},\"yaxis6\":{\"anchor\":\"x6\",\"domain\":[0.2675,0.465],\"matches\":\"y\",\"showticklabels\":false,\"title\":{\"text\":\"Count\"}},\"xaxis7\":{\"anchor\":\"y7\",\"domain\":[0.51,0.745],\"matches\":\"x\",\"showticklabels\":false,\"title\":{\"text\":\"Median Income Brackets\"}},\"yaxis7\":{\"anchor\":\"x7\",\"domain\":[0.2675,0.465],\"matches\":\"y\",\"showticklabels\":false,\"title\":{\"text\":\"Count\"}},\"xaxis8\":{\"anchor\":\"y8\",\"domain\":[0.7649999999999999,0.9999999999999999],\"matches\":\"x\",\"showticklabels\":false,\"title\":{\"text\":\"Median Income Brackets\"}},\"yaxis8\":{\"anchor\":\"x8\",\"domain\":[0.2675,0.465],\"matches\":\"y\",\"showticklabels\":false,\"title\":{\"text\":\"Count\"}},\"xaxis9\":{\"anchor\":\"y9\",\"domain\":[0.0,0.235],\"matches\":\"x\",\"showticklabels\":false,\"title\":{\"text\":\"Median Income Brackets\"}},\"yaxis9\":{\"anchor\":\"x9\",\"domain\":[0.535,0.7325],\"matches\":\"y\",\"title\":{\"text\":\"Count\"}},\"xaxis10\":{\"anchor\":\"y10\",\"domain\":[0.255,0.49],\"matches\":\"x\",\"showticklabels\":false,\"title\":{\"text\":\"Median Income Brackets\"}},\"yaxis10\":{\"anchor\":\"x10\",\"domain\":[0.535,0.7325],\"matches\":\"y\",\"showticklabels\":false,\"title\":{\"text\":\"Count\"}},\"xaxis11\":{\"anchor\":\"y11\",\"domain\":[0.51,0.745],\"matches\":\"x\",\"showticklabels\":false,\"title\":{\"text\":\"Median Income Brackets\"}},\"yaxis11\":{\"anchor\":\"x11\",\"domain\":[0.535,0.7325],\"matches\":\"y\",\"showticklabels\":false,\"title\":{\"text\":\"Count\"}},\"xaxis12\":{\"anchor\":\"y12\",\"domain\":[0.7649999999999999,0.9999999999999999],\"matches\":\"x\",\"showticklabels\":false,\"title\":{\"text\":\"Median Income Brackets\"}},\"yaxis12\":{\"anchor\":\"x12\",\"domain\":[0.535,0.7325],\"matches\":\"y\",\"showticklabels\":false,\"title\":{\"text\":\"Count\"}},\"xaxis13\":{\"anchor\":\"y13\",\"domain\":[0.0,0.235],\"matches\":\"x\",\"showticklabels\":false,\"title\":{\"text\":\"Median Income Brackets\"}},\"yaxis13\":{\"anchor\":\"x13\",\"domain\":[0.8025,1.0],\"matches\":\"y\",\"title\":{\"text\":\"Count\"}},\"xaxis14\":{\"anchor\":\"y14\",\"domain\":[0.255,0.49],\"matches\":\"x\",\"showticklabels\":false,\"title\":{\"text\":\"Median Income Brackets\"}},\"yaxis14\":{\"anchor\":\"x14\",\"domain\":[0.8025,1.0],\"matches\":\"y\",\"showticklabels\":false,\"title\":{\"text\":\"Count\"}},\"xaxis15\":{\"anchor\":\"y15\",\"domain\":[0.51,0.745],\"matches\":\"x\",\"showticklabels\":false,\"title\":{\"text\":\"Median Income Brackets\"}},\"yaxis15\":{\"anchor\":\"x15\",\"domain\":[0.8025,1.0],\"matches\":\"y\",\"showticklabels\":false,\"title\":{\"text\":\"Count\"}},\"xaxis16\":{\"anchor\":\"y16\",\"domain\":[0.7649999999999999,0.9999999999999999],\"matches\":\"x\",\"showticklabels\":false,\"title\":{\"text\":\"Median Income Brackets\"}},\"yaxis16\":{\"anchor\":\"x16\",\"domain\":[0.8025,1.0],\"matches\":\"y\",\"showticklabels\":false,\"title\":{\"text\":\"Count\"}},\"annotations\":[{\"font\":{},\"showarrow\":false,\"text\":\"Humanities & Liberal Arts\",\"x\":0.1175,\"xanchor\":\"center\",\"xref\":\"paper\",\"y\":0.1975,\"yanchor\":\"bottom\",\"yref\":\"paper\"},{\"font\":{},\"showarrow\":false,\"text\":\"Psychology & Social Work\",\"x\":0.3725,\"xanchor\":\"center\",\"xref\":\"paper\",\"y\":0.1975,\"yanchor\":\"bottom\",\"yref\":\"paper\"},{\"font\":{},\"showarrow\":false,\"text\":\"Communications & Journalism\",\"x\":0.6275,\"xanchor\":\"center\",\"xref\":\"paper\",\"y\":0.1975,\"yanchor\":\"bottom\",\"yref\":\"paper\"},{\"font\":{},\"showarrow\":false,\"text\":\"Interdisciplinary\",\"x\":0.8824999999999998,\"xanchor\":\"center\",\"xref\":\"paper\",\"y\":0.1975,\"yanchor\":\"bottom\",\"yref\":\"paper\"},{\"font\":{},\"showarrow\":false,\"text\":\"Health\",\"x\":0.1175,\"xanchor\":\"center\",\"xref\":\"paper\",\"y\":0.465,\"yanchor\":\"bottom\",\"yref\":\"paper\"},{\"font\":{},\"showarrow\":false,\"text\":\"Social Science\",\"x\":0.3725,\"xanchor\":\"center\",\"xref\":\"paper\",\"y\":0.465,\"yanchor\":\"bottom\",\"yref\":\"paper\"},{\"font\":{},\"showarrow\":false,\"text\":\"Biology & Life Science\",\"x\":0.6275,\"xanchor\":\"center\",\"xref\":\"paper\",\"y\":0.465,\"yanchor\":\"bottom\",\"yref\":\"paper\"},{\"font\":{},\"showarrow\":false,\"text\":\"Education\",\"x\":0.8824999999999998,\"xanchor\":\"center\",\"xref\":\"paper\",\"y\":0.465,\"yanchor\":\"bottom\",\"yref\":\"paper\"},{\"font\":{},\"showarrow\":false,\"text\":\"Computers & Mathematics\",\"x\":0.1175,\"xanchor\":\"center\",\"xref\":\"paper\",\"y\":0.7325,\"yanchor\":\"bottom\",\"yref\":\"paper\"},{\"font\":{},\"showarrow\":false,\"text\":\"Agriculture & Natural Resources\",\"x\":0.3725,\"xanchor\":\"center\",\"xref\":\"paper\",\"y\":0.7325,\"yanchor\":\"bottom\",\"yref\":\"paper\"},{\"font\":{},\"showarrow\":false,\"text\":\"Industrial Arts & Consumer Services\",\"x\":0.6275,\"xanchor\":\"center\",\"xref\":\"paper\",\"y\":0.7325,\"yanchor\":\"bottom\",\"yref\":\"paper\"},{\"font\":{},\"showarrow\":false,\"text\":\"Arts\",\"x\":0.8824999999999998,\"xanchor\":\"center\",\"xref\":\"paper\",\"y\":0.7325,\"yanchor\":\"bottom\",\"yref\":\"paper\"},{\"font\":{},\"showarrow\":false,\"text\":\"Engineering\",\"x\":0.1175,\"xanchor\":\"center\",\"xref\":\"paper\",\"y\":1.0,\"yanchor\":\"bottom\",\"yref\":\"paper\"},{\"font\":{},\"showarrow\":false,\"text\":\"Business\",\"x\":0.3725,\"xanchor\":\"center\",\"xref\":\"paper\",\"y\":1.0,\"yanchor\":\"bottom\",\"yref\":\"paper\"},{\"font\":{},\"showarrow\":false,\"text\":\"Physical Sciences\",\"x\":0.6275,\"xanchor\":\"center\",\"xref\":\"paper\",\"y\":1.0,\"yanchor\":\"bottom\",\"yref\":\"paper\"},{\"font\":{},\"showarrow\":false,\"text\":\"Law & Public Policy\",\"x\":0.8824999999999998,\"xanchor\":\"center\",\"xref\":\"paper\",\"y\":1.0,\"yanchor\":\"bottom\",\"yref\":\"paper\"}],\"legend\":{\"tracegroupgap\":0},\"margin\":{\"t\":60},\"barmode\":\"relative\",\"title\":{\"text\":\"Median Incomes by Major Category\",\"x\":0.5},\"autosize\":false,\"width\":1200,\"height\":900},                        {\"responsive\": true}                    ).then(function(){\n",
       "                            \n",
       "var gd = document.getElementById('816681ff-64f0-46ba-96b4-987f3971fef9');\n",
       "var x = new MutationObserver(function (mutations, observer) {{\n",
       "        var display = window.getComputedStyle(gd).display;\n",
       "        if (!display || display === 'none') {{\n",
       "            console.log([gd, 'removed!']);\n",
       "            Plotly.purge(gd);\n",
       "            observer.disconnect();\n",
       "        }}\n",
       "}});\n",
       "\n",
       "// Listen for the removal of the full notebook cells\n",
       "var notebookContainer = gd.closest('#notebook-container');\n",
       "if (notebookContainer) {{\n",
       "    x.observe(notebookContainer, {childList: true});\n",
       "}}\n",
       "\n",
       "// Listen for the clearing of the current output cell\n",
       "var outputEl = gd.closest('.output');\n",
       "if (outputEl) {{\n",
       "    x.observe(outputEl, {childList: true});\n",
       "}}\n",
       "\n",
       "                        })                };                });            </script>        </div>"
      ]
     },
     "metadata": {},
     "output_type": "display_data"
    }
   ],
   "source": [
    "#graph\n",
    "fig = px.histogram(DF_raw[['Major_category','Median']],\n",
    "                  x='Median',\n",
    "                  facet_col='Major_category',\n",
    "                  facet_col_wrap=4,\n",
    "                  nbins=20)\n",
    "\n",
    "fig.update_layout(title='Median Incomes by Major Category',\n",
    "                  title_x=0.5,\n",
    "                  xaxis_title=\"Median Income Brackets\",\n",
    "                  autosize=False,\n",
    "                  width=1200,\n",
    "                  height=900)\n",
    "\n",
    "fig.for_each_annotation(lambda a: a.update(text=a.text.split(\"=\")[-1]))\n",
    "\n",
    "fig.update_yaxes(title=\"Count\")\n",
    "fig.update_xaxes(title=\"Median Income Brackets\")\n",
    "\n",
    "fig.show()"
   ]
  },
  {
   "cell_type": "markdown",
   "id": "04306ea4-b398-411c-b91e-86a68d24a8d6",
   "metadata": {},
   "source": [
    "I used 20 bins partly because it wasn't rendering any differently until I hit nbins=50. I think a bit more detail would have been nice, but 20 bins already does a good enough job "
   ]
  },
  {
   "cell_type": "markdown",
   "id": "e601c3c8-0893-4f58-ae27-86652fbf9d40",
   "metadata": {},
   "source": [
    "Median is generally used over mean for income because there tend to be many outliers with especially high earnings."
   ]
  },
  {
   "cell_type": "code",
   "execution_count": 268,
   "id": "35b05a1f-ef60-48e9-b450-76c6a58b52cf",
   "metadata": {},
   "outputs": [
    {
     "data": {
      "text/plain": [
       "Major_category     Engineering\n",
       "Median            57382.758621\n",
       "Name: 7, dtype: object"
      ]
     },
     "execution_count": 268,
     "metadata": {},
     "output_type": "execute_result"
    }
   ],
   "source": [
    "#highest typical median\n",
    "raw_mcat_groupby = DF_raw[['Major_category','Median']].groupby(by='Major_category')\n",
    "\n",
    "med_groupby_mean = raw_mcat_groupby.mean()\n",
    "med_groupby_mean = med_groupby_mean['Median']\n",
    "\n",
    "med_groupby_mean = med_groupby_mean.reset_index()\n",
    "med_groupby_mean = med_groupby_mean.sort_values(by='Median', ascending=False)\n",
    "\n",
    "med_groupby_mean.iloc[0]"
   ]
  },
  {
   "cell_type": "markdown",
   "id": "757cea60-4030-4c27-8248-0f95c1930abb",
   "metadata": {},
   "source": [
    "Engineering has the highest typical median income."
   ]
  },
  {
   "cell_type": "markdown",
   "id": "39d4118e-26d8-4f81-8d65-569c4b6d97d1",
   "metadata": {},
   "source": [
    "### 3. More complicated questions\n",
    "\n",
    "* Are all STEM fields the same in terms job opportunities?\n",
    "    * Assume the following are STEM major categories\n",
    "    \n",
    "  ``` [\"Biology & Life Science\", \"Computers & Mathematics\", \"Engineering\",\"Physical Sciences\"]```\n",
    "  \n",
    "    * Create a DataFrame (using a mask) so you only look at STEM majors.\n",
    "    * Which STEM majors have median salaries equal to or less than the median for all majors' median earnings?\n",
    "* What types of majors do women tend to major in?\n",
    "    * Create a scatterplot of median income vs. proportion of women in that major, coloured by whether the major is in a STEM field or not."
   ]
  },
  {
   "cell_type": "code",
   "execution_count": 302,
   "id": "1639bd96-4f56-4ccb-b28c-51b09b961ae4",
   "metadata": {},
   "outputs": [
    {
     "name": "stdout",
     "output_type": "stream",
     "text": [
      "Median all: 36000.0\n"
     ]
    },
    {
     "data": {
      "text/html": [
       "<table id=\"itables_550dbd24_57e3_4ce1_9051_f1a82e5c93e0\" class=\"display nowrap\" data-quarto-disable-processing=\"true\" style=\"table-layout:auto;width:auto;margin:auto;caption-side:bottom\">\n",
       "<thead>\n",
       "    <tr style=\"text-align: right;\">\n",
       "      <th></th>\n",
       "      <th>Major</th>\n",
       "      <th>Median</th>\n",
       "    </tr>\n",
       "  </thead><tbody><tr>\n",
       "<td style=\"vertical-align:middle; text-align:left\">\n",
       "<div style=\"float:left; margin-right: 10px;\">\n",
       "<a href=https://mwouts.github.io/itables/><svg class=\"main-svg\" xmlns=\"http://www.w3.org/2000/svg\" xmlns:xlink=\"http://www.w3.org/1999/xlink\"\n",
       "width=\"64\" viewBox=\"0 0 500 400\" style=\"font-family: 'Droid Sans', sans-serif;\">\n",
       "    <g style=\"fill:#d9d7fc\">\n",
       "        <path d=\"M100,400H500V357H100Z\" />\n",
       "        <path d=\"M100,300H400V257H100Z\" />\n",
       "        <path d=\"M0,200H400V157H0Z\" />\n",
       "        <path d=\"M100,100H500V57H100Z\" />\n",
       "        <path d=\"M100,350H500V307H100Z\" />\n",
       "        <path d=\"M100,250H400V207H100Z\" />\n",
       "        <path d=\"M0,150H400V107H0Z\" />\n",
       "        <path d=\"M100,50H500V7H100Z\" />\n",
       "    </g>\n",
       "    <g style=\"fill:#1a1366;stroke:#1a1366;\">\n",
       "   <rect x=\"100\" y=\"7\" width=\"400\" height=\"43\">\n",
       "    <animate\n",
       "      attributeName=\"width\"\n",
       "      values=\"0;400;0\"\n",
       "      dur=\"5s\"\n",
       "      repeatCount=\"indefinite\" />\n",
       "      <animate\n",
       "      attributeName=\"x\"\n",
       "      values=\"100;100;500\"\n",
       "      dur=\"5s\"\n",
       "      repeatCount=\"indefinite\" />\n",
       "  </rect>\n",
       "        <rect x=\"0\" y=\"107\" width=\"400\" height=\"43\">\n",
       "    <animate\n",
       "      attributeName=\"width\"\n",
       "      values=\"0;400;0\"\n",
       "      dur=\"3.5s\"\n",
       "      repeatCount=\"indefinite\" />\n",
       "    <animate\n",
       "      attributeName=\"x\"\n",
       "      values=\"0;0;400\"\n",
       "      dur=\"3.5s\"\n",
       "      repeatCount=\"indefinite\" />\n",
       "  </rect>\n",
       "        <rect x=\"100\" y=\"207\" width=\"300\" height=\"43\">\n",
       "    <animate\n",
       "      attributeName=\"width\"\n",
       "      values=\"0;300;0\"\n",
       "      dur=\"3s\"\n",
       "      repeatCount=\"indefinite\" />\n",
       "    <animate\n",
       "      attributeName=\"x\"\n",
       "      values=\"100;100;400\"\n",
       "      dur=\"3s\"\n",
       "      repeatCount=\"indefinite\" />\n",
       "  </rect>\n",
       "        <rect x=\"100\" y=\"307\" width=\"400\" height=\"43\">\n",
       "    <animate\n",
       "      attributeName=\"width\"\n",
       "      values=\"0;400;0\"\n",
       "      dur=\"4s\"\n",
       "      repeatCount=\"indefinite\" />\n",
       "      <animate\n",
       "      attributeName=\"x\"\n",
       "      values=\"100;100;500\"\n",
       "      dur=\"4s\"\n",
       "      repeatCount=\"indefinite\" />\n",
       "  </rect>\n",
       "        <g style=\"fill:transparent;stroke-width:8; stroke-linejoin:round\" rx=\"5\">\n",
       "            <g transform=\"translate(45 50) rotate(-45)\">\n",
       "                <circle r=\"33\" cx=\"0\" cy=\"0\" />\n",
       "                <rect x=\"-8\" y=\"32\" width=\"16\" height=\"30\" />\n",
       "            </g>\n",
       "\n",
       "            <g transform=\"translate(450 152)\">\n",
       "                <polyline points=\"-15,-20 -35,-20 -35,40 25,40 25,20\" />\n",
       "                <rect x=\"-15\" y=\"-40\" width=\"60\" height=\"60\" />\n",
       "            </g>\n",
       "\n",
       "            <g transform=\"translate(50 352)\">\n",
       "                <polygon points=\"-35,-5 0,-40 35,-5\" />\n",
       "                <polygon points=\"-35,10 0,45 35,10\" />\n",
       "            </g>\n",
       "\n",
       "            <g transform=\"translate(75 250)\">\n",
       "                <polyline points=\"-30,30 -60,0 -30,-30\" />\n",
       "                <polyline points=\"0,30 -30,0 0,-30\" />\n",
       "            </g>\n",
       "\n",
       "            <g transform=\"translate(425 250) rotate(180)\">\n",
       "                <polyline points=\"-30,30 -60,0 -30,-30\" />\n",
       "                <polyline points=\"0,30 -30,0 0,-30\" />\n",
       "            </g>\n",
       "        </g>\n",
       "    </g>\n",
       "</svg>\n",
       "</a>\n",
       "</div>\n",
       "<div>\n",
       "Loading ITables v2.1.4 from the internet...\n",
       "(need <a href=https://mwouts.github.io/itables/troubleshooting.html>help</a>?)</td>\n",
       "</div>\n",
       "</tr></tbody>\n",
       "\n",
       "</table>\n",
       "<link href=\"https://www.unpkg.com/dt_for_itables@2.0.11/dt_bundle.css\" rel=\"stylesheet\">\n",
       "<script type=\"module\">\n",
       "    import {DataTable, jQuery as $} from 'https://www.unpkg.com/dt_for_itables@2.0.11/dt_bundle.js';\n",
       "\n",
       "    document.querySelectorAll(\"#itables_550dbd24_57e3_4ce1_9051_f1a82e5c93e0:not(.dataTable)\").forEach(table => {\n",
       "        // Define the table data\n",
       "        const data = [[90, \"GEOSCIENCES\", 36000], [92, \"ENVIRONMENTAL SCIENCE\", 35600], [97, \"MULTI-DISCIPLINARY OR GENERAL SCIENCE\", 35000], [101, \"PHYSIOLOGY\", 35000], [105, \"COMMUNICATION TECHNOLOGIES\", 35000], [108, \"NEUROSCIENCE\", 35000], [110, \"ATMOSPHERIC SCIENCES AND METEOROLOGY\", 35000], [122, \"MISCELLANEOUS BIOLOGY\", 33500], [123, \"BIOLOGY\", 33400], [132, \"ECOLOGY\", 33000], [168, \"ZOOLOGY\", 26000]];\n",
       "\n",
       "        // Define the dt_args\n",
       "        let dt_args = {\"layout\": {\"topStart\": \"pageLength\", \"topEnd\": \"search\", \"bottomStart\": \"info\", \"bottomEnd\": \"paging\"}, \"order\": []};\n",
       "        dt_args[\"data\"] = data;\n",
       "\n",
       "        \n",
       "        new DataTable(table, dt_args);\n",
       "    });\n",
       "</script>\n"
      ],
      "text/plain": [
       "<IPython.core.display.HTML object>"
      ]
     },
     "metadata": {},
     "output_type": "display_data"
    }
   ],
   "source": [
    "#STEM incomes\n",
    "stem_majors = [\"Biology & Life Science\", \"Computers & Mathematics\", \"Engineering\",\"Physical Sciences\"]\n",
    "\n",
    "stem_df = DF_raw[DF_raw['Major_category'].isin(stem_majors)]\n",
    "stem_df\n",
    "\n",
    "median_all = DF_raw['Median'].median()\n",
    "\n",
    "print(f\"Median all: {median_all}\")\n",
    "show( stem_df[stem_df['Median'] <= median_all][['Major', 'Median']] )"
   ]
  },
  {
   "cell_type": "markdown",
   "id": "845697b5-5d63-4b83-8ab4-07fd851af578",
   "metadata": {},
   "source": [
    "It looks like mostly biology/ecology and derivatives. Neuroscience is surprisingly low considering its reputation for being very difficult."
   ]
  },
  {
   "cell_type": "code",
   "execution_count": 324,
   "id": "4e0a96d0-07ee-4693-8972-829ab3518125",
   "metadata": {},
   "outputs": [
    {
     "name": "stderr",
     "output_type": "stream",
     "text": [
      "/tmp/ipykernel_9924/3388564923.py:3: SettingWithCopyWarning:\n",
      "\n",
      "\n",
      "A value is trying to be set on a copy of a slice from a DataFrame.\n",
      "Try using .loc[row_indexer,col_indexer] = value instead\n",
      "\n",
      "See the caveats in the documentation: https://pandas.pydata.org/pandas-docs/stable/user_guide/indexing.html#returning-a-view-versus-a-copy\n",
      "\n"
     ]
    },
    {
     "data": {
      "application/vnd.plotly.v1+json": {
       "config": {
        "plotlyServerURL": "https://plot.ly"
       },
       "data": [
        {
         "customdata": [
          [
           "PETROLEUM ENGINEERING"
          ],
          [
           "MINING AND MINERAL ENGINEERING"
          ],
          [
           "METALLURGICAL ENGINEERING"
          ],
          [
           "NAVAL ARCHITECTURE AND MARINE ENGINEERING"
          ],
          [
           "CHEMICAL ENGINEERING"
          ],
          [
           "NUCLEAR ENGINEERING"
          ],
          [
           "ASTRONOMY AND ASTROPHYSICS"
          ],
          [
           "MECHANICAL ENGINEERING"
          ],
          [
           "ELECTRICAL ENGINEERING"
          ],
          [
           "COMPUTER ENGINEERING"
          ],
          [
           "AEROSPACE ENGINEERING"
          ],
          [
           "BIOMEDICAL ENGINEERING"
          ],
          [
           "MATERIALS SCIENCE"
          ],
          [
           "ENGINEERING MECHANICS PHYSICS AND SCIENCE"
          ],
          [
           "BIOLOGICAL ENGINEERING"
          ],
          [
           "INDUSTRIAL AND MANUFACTURING ENGINEERING"
          ],
          [
           "GENERAL ENGINEERING"
          ],
          [
           "ARCHITECTURAL ENGINEERING"
          ],
          [
           "COMPUTER SCIENCE"
          ],
          [
           "ELECTRICAL ENGINEERING TECHNOLOGY"
          ],
          [
           "MATERIALS ENGINEERING AND MATERIALS SCIENCE"
          ],
          [
           "CIVIL ENGINEERING"
          ],
          [
           "MISCELLANEOUS ENGINEERING"
          ],
          [
           "ENVIRONMENTAL ENGINEERING"
          ],
          [
           "ENGINEERING TECHNOLOGIES"
          ],
          [
           "GEOLOGICAL AND GEOPHYSICAL ENGINEERING"
          ],
          [
           "INDUSTRIAL PRODUCTION TECHNOLOGIES"
          ],
          [
           "NUCLEAR, INDUSTRIAL RADIOLOGY, AND BIOLOGICAL TECHNOLOGIES"
          ],
          [
           "MATHEMATICS"
          ],
          [
           "COMPUTER AND INFORMATION SYSTEMS"
          ],
          [
           "PHYSICS"
          ],
          [
           "INFORMATION SCIENCES"
          ],
          [
           "STATISTICS AND DECISION SCIENCE"
          ],
          [
           "APPLIED MATHEMATICS"
          ],
          [
           "PHARMACOLOGY"
          ],
          [
           "OCEANOGRAPHY"
          ],
          [
           "ENGINEERING AND INDUSTRIAL MANAGEMENT"
          ],
          [
           "MATHEMATICS AND COMPUTER SCIENCE"
          ],
          [
           "COMPUTER PROGRAMMING AND DATA PROCESSING"
          ],
          [
           "COGNITIVE SCIENCE AND BIOPSYCHOLOGY"
          ],
          [
           "ARCHITECTURE"
          ],
          [
           "MOLECULAR BIOLOGY"
          ],
          [
           "MISCELLANEOUS ENGINEERING TECHNOLOGIES"
          ],
          [
           "MECHANICAL ENGINEERING RELATED TECHNOLOGIES"
          ],
          [
           "GENETICS"
          ],
          [
           "PHYSICAL SCIENCES"
          ],
          [
           "CHEMISTRY"
          ],
          [
           "MICROBIOLOGY"
          ],
          [
           "COMPUTER ADMINISTRATION MANAGEMENT AND SECURITY"
          ],
          [
           "BIOCHEMICAL SCIENCES"
          ],
          [
           "BOTANY"
          ],
          [
           "COMPUTER NETWORKING AND TELECOMMUNICATIONS"
          ],
          [
           "GEOLOGY AND EARTH SCIENCE"
          ],
          [
           "GEOSCIENCES"
          ],
          [
           "ENVIRONMENTAL SCIENCE"
          ],
          [
           "MULTI-DISCIPLINARY OR GENERAL SCIENCE"
          ],
          [
           "PHYSIOLOGY"
          ],
          [
           "COMMUNICATION TECHNOLOGIES"
          ],
          [
           "NEUROSCIENCE"
          ],
          [
           "ATMOSPHERIC SCIENCES AND METEOROLOGY"
          ],
          [
           "MISCELLANEOUS BIOLOGY"
          ],
          [
           "BIOLOGY"
          ],
          [
           "ECOLOGY"
          ],
          [
           "ZOOLOGY"
          ]
         ],
         "hovertemplate": "STEM=True<br>Median=%{x}<br>ShareWomen=%{y}<br>Major=%{customdata[0]}<extra></extra>",
         "legendgroup": "True",
         "marker": {
          "color": "#636efa",
          "symbol": "circle"
         },
         "mode": "markers",
         "name": "True",
         "orientation": "v",
         "showlegend": true,
         "type": "scatter",
         "x": [
          110000,
          75000,
          73000,
          70000,
          65000,
          65000,
          62000,
          60000,
          60000,
          60000,
          60000,
          60000,
          60000,
          58000,
          57100,
          57000,
          56000,
          54000,
          53000,
          52000,
          52000,
          50000,
          50000,
          50000,
          50000,
          50000,
          46000,
          46000,
          45000,
          45000,
          45000,
          45000,
          45000,
          45000,
          45000,
          44700,
          44000,
          42000,
          41300,
          41000,
          40000,
          40000,
          40000,
          40000,
          40000,
          40000,
          39000,
          38000,
          37500,
          37400,
          37000,
          36400,
          36200,
          36000,
          35600,
          35000,
          35000,
          35000,
          35000,
          35000,
          33500,
          33400,
          33000,
          26000
         ],
         "xaxis": "x",
         "y": [
          0.120564344,
          0.101851852,
          0.153037383,
          0.107313196,
          0.341630502,
          0.144966965,
          0.535714286,
          0.119558903,
          0.196450256,
          0.199412643,
          0.139792801,
          0.437846874,
          0.310820285,
          0.183985189,
          0.320784314,
          0.343473218,
          0.252959838,
          0.350442478,
          0.222695002,
          0.292607004,
          0.325091881,
          0.227117943,
          0.189970437,
          0.342228811,
          0.251388889,
          0.322222222,
          0.24919024,
          0.75047259,
          0.448098678,
          0.253583302,
          0.281936407,
          0.244103081,
          0.526475764,
          0.434298441,
          0.707718502,
          0.688999173,
          0.174122505,
          0.178981938,
          0.269193858,
          0.56486557,
          0.451464886,
          0.59420765,
          0.200022717,
          0.077453027,
          0.515543329,
          0.377437326,
          0.505140538,
          0.580948004,
          0.180882718,
          0.515406449,
          0.52896915,
          0.305004597,
          0.470196865,
          0.591001011,
          0.584556133,
          0.564639335,
          0.618223028,
          0.366176878,
          0.63814682,
          0.321296067,
          0.556603774,
          0.601858152,
          0.576360061,
          0.637293376
         ],
         "yaxis": "y"
        },
        {
         "customdata": [
          [
           "ACTUARIAL SCIENCE"
          ],
          [
           "COURT REPORTING"
          ],
          [
           "FOOD SCIENCE"
          ],
          [
           "MANAGEMENT INFORMATION SYSTEMS AND STATISTICS"
          ],
          [
           "CONSTRUCTION SERVICES"
          ],
          [
           "OPERATIONS LOGISTICS AND E-COMMERCE"
          ],
          [
           "PUBLIC POLICY"
          ],
          [
           "MISCELLANEOUS FINE ARTS"
          ],
          [
           "NURSING"
          ],
          [
           "FINANCE"
          ],
          [
           "ECONOMICS"
          ],
          [
           "BUSINESS ECONOMICS"
          ],
          [
           "ACCOUNTING"
          ],
          [
           "MEDICAL TECHNOLOGIES TECHNICIANS"
          ],
          [
           "MEDICAL ASSISTING SERVICES"
          ],
          [
           "SCHOOL STUDENT COUNSELING"
          ],
          [
           "INTERNATIONAL RELATIONS"
          ],
          [
           "GENERAL BUSINESS"
          ],
          [
           "INTERNATIONAL BUSINESS"
          ],
          [
           "PHARMACY PHARMACEUTICAL SCIENCES AND ADMINISTRATION"
          ],
          [
           "MISCELLANEOUS BUSINESS & MEDICAL ADMINISTRATION"
          ],
          [
           "AGRICULTURE PRODUCTION AND MANAGEMENT"
          ],
          [
           "GENERAL AGRICULTURE"
          ],
          [
           "MISCELLANEOUS SOCIAL SCIENCES"
          ],
          [
           "UNITED STATES HISTORY"
          ],
          [
           "INDUSTRIAL AND ORGANIZATIONAL PSYCHOLOGY"
          ],
          [
           "AGRICULTURAL ECONOMICS"
          ],
          [
           "MILITARY TECHNOLOGIES"
          ],
          [
           "ELECTRICAL, MECHANICAL, AND PRECISION TECHNOLOGIES AND PRODUCTION"
          ],
          [
           "BUSINESS MANAGEMENT AND ADMINISTRATION"
          ],
          [
           "MARKETING AND MARKETING RESEARCH"
          ],
          [
           "POLITICAL SCIENCE AND GOVERNMENT"
          ],
          [
           "GEOGRAPHY"
          ],
          [
           "HUMAN RESOURCES AND PERSONNEL MANAGEMENT"
          ],
          [
           "PRE-LAW AND LEGAL STUDIES"
          ],
          [
           "MISCELLANEOUS HEALTH MEDICAL PROFESSIONS"
          ],
          [
           "PUBLIC ADMINISTRATION"
          ],
          [
           "SOCIAL PSYCHOLOGY"
          ],
          [
           "COMMUNICATIONS"
          ],
          [
           "CRIMINAL JUSTICE AND FIRE PROTECTION"
          ],
          [
           "COMMERCIAL ART AND GRAPHIC DESIGN"
          ],
          [
           "JOURNALISM"
          ],
          [
           "ADVERTISING AND PUBLIC RELATIONS"
          ],
          [
           "AREA ETHNIC AND CIVILIZATION STUDIES"
          ],
          [
           "SPECIAL NEEDS EDUCATION"
          ],
          [
           "CRIMINOLOGY"
          ],
          [
           "NUTRITION SCIENCES"
          ],
          [
           "HEALTH AND MEDICAL ADMINISTRATIVE SERVICES"
          ],
          [
           "TRANSPORTATION SCIENCES AND TECHNOLOGIES"
          ],
          [
           "NATURAL RESOURCES MANAGEMENT"
          ],
          [
           "MULTI/INTERDISCIPLINARY STUDIES"
          ],
          [
           "FORESTRY"
          ],
          [
           "SOIL SCIENCE"
          ],
          [
           "GENERAL EDUCATION"
          ],
          [
           "HISTORY"
          ],
          [
           "FRENCH GERMAN LATIN AND OTHER COMMON FOREIGN LANGUAGE STUDIES"
          ],
          [
           "INTERCULTURAL AND INTERNATIONAL STUDIES"
          ],
          [
           "SOCIAL SCIENCE OR HISTORY TEACHER EDUCATION"
          ],
          [
           "COMMUNITY AND PUBLIC HEALTH"
          ],
          [
           "MATHEMATICS TEACHER EDUCATION"
          ],
          [
           "EDUCATIONAL ADMINISTRATION AND SUPERVISION"
          ],
          [
           "HEALTH AND MEDICAL PREPARATORY PROGRAMS"
          ],
          [
           "SOCIOLOGY"
          ],
          [
           "MASS MEDIA"
          ],
          [
           "TREATMENT THERAPY PROFESSIONS"
          ],
          [
           "HOSPITALITY MANAGEMENT"
          ],
          [
           "LANGUAGE AND DRAMA EDUCATION"
          ],
          [
           "LINGUISTICS AND COMPARATIVE LANGUAGE AND LITERATURE"
          ],
          [
           "MISCELLANEOUS EDUCATION"
          ],
          [
           "INTERDISCIPLINARY SOCIAL SCIENCES"
          ],
          [
           "SECONDARY TEACHER EDUCATION"
          ],
          [
           "GENERAL MEDICAL AND HEALTH SERVICES"
          ],
          [
           "PHILOSOPHY AND RELIGIOUS STUDIES"
          ],
          [
           "ART AND MUSIC EDUCATION"
          ],
          [
           "ENGLISH LANGUAGE AND LITERATURE"
          ],
          [
           "ELEMENTARY EDUCATION"
          ],
          [
           "PHYSICAL FITNESS PARKS RECREATION AND LEISURE"
          ],
          [
           "LIBERAL ARTS"
          ],
          [
           "FILM VIDEO AND PHOTOGRAPHIC ARTS"
          ],
          [
           "GENERAL SOCIAL SCIENCES"
          ],
          [
           "PLANT SCIENCE AND AGRONOMY"
          ],
          [
           "SCIENCE AND COMPUTER TEACHER EDUCATION"
          ],
          [
           "PSYCHOLOGY"
          ],
          [
           "MUSIC"
          ],
          [
           "PHYSICAL AND HEALTH EDUCATION TEACHING"
          ],
          [
           "ART HISTORY AND CRITICISM"
          ],
          [
           "FINE ARTS"
          ],
          [
           "FAMILY AND CONSUMER SCIENCES"
          ],
          [
           "SOCIAL WORK"
          ],
          [
           "ANIMAL SCIENCES"
          ],
          [
           "VISUAL AND PERFORMING ARTS"
          ],
          [
           "TEACHER EDUCATION: MULTIPLE LEVELS"
          ],
          [
           "MISCELLANEOUS PSYCHOLOGY"
          ],
          [
           "HUMAN SERVICES AND COMMUNITY ORGANIZATION"
          ],
          [
           "HUMANITIES"
          ],
          [
           "THEOLOGY AND RELIGIOUS VOCATIONS"
          ],
          [
           "STUDIO ARTS"
          ],
          [
           "COSMETOLOGY SERVICES AND CULINARY ARTS"
          ],
          [
           "MISCELLANEOUS AGRICULTURE"
          ],
          [
           "ANTHROPOLOGY AND ARCHEOLOGY"
          ],
          [
           "COMMUNICATION DISORDERS SCIENCES AND SERVICES"
          ],
          [
           "EARLY CHILDHOOD EDUCATION"
          ],
          [
           "OTHER FOREIGN LANGUAGES"
          ],
          [
           "DRAMA AND THEATER ARTS"
          ],
          [
           "COMPOSITION AND RHETORIC"
          ],
          [
           "EDUCATIONAL PSYCHOLOGY"
          ],
          [
           "CLINICAL PSYCHOLOGY"
          ],
          [
           "COUNSELING PSYCHOLOGY"
          ],
          [
           "LIBRARY SCIENCE"
          ]
         ],
         "hovertemplate": "STEM=False<br>Median=%{x}<br>ShareWomen=%{y}<br>Major=%{customdata[0]}<extra></extra>",
         "legendgroup": "False",
         "marker": {
          "color": "#EF553B",
          "symbol": "circle"
         },
         "mode": "markers",
         "name": "False",
         "orientation": "v",
         "showlegend": true,
         "type": "scatter",
         "x": [
          62000,
          54000,
          53000,
          51000,
          50000,
          50000,
          50000,
          50000,
          48000,
          47000,
          47000,
          46000,
          45000,
          45000,
          42000,
          41000,
          40100,
          40000,
          40000,
          40000,
          40000,
          40000,
          40000,
          40000,
          40000,
          40000,
          40000,
          40000,
          38400,
          38000,
          38000,
          38000,
          38000,
          36000,
          36000,
          36000,
          36000,
          36000,
          35000,
          35000,
          35000,
          35000,
          35000,
          35000,
          35000,
          35000,
          35000,
          35000,
          35000,
          35000,
          35000,
          35000,
          35000,
          34000,
          34000,
          34000,
          34000,
          34000,
          34000,
          34000,
          34000,
          33500,
          33000,
          33000,
          33000,
          33000,
          33000,
          33000,
          33000,
          33000,
          32500,
          32400,
          32200,
          32100,
          32000,
          32000,
          32000,
          32000,
          32000,
          32000,
          32000,
          32000,
          31500,
          31000,
          31000,
          31000,
          30500,
          30000,
          30000,
          30000,
          30000,
          30000,
          30000,
          30000,
          30000,
          29000,
          29000,
          29000,
          29000,
          28000,
          28000,
          28000,
          27500,
          27000,
          27000,
          25000,
          25000,
          23400,
          22000
         ],
         "xaxis": "x",
         "y": [
          0.441355573,
          0.236062718,
          null,
          0.278790146,
          0.090712509,
          0.32483805,
          0.558548009,
          0.410179641,
          0.896018988,
          0.340824957,
          0.355469059,
          0.430536761,
          0.524152583,
          0.75392736,
          0.927807246,
          0.854523227,
          0.632986838,
          0.436301633,
          0.589711902,
          0.630716318,
          0.42692372,
          0.321769663,
          0.4179248,
          0.543405422,
          0.429684963,
          0.643331121,
          0.282902829,
          0,
          0.232443532,
          0.473189524,
          0.615727227,
          0.485929877,
          0.382900433,
          0.747560926,
          0.672161443,
          0.881293889,
          0.476461183,
          0.702020202,
          0.669998505,
          0.47501047,
          0.690365288,
          0.673143392,
          0.758060269,
          0.719858952,
          0.906677337,
          0.495397153,
          0.864456079,
          0.764426528,
          0.124950495,
          0.374355623,
          0.770901106,
          0.125034655,
          0.305109489,
          0.812876606,
          0.448732309,
          0.733967583,
          0.652129817,
          0.507376968,
          0.792095262,
          0.728032591,
          0.651741294,
          0.566640502,
          0.718364766,
          0.532333788,
          0.721865913,
          0.651659908,
          0.877227528,
          0.733991928,
          0.64,
          0.76432029,
          0.601751825,
          0.774576624,
          0.416809574,
          0.6860244,
          0.70089843,
          0.923745479,
          0.502846315,
          0.686992952,
          0.423208896,
          0.606888545,
          0.339670982,
          0.683942619,
          0.779933204,
          0.506720763,
          0.444582285,
          0.845934379,
          0.667033853,
          0.91093257,
          0.904074544,
          0.752143884,
          0.745661538,
          0.810704147,
          0.798919817,
          0.90558993,
          0.697384245,
          0.383719006,
          0.719974083,
          0.584776403,
          0.728494624,
          0.707136237,
          0.967998119,
          0.968953683,
          0.690110675,
          0.666119448,
          0.629504564,
          0.817098809,
          0.799859056,
          0.798746217,
          0.877959927
         ],
         "yaxis": "y"
        }
       ],
       "layout": {
        "autosize": false,
        "height": 500,
        "legend": {
         "title": {
          "text": "STEM"
         },
         "tracegroupgap": 0
        },
        "margin": {
         "t": 60
        },
        "template": {
         "data": {
          "bar": [
           {
            "error_x": {
             "color": "#2a3f5f"
            },
            "error_y": {
             "color": "#2a3f5f"
            },
            "marker": {
             "line": {
              "color": "#E5ECF6",
              "width": 0.5
             },
             "pattern": {
              "fillmode": "overlay",
              "size": 10,
              "solidity": 0.2
             }
            },
            "type": "bar"
           }
          ],
          "barpolar": [
           {
            "marker": {
             "line": {
              "color": "#E5ECF6",
              "width": 0.5
             },
             "pattern": {
              "fillmode": "overlay",
              "size": 10,
              "solidity": 0.2
             }
            },
            "type": "barpolar"
           }
          ],
          "carpet": [
           {
            "aaxis": {
             "endlinecolor": "#2a3f5f",
             "gridcolor": "white",
             "linecolor": "white",
             "minorgridcolor": "white",
             "startlinecolor": "#2a3f5f"
            },
            "baxis": {
             "endlinecolor": "#2a3f5f",
             "gridcolor": "white",
             "linecolor": "white",
             "minorgridcolor": "white",
             "startlinecolor": "#2a3f5f"
            },
            "type": "carpet"
           }
          ],
          "choropleth": [
           {
            "colorbar": {
             "outlinewidth": 0,
             "ticks": ""
            },
            "type": "choropleth"
           }
          ],
          "contour": [
           {
            "colorbar": {
             "outlinewidth": 0,
             "ticks": ""
            },
            "colorscale": [
             [
              0,
              "#0d0887"
             ],
             [
              0.1111111111111111,
              "#46039f"
             ],
             [
              0.2222222222222222,
              "#7201a8"
             ],
             [
              0.3333333333333333,
              "#9c179e"
             ],
             [
              0.4444444444444444,
              "#bd3786"
             ],
             [
              0.5555555555555556,
              "#d8576b"
             ],
             [
              0.6666666666666666,
              "#ed7953"
             ],
             [
              0.7777777777777778,
              "#fb9f3a"
             ],
             [
              0.8888888888888888,
              "#fdca26"
             ],
             [
              1,
              "#f0f921"
             ]
            ],
            "type": "contour"
           }
          ],
          "contourcarpet": [
           {
            "colorbar": {
             "outlinewidth": 0,
             "ticks": ""
            },
            "type": "contourcarpet"
           }
          ],
          "heatmap": [
           {
            "colorbar": {
             "outlinewidth": 0,
             "ticks": ""
            },
            "colorscale": [
             [
              0,
              "#0d0887"
             ],
             [
              0.1111111111111111,
              "#46039f"
             ],
             [
              0.2222222222222222,
              "#7201a8"
             ],
             [
              0.3333333333333333,
              "#9c179e"
             ],
             [
              0.4444444444444444,
              "#bd3786"
             ],
             [
              0.5555555555555556,
              "#d8576b"
             ],
             [
              0.6666666666666666,
              "#ed7953"
             ],
             [
              0.7777777777777778,
              "#fb9f3a"
             ],
             [
              0.8888888888888888,
              "#fdca26"
             ],
             [
              1,
              "#f0f921"
             ]
            ],
            "type": "heatmap"
           }
          ],
          "heatmapgl": [
           {
            "colorbar": {
             "outlinewidth": 0,
             "ticks": ""
            },
            "colorscale": [
             [
              0,
              "#0d0887"
             ],
             [
              0.1111111111111111,
              "#46039f"
             ],
             [
              0.2222222222222222,
              "#7201a8"
             ],
             [
              0.3333333333333333,
              "#9c179e"
             ],
             [
              0.4444444444444444,
              "#bd3786"
             ],
             [
              0.5555555555555556,
              "#d8576b"
             ],
             [
              0.6666666666666666,
              "#ed7953"
             ],
             [
              0.7777777777777778,
              "#fb9f3a"
             ],
             [
              0.8888888888888888,
              "#fdca26"
             ],
             [
              1,
              "#f0f921"
             ]
            ],
            "type": "heatmapgl"
           }
          ],
          "histogram": [
           {
            "marker": {
             "pattern": {
              "fillmode": "overlay",
              "size": 10,
              "solidity": 0.2
             }
            },
            "type": "histogram"
           }
          ],
          "histogram2d": [
           {
            "colorbar": {
             "outlinewidth": 0,
             "ticks": ""
            },
            "colorscale": [
             [
              0,
              "#0d0887"
             ],
             [
              0.1111111111111111,
              "#46039f"
             ],
             [
              0.2222222222222222,
              "#7201a8"
             ],
             [
              0.3333333333333333,
              "#9c179e"
             ],
             [
              0.4444444444444444,
              "#bd3786"
             ],
             [
              0.5555555555555556,
              "#d8576b"
             ],
             [
              0.6666666666666666,
              "#ed7953"
             ],
             [
              0.7777777777777778,
              "#fb9f3a"
             ],
             [
              0.8888888888888888,
              "#fdca26"
             ],
             [
              1,
              "#f0f921"
             ]
            ],
            "type": "histogram2d"
           }
          ],
          "histogram2dcontour": [
           {
            "colorbar": {
             "outlinewidth": 0,
             "ticks": ""
            },
            "colorscale": [
             [
              0,
              "#0d0887"
             ],
             [
              0.1111111111111111,
              "#46039f"
             ],
             [
              0.2222222222222222,
              "#7201a8"
             ],
             [
              0.3333333333333333,
              "#9c179e"
             ],
             [
              0.4444444444444444,
              "#bd3786"
             ],
             [
              0.5555555555555556,
              "#d8576b"
             ],
             [
              0.6666666666666666,
              "#ed7953"
             ],
             [
              0.7777777777777778,
              "#fb9f3a"
             ],
             [
              0.8888888888888888,
              "#fdca26"
             ],
             [
              1,
              "#f0f921"
             ]
            ],
            "type": "histogram2dcontour"
           }
          ],
          "mesh3d": [
           {
            "colorbar": {
             "outlinewidth": 0,
             "ticks": ""
            },
            "type": "mesh3d"
           }
          ],
          "parcoords": [
           {
            "line": {
             "colorbar": {
              "outlinewidth": 0,
              "ticks": ""
             }
            },
            "type": "parcoords"
           }
          ],
          "pie": [
           {
            "automargin": true,
            "type": "pie"
           }
          ],
          "scatter": [
           {
            "fillpattern": {
             "fillmode": "overlay",
             "size": 10,
             "solidity": 0.2
            },
            "type": "scatter"
           }
          ],
          "scatter3d": [
           {
            "line": {
             "colorbar": {
              "outlinewidth": 0,
              "ticks": ""
             }
            },
            "marker": {
             "colorbar": {
              "outlinewidth": 0,
              "ticks": ""
             }
            },
            "type": "scatter3d"
           }
          ],
          "scattercarpet": [
           {
            "marker": {
             "colorbar": {
              "outlinewidth": 0,
              "ticks": ""
             }
            },
            "type": "scattercarpet"
           }
          ],
          "scattergeo": [
           {
            "marker": {
             "colorbar": {
              "outlinewidth": 0,
              "ticks": ""
             }
            },
            "type": "scattergeo"
           }
          ],
          "scattergl": [
           {
            "marker": {
             "colorbar": {
              "outlinewidth": 0,
              "ticks": ""
             }
            },
            "type": "scattergl"
           }
          ],
          "scattermapbox": [
           {
            "marker": {
             "colorbar": {
              "outlinewidth": 0,
              "ticks": ""
             }
            },
            "type": "scattermapbox"
           }
          ],
          "scatterpolar": [
           {
            "marker": {
             "colorbar": {
              "outlinewidth": 0,
              "ticks": ""
             }
            },
            "type": "scatterpolar"
           }
          ],
          "scatterpolargl": [
           {
            "marker": {
             "colorbar": {
              "outlinewidth": 0,
              "ticks": ""
             }
            },
            "type": "scatterpolargl"
           }
          ],
          "scatterternary": [
           {
            "marker": {
             "colorbar": {
              "outlinewidth": 0,
              "ticks": ""
             }
            },
            "type": "scatterternary"
           }
          ],
          "surface": [
           {
            "colorbar": {
             "outlinewidth": 0,
             "ticks": ""
            },
            "colorscale": [
             [
              0,
              "#0d0887"
             ],
             [
              0.1111111111111111,
              "#46039f"
             ],
             [
              0.2222222222222222,
              "#7201a8"
             ],
             [
              0.3333333333333333,
              "#9c179e"
             ],
             [
              0.4444444444444444,
              "#bd3786"
             ],
             [
              0.5555555555555556,
              "#d8576b"
             ],
             [
              0.6666666666666666,
              "#ed7953"
             ],
             [
              0.7777777777777778,
              "#fb9f3a"
             ],
             [
              0.8888888888888888,
              "#fdca26"
             ],
             [
              1,
              "#f0f921"
             ]
            ],
            "type": "surface"
           }
          ],
          "table": [
           {
            "cells": {
             "fill": {
              "color": "#EBF0F8"
             },
             "line": {
              "color": "white"
             }
            },
            "header": {
             "fill": {
              "color": "#C8D4E3"
             },
             "line": {
              "color": "white"
             }
            },
            "type": "table"
           }
          ]
         },
         "layout": {
          "annotationdefaults": {
           "arrowcolor": "#2a3f5f",
           "arrowhead": 0,
           "arrowwidth": 1
          },
          "autotypenumbers": "strict",
          "coloraxis": {
           "colorbar": {
            "outlinewidth": 0,
            "ticks": ""
           }
          },
          "colorscale": {
           "diverging": [
            [
             0,
             "#8e0152"
            ],
            [
             0.1,
             "#c51b7d"
            ],
            [
             0.2,
             "#de77ae"
            ],
            [
             0.3,
             "#f1b6da"
            ],
            [
             0.4,
             "#fde0ef"
            ],
            [
             0.5,
             "#f7f7f7"
            ],
            [
             0.6,
             "#e6f5d0"
            ],
            [
             0.7,
             "#b8e186"
            ],
            [
             0.8,
             "#7fbc41"
            ],
            [
             0.9,
             "#4d9221"
            ],
            [
             1,
             "#276419"
            ]
           ],
           "sequential": [
            [
             0,
             "#0d0887"
            ],
            [
             0.1111111111111111,
             "#46039f"
            ],
            [
             0.2222222222222222,
             "#7201a8"
            ],
            [
             0.3333333333333333,
             "#9c179e"
            ],
            [
             0.4444444444444444,
             "#bd3786"
            ],
            [
             0.5555555555555556,
             "#d8576b"
            ],
            [
             0.6666666666666666,
             "#ed7953"
            ],
            [
             0.7777777777777778,
             "#fb9f3a"
            ],
            [
             0.8888888888888888,
             "#fdca26"
            ],
            [
             1,
             "#f0f921"
            ]
           ],
           "sequentialminus": [
            [
             0,
             "#0d0887"
            ],
            [
             0.1111111111111111,
             "#46039f"
            ],
            [
             0.2222222222222222,
             "#7201a8"
            ],
            [
             0.3333333333333333,
             "#9c179e"
            ],
            [
             0.4444444444444444,
             "#bd3786"
            ],
            [
             0.5555555555555556,
             "#d8576b"
            ],
            [
             0.6666666666666666,
             "#ed7953"
            ],
            [
             0.7777777777777778,
             "#fb9f3a"
            ],
            [
             0.8888888888888888,
             "#fdca26"
            ],
            [
             1,
             "#f0f921"
            ]
           ]
          },
          "colorway": [
           "#636efa",
           "#EF553B",
           "#00cc96",
           "#ab63fa",
           "#FFA15A",
           "#19d3f3",
           "#FF6692",
           "#B6E880",
           "#FF97FF",
           "#FECB52"
          ],
          "font": {
           "color": "#2a3f5f"
          },
          "geo": {
           "bgcolor": "white",
           "lakecolor": "white",
           "landcolor": "#E5ECF6",
           "showlakes": true,
           "showland": true,
           "subunitcolor": "white"
          },
          "hoverlabel": {
           "align": "left"
          },
          "hovermode": "closest",
          "mapbox": {
           "style": "light"
          },
          "paper_bgcolor": "white",
          "plot_bgcolor": "#E5ECF6",
          "polar": {
           "angularaxis": {
            "gridcolor": "white",
            "linecolor": "white",
            "ticks": ""
           },
           "bgcolor": "#E5ECF6",
           "radialaxis": {
            "gridcolor": "white",
            "linecolor": "white",
            "ticks": ""
           }
          },
          "scene": {
           "xaxis": {
            "backgroundcolor": "#E5ECF6",
            "gridcolor": "white",
            "gridwidth": 2,
            "linecolor": "white",
            "showbackground": true,
            "ticks": "",
            "zerolinecolor": "white"
           },
           "yaxis": {
            "backgroundcolor": "#E5ECF6",
            "gridcolor": "white",
            "gridwidth": 2,
            "linecolor": "white",
            "showbackground": true,
            "ticks": "",
            "zerolinecolor": "white"
           },
           "zaxis": {
            "backgroundcolor": "#E5ECF6",
            "gridcolor": "white",
            "gridwidth": 2,
            "linecolor": "white",
            "showbackground": true,
            "ticks": "",
            "zerolinecolor": "white"
           }
          },
          "shapedefaults": {
           "line": {
            "color": "#2a3f5f"
           }
          },
          "ternary": {
           "aaxis": {
            "gridcolor": "white",
            "linecolor": "white",
            "ticks": ""
           },
           "baxis": {
            "gridcolor": "white",
            "linecolor": "white",
            "ticks": ""
           },
           "bgcolor": "#E5ECF6",
           "caxis": {
            "gridcolor": "white",
            "linecolor": "white",
            "ticks": ""
           }
          },
          "title": {
           "x": 0.05
          },
          "xaxis": {
           "automargin": true,
           "gridcolor": "white",
           "linecolor": "white",
           "ticks": "",
           "title": {
            "standoff": 15
           },
           "zerolinecolor": "white",
           "zerolinewidth": 2
          },
          "yaxis": {
           "automargin": true,
           "gridcolor": "white",
           "linecolor": "white",
           "ticks": "",
           "title": {
            "standoff": 15
           },
           "zerolinecolor": "white",
           "zerolinewidth": 2
          }
         }
        },
        "title": {
         "text": "Majors by Median Income to Share of Women",
         "x": 0.5
        },
        "width": 800,
        "xaxis": {
         "anchor": "y",
         "autorange": true,
         "domain": [
          0,
          1
         ],
         "range": [
          16445.04995458674,
          115554.95004541326
         ],
         "title": {
          "text": "Median Income"
         },
         "type": "linear"
        },
        "yaxis": {
         "anchor": "x",
         "autorange": true,
         "domain": [
          0,
          1
         ],
         "range": [
          -0.06658686447156398,
          1.035540547471564
         ],
         "title": {
          "text": "ShareWomen"
         },
         "type": "linear"
        }
       }
      },
      "image/png": "[encoded data removed]",
      "text/html": [
       "<div>                            <div id=\"3f25cd26-4c7e-45bb-89fd-5ae9c3595983\" class=\"plotly-graph-div\" style=\"height:500px; width:800px;\"></div>            <script type=\"text/javascript\">                require([\"plotly\"], function(Plotly) {                    window.PLOTLYENV=window.PLOTLYENV || {};                                    if (document.getElementById(\"3f25cd26-4c7e-45bb-89fd-5ae9c3595983\")) {                    Plotly.newPlot(                        \"3f25cd26-4c7e-45bb-89fd-5ae9c3595983\",                        [{\"customdata\":[[\"PETROLEUM ENGINEERING\"],[\"MINING AND MINERAL ENGINEERING\"],[\"METALLURGICAL ENGINEERING\"],[\"NAVAL ARCHITECTURE AND MARINE ENGINEERING\"],[\"CHEMICAL ENGINEERING\"],[\"NUCLEAR ENGINEERING\"],[\"ASTRONOMY AND ASTROPHYSICS\"],[\"MECHANICAL ENGINEERING\"],[\"ELECTRICAL ENGINEERING\"],[\"COMPUTER ENGINEERING\"],[\"AEROSPACE ENGINEERING\"],[\"BIOMEDICAL ENGINEERING\"],[\"MATERIALS SCIENCE\"],[\"ENGINEERING MECHANICS PHYSICS AND SCIENCE\"],[\"BIOLOGICAL ENGINEERING\"],[\"INDUSTRIAL AND MANUFACTURING ENGINEERING\"],[\"GENERAL ENGINEERING\"],[\"ARCHITECTURAL ENGINEERING\"],[\"COMPUTER SCIENCE\"],[\"ELECTRICAL ENGINEERING TECHNOLOGY\"],[\"MATERIALS ENGINEERING AND MATERIALS SCIENCE\"],[\"CIVIL ENGINEERING\"],[\"MISCELLANEOUS ENGINEERING\"],[\"ENVIRONMENTAL ENGINEERING\"],[\"ENGINEERING TECHNOLOGIES\"],[\"GEOLOGICAL AND GEOPHYSICAL ENGINEERING\"],[\"INDUSTRIAL PRODUCTION TECHNOLOGIES\"],[\"NUCLEAR, INDUSTRIAL RADIOLOGY, AND BIOLOGICAL TECHNOLOGIES\"],[\"MATHEMATICS\"],[\"COMPUTER AND INFORMATION SYSTEMS\"],[\"PHYSICS\"],[\"INFORMATION SCIENCES\"],[\"STATISTICS AND DECISION SCIENCE\"],[\"APPLIED MATHEMATICS\"],[\"PHARMACOLOGY\"],[\"OCEANOGRAPHY\"],[\"ENGINEERING AND INDUSTRIAL MANAGEMENT\"],[\"MATHEMATICS AND COMPUTER SCIENCE\"],[\"COMPUTER PROGRAMMING AND DATA PROCESSING\"],[\"COGNITIVE SCIENCE AND BIOPSYCHOLOGY\"],[\"ARCHITECTURE\"],[\"MOLECULAR BIOLOGY\"],[\"MISCELLANEOUS ENGINEERING TECHNOLOGIES\"],[\"MECHANICAL ENGINEERING RELATED TECHNOLOGIES\"],[\"GENETICS\"],[\"PHYSICAL SCIENCES\"],[\"CHEMISTRY\"],[\"MICROBIOLOGY\"],[\"COMPUTER ADMINISTRATION MANAGEMENT AND SECURITY\"],[\"BIOCHEMICAL SCIENCES\"],[\"BOTANY\"],[\"COMPUTER NETWORKING AND TELECOMMUNICATIONS\"],[\"GEOLOGY AND EARTH SCIENCE\"],[\"GEOSCIENCES\"],[\"ENVIRONMENTAL SCIENCE\"],[\"MULTI-DISCIPLINARY OR GENERAL SCIENCE\"],[\"PHYSIOLOGY\"],[\"COMMUNICATION TECHNOLOGIES\"],[\"NEUROSCIENCE\"],[\"ATMOSPHERIC SCIENCES AND METEOROLOGY\"],[\"MISCELLANEOUS BIOLOGY\"],[\"BIOLOGY\"],[\"ECOLOGY\"],[\"ZOOLOGY\"]],\"hovertemplate\":\"STEM=True\\u003cbr\\u003eMedian=%{x}\\u003cbr\\u003eShareWomen=%{y}\\u003cbr\\u003eMajor=%{customdata[0]}\\u003cextra\\u003e\\u003c\\u002fextra\\u003e\",\"legendgroup\":\"True\",\"marker\":{\"color\":\"#636efa\",\"symbol\":\"circle\"},\"mode\":\"markers\",\"name\":\"True\",\"orientation\":\"v\",\"showlegend\":true,\"x\":[110000,75000,73000,70000,65000,65000,62000,60000,60000,60000,60000,60000,60000,58000,57100,57000,56000,54000,53000,52000,52000,50000,50000,50000,50000,50000,46000,46000,45000,45000,45000,45000,45000,45000,45000,44700,44000,42000,41300,41000,40000,40000,40000,40000,40000,40000,39000,38000,37500,37400,37000,36400,36200,36000,35600,35000,35000,35000,35000,35000,33500,33400,33000,26000],\"xaxis\":\"x\",\"y\":[0.120564344,0.101851852,0.153037383,0.107313196,0.341630502,0.144966965,0.535714286,0.119558903,0.196450256,0.199412643,0.139792801,0.437846874,0.310820285,0.183985189,0.320784314,0.343473218,0.252959838,0.350442478,0.222695002,0.292607004,0.325091881,0.227117943,0.189970437,0.342228811,0.251388889,0.322222222,0.24919024,0.75047259,0.448098678,0.253583302,0.281936407,0.244103081,0.526475764,0.434298441,0.707718502,0.688999173,0.174122505,0.178981938,0.269193858,0.56486557,0.451464886,0.59420765,0.200022717,0.077453027,0.515543329,0.377437326,0.505140538,0.580948004,0.180882718,0.515406449,0.52896915,0.305004597,0.470196865,0.591001011,0.584556133,0.564639335,0.618223028,0.366176878,0.63814682,0.321296067,0.556603774,0.601858152,0.576360061,0.637293376],\"yaxis\":\"y\",\"type\":\"scatter\"},{\"customdata\":[[\"ACTUARIAL SCIENCE\"],[\"COURT REPORTING\"],[\"FOOD SCIENCE\"],[\"MANAGEMENT INFORMATION SYSTEMS AND STATISTICS\"],[\"CONSTRUCTION SERVICES\"],[\"OPERATIONS LOGISTICS AND E-COMMERCE\"],[\"PUBLIC POLICY\"],[\"MISCELLANEOUS FINE ARTS\"],[\"NURSING\"],[\"FINANCE\"],[\"ECONOMICS\"],[\"BUSINESS ECONOMICS\"],[\"ACCOUNTING\"],[\"MEDICAL TECHNOLOGIES TECHNICIANS\"],[\"MEDICAL ASSISTING SERVICES\"],[\"SCHOOL STUDENT COUNSELING\"],[\"INTERNATIONAL RELATIONS\"],[\"GENERAL BUSINESS\"],[\"INTERNATIONAL BUSINESS\"],[\"PHARMACY PHARMACEUTICAL SCIENCES AND ADMINISTRATION\"],[\"MISCELLANEOUS BUSINESS & MEDICAL ADMINISTRATION\"],[\"AGRICULTURE PRODUCTION AND MANAGEMENT\"],[\"GENERAL AGRICULTURE\"],[\"MISCELLANEOUS SOCIAL SCIENCES\"],[\"UNITED STATES HISTORY\"],[\"INDUSTRIAL AND ORGANIZATIONAL PSYCHOLOGY\"],[\"AGRICULTURAL ECONOMICS\"],[\"MILITARY TECHNOLOGIES\"],[\"ELECTRICAL, MECHANICAL, AND PRECISION TECHNOLOGIES AND PRODUCTION\"],[\"BUSINESS MANAGEMENT AND ADMINISTRATION\"],[\"MARKETING AND MARKETING RESEARCH\"],[\"POLITICAL SCIENCE AND GOVERNMENT\"],[\"GEOGRAPHY\"],[\"HUMAN RESOURCES AND PERSONNEL MANAGEMENT\"],[\"PRE-LAW AND LEGAL STUDIES\"],[\"MISCELLANEOUS HEALTH MEDICAL PROFESSIONS\"],[\"PUBLIC ADMINISTRATION\"],[\"SOCIAL PSYCHOLOGY\"],[\"COMMUNICATIONS\"],[\"CRIMINAL JUSTICE AND FIRE PROTECTION\"],[\"COMMERCIAL ART AND GRAPHIC DESIGN\"],[\"JOURNALISM\"],[\"ADVERTISING AND PUBLIC RELATIONS\"],[\"AREA ETHNIC AND CIVILIZATION STUDIES\"],[\"SPECIAL NEEDS EDUCATION\"],[\"CRIMINOLOGY\"],[\"NUTRITION SCIENCES\"],[\"HEALTH AND MEDICAL ADMINISTRATIVE SERVICES\"],[\"TRANSPORTATION SCIENCES AND TECHNOLOGIES\"],[\"NATURAL RESOURCES MANAGEMENT\"],[\"MULTI\\u002fINTERDISCIPLINARY STUDIES\"],[\"FORESTRY\"],[\"SOIL SCIENCE\"],[\"GENERAL EDUCATION\"],[\"HISTORY\"],[\"FRENCH GERMAN LATIN AND OTHER COMMON FOREIGN LANGUAGE STUDIES\"],[\"INTERCULTURAL AND INTERNATIONAL STUDIES\"],[\"SOCIAL SCIENCE OR HISTORY TEACHER EDUCATION\"],[\"COMMUNITY AND PUBLIC HEALTH\"],[\"MATHEMATICS TEACHER EDUCATION\"],[\"EDUCATIONAL ADMINISTRATION AND SUPERVISION\"],[\"HEALTH AND MEDICAL PREPARATORY PROGRAMS\"],[\"SOCIOLOGY\"],[\"MASS MEDIA\"],[\"TREATMENT THERAPY PROFESSIONS\"],[\"HOSPITALITY MANAGEMENT\"],[\"LANGUAGE AND DRAMA EDUCATION\"],[\"LINGUISTICS AND COMPARATIVE LANGUAGE AND LITERATURE\"],[\"MISCELLANEOUS EDUCATION\"],[\"INTERDISCIPLINARY SOCIAL SCIENCES\"],[\"SECONDARY TEACHER EDUCATION\"],[\"GENERAL MEDICAL AND HEALTH SERVICES\"],[\"PHILOSOPHY AND RELIGIOUS STUDIES\"],[\"ART AND MUSIC EDUCATION\"],[\"ENGLISH LANGUAGE AND LITERATURE\"],[\"ELEMENTARY EDUCATION\"],[\"PHYSICAL FITNESS PARKS RECREATION AND LEISURE\"],[\"LIBERAL ARTS\"],[\"FILM VIDEO AND PHOTOGRAPHIC ARTS\"],[\"GENERAL SOCIAL SCIENCES\"],[\"PLANT SCIENCE AND AGRONOMY\"],[\"SCIENCE AND COMPUTER TEACHER EDUCATION\"],[\"PSYCHOLOGY\"],[\"MUSIC\"],[\"PHYSICAL AND HEALTH EDUCATION TEACHING\"],[\"ART HISTORY AND CRITICISM\"],[\"FINE ARTS\"],[\"FAMILY AND CONSUMER SCIENCES\"],[\"SOCIAL WORK\"],[\"ANIMAL SCIENCES\"],[\"VISUAL AND PERFORMING ARTS\"],[\"TEACHER EDUCATION: MULTIPLE LEVELS\"],[\"MISCELLANEOUS PSYCHOLOGY\"],[\"HUMAN SERVICES AND COMMUNITY ORGANIZATION\"],[\"HUMANITIES\"],[\"THEOLOGY AND RELIGIOUS VOCATIONS\"],[\"STUDIO ARTS\"],[\"COSMETOLOGY SERVICES AND CULINARY ARTS\"],[\"MISCELLANEOUS AGRICULTURE\"],[\"ANTHROPOLOGY AND ARCHEOLOGY\"],[\"COMMUNICATION DISORDERS SCIENCES AND SERVICES\"],[\"EARLY CHILDHOOD EDUCATION\"],[\"OTHER FOREIGN LANGUAGES\"],[\"DRAMA AND THEATER ARTS\"],[\"COMPOSITION AND RHETORIC\"],[\"EDUCATIONAL PSYCHOLOGY\"],[\"CLINICAL PSYCHOLOGY\"],[\"COUNSELING PSYCHOLOGY\"],[\"LIBRARY SCIENCE\"]],\"hovertemplate\":\"STEM=False\\u003cbr\\u003eMedian=%{x}\\u003cbr\\u003eShareWomen=%{y}\\u003cbr\\u003eMajor=%{customdata[0]}\\u003cextra\\u003e\\u003c\\u002fextra\\u003e\",\"legendgroup\":\"False\",\"marker\":{\"color\":\"#EF553B\",\"symbol\":\"circle\"},\"mode\":\"markers\",\"name\":\"False\",\"orientation\":\"v\",\"showlegend\":true,\"x\":[62000,54000,53000,51000,50000,50000,50000,50000,48000,47000,47000,46000,45000,45000,42000,41000,40100,40000,40000,40000,40000,40000,40000,40000,40000,40000,40000,40000,38400,38000,38000,38000,38000,36000,36000,36000,36000,36000,35000,35000,35000,35000,35000,35000,35000,35000,35000,35000,35000,35000,35000,35000,35000,34000,34000,34000,34000,34000,34000,34000,34000,33500,33000,33000,33000,33000,33000,33000,33000,33000,32500,32400,32200,32100,32000,32000,32000,32000,32000,32000,32000,32000,31500,31000,31000,31000,30500,30000,30000,30000,30000,30000,30000,30000,30000,29000,29000,29000,29000,28000,28000,28000,27500,27000,27000,25000,25000,23400,22000],\"xaxis\":\"x\",\"y\":[0.441355573,0.236062718,null,0.278790146,0.090712509,0.32483805,0.558548009,0.410179641,0.896018988,0.340824957,0.355469059,0.430536761,0.524152583,0.75392736,0.927807246,0.854523227,0.632986838,0.436301633,0.589711902,0.630716318,0.42692372,0.321769663,0.4179248,0.543405422,0.429684963,0.643331121,0.282902829,0.0,0.232443532,0.473189524,0.615727227,0.485929877,0.382900433,0.747560926,0.672161443,0.881293889,0.476461183,0.702020202,0.669998505,0.47501047,0.690365288,0.673143392,0.758060269,0.719858952,0.906677337,0.495397153,0.864456079,0.764426528,0.124950495,0.374355623,0.770901106,0.125034655,0.305109489,0.812876606,0.448732309,0.733967583,0.652129817,0.507376968,0.792095262,0.728032591,0.651741294,0.566640502,0.718364766,0.532333788,0.721865913,0.651659908,0.877227528,0.733991928,0.64,0.76432029,0.601751825,0.774576624,0.416809574,0.6860244,0.70089843,0.923745479,0.502846315,0.686992952,0.423208896,0.606888545,0.339670982,0.683942619,0.779933204,0.506720763,0.444582285,0.845934379,0.667033853,0.91093257,0.904074544,0.752143884,0.745661538,0.810704147,0.798919817,0.90558993,0.697384245,0.383719006,0.719974083,0.584776403,0.728494624,0.707136237,0.967998119,0.968953683,0.690110675,0.666119448,0.629504564,0.817098809,0.799859056,0.798746217,0.877959927],\"yaxis\":\"y\",\"type\":\"scatter\"}],                        {\"template\":{\"data\":{\"histogram2dcontour\":[{\"type\":\"histogram2dcontour\",\"colorbar\":{\"outlinewidth\":0,\"ticks\":\"\"},\"colorscale\":[[0.0,\"#0d0887\"],[0.1111111111111111,\"#46039f\"],[0.2222222222222222,\"#7201a8\"],[0.3333333333333333,\"#9c179e\"],[0.4444444444444444,\"#bd3786\"],[0.5555555555555556,\"#d8576b\"],[0.6666666666666666,\"#ed7953\"],[0.7777777777777778,\"#fb9f3a\"],[0.8888888888888888,\"#fdca26\"],[1.0,\"#f0f921\"]]}],\"choropleth\":[{\"type\":\"choropleth\",\"colorbar\":{\"outlinewidth\":0,\"ticks\":\"\"}}],\"histogram2d\":[{\"type\":\"histogram2d\",\"colorbar\":{\"outlinewidth\":0,\"ticks\":\"\"},\"colorscale\":[[0.0,\"#0d0887\"],[0.1111111111111111,\"#46039f\"],[0.2222222222222222,\"#7201a8\"],[0.3333333333333333,\"#9c179e\"],[0.4444444444444444,\"#bd3786\"],[0.5555555555555556,\"#d8576b\"],[0.6666666666666666,\"#ed7953\"],[0.7777777777777778,\"#fb9f3a\"],[0.8888888888888888,\"#fdca26\"],[1.0,\"#f0f921\"]]}],\"heatmap\":[{\"type\":\"heatmap\",\"colorbar\":{\"outlinewidth\":0,\"ticks\":\"\"},\"colorscale\":[[0.0,\"#0d0887\"],[0.1111111111111111,\"#46039f\"],[0.2222222222222222,\"#7201a8\"],[0.3333333333333333,\"#9c179e\"],[0.4444444444444444,\"#bd3786\"],[0.5555555555555556,\"#d8576b\"],[0.6666666666666666,\"#ed7953\"],[0.7777777777777778,\"#fb9f3a\"],[0.8888888888888888,\"#fdca26\"],[1.0,\"#f0f921\"]]}],\"heatmapgl\":[{\"type\":\"heatmapgl\",\"colorbar\":{\"outlinewidth\":0,\"ticks\":\"\"},\"colorscale\":[[0.0,\"#0d0887\"],[0.1111111111111111,\"#46039f\"],[0.2222222222222222,\"#7201a8\"],[0.3333333333333333,\"#9c179e\"],[0.4444444444444444,\"#bd3786\"],[0.5555555555555556,\"#d8576b\"],[0.6666666666666666,\"#ed7953\"],[0.7777777777777778,\"#fb9f3a\"],[0.8888888888888888,\"#fdca26\"],[1.0,\"#f0f921\"]]}],\"contourcarpet\":[{\"type\":\"contourcarpet\",\"colorbar\":{\"outlinewidth\":0,\"ticks\":\"\"}}],\"contour\":[{\"type\":\"contour\",\"colorbar\":{\"outlinewidth\":0,\"ticks\":\"\"},\"colorscale\":[[0.0,\"#0d0887\"],[0.1111111111111111,\"#46039f\"],[0.2222222222222222,\"#7201a8\"],[0.3333333333333333,\"#9c179e\"],[0.4444444444444444,\"#bd3786\"],[0.5555555555555556,\"#d8576b\"],[0.6666666666666666,\"#ed7953\"],[0.7777777777777778,\"#fb9f3a\"],[0.8888888888888888,\"#fdca26\"],[1.0,\"#f0f921\"]]}],\"surface\":[{\"type\":\"surface\",\"colorbar\":{\"outlinewidth\":0,\"ticks\":\"\"},\"colorscale\":[[0.0,\"#0d0887\"],[0.1111111111111111,\"#46039f\"],[0.2222222222222222,\"#7201a8\"],[0.3333333333333333,\"#9c179e\"],[0.4444444444444444,\"#bd3786\"],[0.5555555555555556,\"#d8576b\"],[0.6666666666666666,\"#ed7953\"],[0.7777777777777778,\"#fb9f3a\"],[0.8888888888888888,\"#fdca26\"],[1.0,\"#f0f921\"]]}],\"mesh3d\":[{\"type\":\"mesh3d\",\"colorbar\":{\"outlinewidth\":0,\"ticks\":\"\"}}],\"scatter\":[{\"fillpattern\":{\"fillmode\":\"overlay\",\"size\":10,\"solidity\":0.2},\"type\":\"scatter\"}],\"parcoords\":[{\"type\":\"parcoords\",\"line\":{\"colorbar\":{\"outlinewidth\":0,\"ticks\":\"\"}}}],\"scatterpolargl\":[{\"type\":\"scatterpolargl\",\"marker\":{\"colorbar\":{\"outlinewidth\":0,\"ticks\":\"\"}}}],\"bar\":[{\"error_x\":{\"color\":\"#2a3f5f\"},\"error_y\":{\"color\":\"#2a3f5f\"},\"marker\":{\"line\":{\"color\":\"#E5ECF6\",\"width\":0.5},\"pattern\":{\"fillmode\":\"overlay\",\"size\":10,\"solidity\":0.2}},\"type\":\"bar\"}],\"scattergeo\":[{\"type\":\"scattergeo\",\"marker\":{\"colorbar\":{\"outlinewidth\":0,\"ticks\":\"\"}}}],\"scatterpolar\":[{\"type\":\"scatterpolar\",\"marker\":{\"colorbar\":{\"outlinewidth\":0,\"ticks\":\"\"}}}],\"histogram\":[{\"marker\":{\"pattern\":{\"fillmode\":\"overlay\",\"size\":10,\"solidity\":0.2}},\"type\":\"histogram\"}],\"scattergl\":[{\"type\":\"scattergl\",\"marker\":{\"colorbar\":{\"outlinewidth\":0,\"ticks\":\"\"}}}],\"scatter3d\":[{\"type\":\"scatter3d\",\"line\":{\"colorbar\":{\"outlinewidth\":0,\"ticks\":\"\"}},\"marker\":{\"colorbar\":{\"outlinewidth\":0,\"ticks\":\"\"}}}],\"scattermapbox\":[{\"type\":\"scattermapbox\",\"marker\":{\"colorbar\":{\"outlinewidth\":0,\"ticks\":\"\"}}}],\"scatterternary\":[{\"type\":\"scatterternary\",\"marker\":{\"colorbar\":{\"outlinewidth\":0,\"ticks\":\"\"}}}],\"scattercarpet\":[{\"type\":\"scattercarpet\",\"marker\":{\"colorbar\":{\"outlinewidth\":0,\"ticks\":\"\"}}}],\"carpet\":[{\"aaxis\":{\"endlinecolor\":\"#2a3f5f\",\"gridcolor\":\"white\",\"linecolor\":\"white\",\"minorgridcolor\":\"white\",\"startlinecolor\":\"#2a3f5f\"},\"baxis\":{\"endlinecolor\":\"#2a3f5f\",\"gridcolor\":\"white\",\"linecolor\":\"white\",\"minorgridcolor\":\"white\",\"startlinecolor\":\"#2a3f5f\"},\"type\":\"carpet\"}],\"table\":[{\"cells\":{\"fill\":{\"color\":\"#EBF0F8\"},\"line\":{\"color\":\"white\"}},\"header\":{\"fill\":{\"color\":\"#C8D4E3\"},\"line\":{\"color\":\"white\"}},\"type\":\"table\"}],\"barpolar\":[{\"marker\":{\"line\":{\"color\":\"#E5ECF6\",\"width\":0.5},\"pattern\":{\"fillmode\":\"overlay\",\"size\":10,\"solidity\":0.2}},\"type\":\"barpolar\"}],\"pie\":[{\"automargin\":true,\"type\":\"pie\"}]},\"layout\":{\"autotypenumbers\":\"strict\",\"colorway\":[\"#636efa\",\"#EF553B\",\"#00cc96\",\"#ab63fa\",\"#FFA15A\",\"#19d3f3\",\"#FF6692\",\"#B6E880\",\"#FF97FF\",\"#FECB52\"],\"font\":{\"color\":\"#2a3f5f\"},\"hovermode\":\"closest\",\"hoverlabel\":{\"align\":\"left\"},\"paper_bgcolor\":\"white\",\"plot_bgcolor\":\"#E5ECF6\",\"polar\":{\"bgcolor\":\"#E5ECF6\",\"angularaxis\":{\"gridcolor\":\"white\",\"linecolor\":\"white\",\"ticks\":\"\"},\"radialaxis\":{\"gridcolor\":\"white\",\"linecolor\":\"white\",\"ticks\":\"\"}},\"ternary\":{\"bgcolor\":\"#E5ECF6\",\"aaxis\":{\"gridcolor\":\"white\",\"linecolor\":\"white\",\"ticks\":\"\"},\"baxis\":{\"gridcolor\":\"white\",\"linecolor\":\"white\",\"ticks\":\"\"},\"caxis\":{\"gridcolor\":\"white\",\"linecolor\":\"white\",\"ticks\":\"\"}},\"coloraxis\":{\"colorbar\":{\"outlinewidth\":0,\"ticks\":\"\"}},\"colorscale\":{\"sequential\":[[0.0,\"#0d0887\"],[0.1111111111111111,\"#46039f\"],[0.2222222222222222,\"#7201a8\"],[0.3333333333333333,\"#9c179e\"],[0.4444444444444444,\"#bd3786\"],[0.5555555555555556,\"#d8576b\"],[0.6666666666666666,\"#ed7953\"],[0.7777777777777778,\"#fb9f3a\"],[0.8888888888888888,\"#fdca26\"],[1.0,\"#f0f921\"]],\"sequentialminus\":[[0.0,\"#0d0887\"],[0.1111111111111111,\"#46039f\"],[0.2222222222222222,\"#7201a8\"],[0.3333333333333333,\"#9c179e\"],[0.4444444444444444,\"#bd3786\"],[0.5555555555555556,\"#d8576b\"],[0.6666666666666666,\"#ed7953\"],[0.7777777777777778,\"#fb9f3a\"],[0.8888888888888888,\"#fdca26\"],[1.0,\"#f0f921\"]],\"diverging\":[[0,\"#8e0152\"],[0.1,\"#c51b7d\"],[0.2,\"#de77ae\"],[0.3,\"#f1b6da\"],[0.4,\"#fde0ef\"],[0.5,\"#f7f7f7\"],[0.6,\"#e6f5d0\"],[0.7,\"#b8e186\"],[0.8,\"#7fbc41\"],[0.9,\"#4d9221\"],[1,\"#276419\"]]},\"xaxis\":{\"gridcolor\":\"white\",\"linecolor\":\"white\",\"ticks\":\"\",\"title\":{\"standoff\":15},\"zerolinecolor\":\"white\",\"automargin\":true,\"zerolinewidth\":2},\"yaxis\":{\"gridcolor\":\"white\",\"linecolor\":\"white\",\"ticks\":\"\",\"title\":{\"standoff\":15},\"zerolinecolor\":\"white\",\"automargin\":true,\"zerolinewidth\":2},\"scene\":{\"xaxis\":{\"backgroundcolor\":\"#E5ECF6\",\"gridcolor\":\"white\",\"linecolor\":\"white\",\"showbackground\":true,\"ticks\":\"\",\"zerolinecolor\":\"white\",\"gridwidth\":2},\"yaxis\":{\"backgroundcolor\":\"#E5ECF6\",\"gridcolor\":\"white\",\"linecolor\":\"white\",\"showbackground\":true,\"ticks\":\"\",\"zerolinecolor\":\"white\",\"gridwidth\":2},\"zaxis\":{\"backgroundcolor\":\"#E5ECF6\",\"gridcolor\":\"white\",\"linecolor\":\"white\",\"showbackground\":true,\"ticks\":\"\",\"zerolinecolor\":\"white\",\"gridwidth\":2}},\"shapedefaults\":{\"line\":{\"color\":\"#2a3f5f\"}},\"annotationdefaults\":{\"arrowcolor\":\"#2a3f5f\",\"arrowhead\":0,\"arrowwidth\":1},\"geo\":{\"bgcolor\":\"white\",\"landcolor\":\"#E5ECF6\",\"subunitcolor\":\"white\",\"showland\":true,\"showlakes\":true,\"lakecolor\":\"white\"},\"title\":{\"x\":0.05},\"mapbox\":{\"style\":\"light\"}}},\"xaxis\":{\"anchor\":\"y\",\"domain\":[0.0,1.0],\"title\":{\"text\":\"Median Income\"}},\"yaxis\":{\"anchor\":\"x\",\"domain\":[0.0,1.0],\"title\":{\"text\":\"ShareWomen\"}},\"legend\":{\"title\":{\"text\":\"STEM\"},\"tracegroupgap\":0},\"margin\":{\"t\":60},\"title\":{\"text\":\"Majors by Median Income to Share of Women\",\"x\":0.5},\"autosize\":false,\"width\":800,\"height\":500},                        {\"responsive\": true}                    ).then(function(){\n",
       "                            \n",
       "var gd = document.getElementById('3f25cd26-4c7e-45bb-89fd-5ae9c3595983');\n",
       "var x = new MutationObserver(function (mutations, observer) {{\n",
       "        var display = window.getComputedStyle(gd).display;\n",
       "        if (!display || display === 'none') {{\n",
       "            console.log([gd, 'removed!']);\n",
       "            Plotly.purge(gd);\n",
       "            observer.disconnect();\n",
       "        }}\n",
       "}});\n",
       "\n",
       "// Listen for the removal of the full notebook cells\n",
       "var notebookContainer = gd.closest('#notebook-container');\n",
       "if (notebookContainer) {{\n",
       "    x.observe(notebookContainer, {childList: true});\n",
       "}}\n",
       "\n",
       "// Listen for the clearing of the current output cell\n",
       "var outputEl = gd.closest('.output');\n",
       "if (outputEl) {{\n",
       "    x.observe(outputEl, {childList: true});\n",
       "}}\n",
       "\n",
       "                        })                };                });            </script>        </div>"
      ]
     },
     "metadata": {},
     "output_type": "display_data"
    }
   ],
   "source": [
    "#Women majors\n",
    "women_df = DF_raw[['Major','Major_category', 'ShareWomen', 'Median']]\n",
    "women_df['STEM'] = women_df['Major_category'].isin(stem_majors)\n",
    "\n",
    "fig = px.scatter(women_df,\n",
    "                  x='Median',\n",
    "                  y='ShareWomen',\n",
    "                color='STEM',\n",
    "                hover_data='Major')\n",
    "\n",
    "fig.update_layout(title='Majors by Median Income to Share of Women',\n",
    "                  title_x=0.5,\n",
    "                  xaxis_title=\"Median Income\",\n",
    "                  autosize=False,\n",
    "                  width=800,\n",
    "                  height=500)\n",
    "\n",
    "fig.show()"
   ]
  },
  {
   "cell_type": "markdown",
   "id": "c2d69589-cac9-487c-a683-18560d6ddabf",
   "metadata": {},
   "source": [
    "Women tend to be underrepresented in STEM majors compared to non-STEM fields, and are most well represented in majors with low prospective incomes."
   ]
  },
  {
   "cell_type": "markdown",
   "id": "b3df8412-b946-4812-ba3b-873fb0eb8d7c",
   "metadata": {},
   "source": [
    "### 4. Ask a question of interest to you."
   ]
  },
  {
   "cell_type": "code",
   "execution_count": 24,
   "id": "25a08e99-946a-4003-a477-1dc941e4357e",
   "metadata": {},
   "outputs": [],
   "source": [
    "#"
   ]
  },
  {
   "cell_type": "markdown",
   "id": "0940ef30-6ee7-42c8-8747-80f4b2bb8e3f",
   "metadata": {},
   "source": [
    "**(Click Here to Explain your Results)**"
   ]
  },
  {
   "cell_type": "markdown",
   "id": "f3d04f7b-94a9-4a1e-bbaf-e26029bdfed1",
   "metadata": {},
   "source": []
  },
  {
   "cell_type": "code",
   "execution_count": null,
   "id": "8569acec-f8ab-4866-81f3-2313770daa96",
   "metadata": {},
   "outputs": [],
   "source": []
  }
 ],
 "metadata": {
  "kernelspec": {
   "display_name": "Python 3 (ipykernel)",
   "language": "python",
   "name": "python3"
  },
  "language_info": {
   "codemirror_mode": {
    "name": "ipython",
    "version": 3
   },
   "file_extension": ".py",
   "mimetype": "text/x-python",
   "name": "python",
   "nbconvert_exporter": "python",
   "pygments_lexer": "ipython3",
   "version": "3.12.2"
  }
 },
 "nbformat": 4,
 "nbformat_minor": 5
}
